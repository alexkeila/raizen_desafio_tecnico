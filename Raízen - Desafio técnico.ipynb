{
  "nbformat": 4,
  "nbformat_minor": 0,
  "metadata": {
    "colab": {
      "provenance": [],
      "collapsed_sections": [
        "wTY34VLeRlhm",
        "Pc8TKGQ4OryH",
        "SXdpDw0aRAAi",
        "aQxdgkskQ-Ak",
        "wHsNWWWBW5kW",
        "ecdM6RO3vwbx",
        "HYoh7Z-elYx3",
        "bcnAiKj-lkOT",
        "DANDrl0i9Vxt",
        "rM_tdxIS9rOv",
        "aMVK-ytIbMW0",
        "vjwbPsCy-pZ3",
        "80ctm0ECbRbZ",
        "PTpy5YQ1y5XY",
        "CWUKuWNo8zFE",
        "g6mpAxTLz7fD"
      ]
    },
    "kernelspec": {
      "name": "python3",
      "display_name": "Python 3"
    },
    "language_info": {
      "name": "python"
    }
  },
  "cells": [
    {
      "cell_type": "markdown",
      "source": [
        "# **Forecast number of people that uses the NYC metro:**"
      ],
      "metadata": {
        "id": "nfWsBcLiRK48"
      }
    },
    {
      "cell_type": "markdown",
      "source": [
        "## Transcribing the exercise description:"
      ],
      "metadata": {
        "id": "wTY34VLeRlhm"
      }
    },
    {
      "cell_type": "markdown",
      "source": [
        "### **Goal:**\n",
        "\n",
        "The main goal is to forecast the number of people that uses the metro. You can let the imagination work and do this the way you prefer, chosing the temporal/spatial sampling rate (by station/turnstile, day/hour/week etc). This choice is part of the challenge.\n",
        "\n",
        "### **Observation:**\n",
        "Please, do not put everything in a huge ANN model directly, take a nice look at the data and perform a great exploratory data analysis. We prefer to receive the results in a notebook way, but if you wish to provide a nice script, there is no problem =) (If it's nicely commented, of course).\n",
        "\n",
        "\n",
        "### **Dataset:**\n",
        "\n",
        "Download url: https://drive.google.com/file/d/1CuE9I4x0_Agm2BMkWfnSSbiGm0-pTDuc/view?usp=sharing\n",
        "\n",
        "\n",
        "\n",
        "---\n",
        "\n",
        "### **Metadata:**\n",
        "\n",
        "Fields descriptions:\n",
        "\n",
        "- TIME = Represents the date (YYYY-MM-DD) and time (hh:mm:ss) for a scheduled audit event\n",
        "\n",
        "- CA = Control Area (A002)\n",
        "\n",
        "- UNIT = Remote Unit for a station (R051)\n",
        "\n",
        "- SCP = Subunit Channel Position represents an specific address for a device (02-00-00)\n",
        "\n",
        "- STATION = Represents the station name the device is located at\n",
        "\n",
        "- LINENAME = Represents all train lines that can be boarded at this station. Normally lines are represented by one character. LINENAME 456NQR repersents train server for 4, 5, 6, N, Q, and R trains.\n",
        "\n",
        "- DIVISION = Represents the Line originally the station belonged to BMT, IRT, or IND\n",
        "\n",
        "- DESC = Represent the REGULAR scheduled audit event (Normally occurs every 4 hours)\n",
        "  1. Audits may occur more than 4 hours due to planning, or troubleshooting activities.\n",
        "  2. Additionally, there may be a RECOVR AUD entry This refers to a missed audit that was recovered.\n",
        "\n",
        "- ENTRIES = The comulative entry register value for a device\n",
        "\n",
        "- EXIST = The cumulative exit register value for a device"
      ],
      "metadata": {
        "id": "vooP6CJuR1HU"
      }
    },
    {
      "cell_type": "markdown",
      "source": [
        "## Beginning of the code section:"
      ],
      "metadata": {
        "id": "rohGZCjGUG90"
      }
    },
    {
      "cell_type": "markdown",
      "source": [
        "### All necessary libraries are reunited on the cell below for better organization:"
      ],
      "metadata": {
        "id": "Pc8TKGQ4OryH"
      }
    },
    {
      "cell_type": "code",
      "metadata": {
        "id": "BRiiKb3dC7vS"
      },
      "source": [
        "# libraries to read and unzip files:\n",
        "import gzip\n",
        "import zipfile as zf\n",
        "from google.colab import drive\n",
        "\n",
        "# library to run things in parallel:\n",
        "from multiprocessing import Pool\n",
        "\n",
        "# libraries for basic data manipulation:\n",
        "import numpy as np\n",
        "import pandas as pd\n",
        "\n",
        "# libraries to make plots and visualizations:\n",
        "import seaborn as sns\n",
        "import matplotlib.pyplot as plt\n",
        "\n",
        "# libraries to extract and manipulate data from APIs:\n",
        "import json\n",
        "import requests\n",
        "\n",
        "# libraries to work with dates and times:\n",
        "import time\n",
        "import calendar\n",
        "import datetime as dt\n",
        "\n",
        "# libraries related to Machine Learning:\n",
        "from sklearn.model_selection import train_test_split\n",
        "from sklearn.model_selection import cross_val_score\n",
        "from sklearn.ensemble import RandomForestRegressor\n",
        "from sklearn.tree import DecisionTreeRegressor"
      ],
      "execution_count": null,
      "outputs": []
    },
    {
      "cell_type": "markdown",
      "source": [
        "### All necessary functions created are declared on the cell below:"
      ],
      "metadata": {
        "id": "SXdpDw0aRAAi"
      }
    },
    {
      "cell_type": "code",
      "metadata": {
        "id": "UFFx80bUEy0A"
      },
      "source": [
        "# function to read and unzip the file for a given year:\n",
        "def read_file(year, dataset_path='/content/drive/MyDrive/Data Science/NYC Subway Dataset'):\n",
        "    \"\"\"\n",
        "    Function to read and unzip the file for a given year\n",
        "\n",
        "    This function was based on the content of this article:\n",
        "    https://python.plainenglish.io/pandas-and-multiprocessing-how-to-create-dataframes-in-a-parallel-way-72f9b18ea72f\n",
        "\n",
        "    Parameters:\n",
        "    year (str): year of the file wanted to be read and unzipped\n",
        "\n",
        "    Returns:\n",
        "    dataframe: content of the file unzipped\n",
        "    \"\"\"\n",
        "\n",
        "    with gzip.open('{}/{}.csv.gz'.format(dataset_path, year), 'rb') as gz_file:\n",
        "        df = pd.read_csv(gz_file)\n",
        "\n",
        "        # removing the rows with columns 'entries' and 'exits' with null value, because it is not useful without the numerical columns:\n",
        "        df.dropna(subset=['entries', 'exits'], axis=0, inplace=True)\n",
        "\n",
        "        print('File from year: {} / Shape: {}'.format(year, df.shape))\n",
        "\n",
        "    return df\n",
        "\n",
        "# function to calculate the difference between current and previous value for the given column:\n",
        "def calculate_diff_values(df_device, column_name):\n",
        "    \"\"\"\n",
        "    Function to calculate the difference between current and previous value for the given column\n",
        "\n",
        "    Parameters:\n",
        "    df_device (dataframe): data of an unique device and already sorted by time\n",
        "    column_name (str): name of the needed column (entries or exits)\n",
        "\n",
        "    Returns:\n",
        "    dataframe: same input dataframe with a new column with the calculated difference\n",
        "\n",
        "    \"\"\"\n",
        "\n",
        "    diff_column_name = '{}_diff'.format(column_name)\n",
        "    df_device[diff_column_name] = df_device[column_name] - df_device[column_name].shift(1)\n",
        "\n",
        "    return df_device\n"
      ],
      "execution_count": null,
      "outputs": []
    },
    {
      "cell_type": "markdown",
      "source": [
        "### 1 - Obtaining the dataset to use on the rest of the code:"
      ],
      "metadata": {
        "id": "aQxdgkskQ-Ak"
      }
    },
    {
      "cell_type": "markdown",
      "source": [
        "- Connect the [url to the dataset](https://drive.google.com/file/d/1CuE9I4x0_Agm2BMkWfnSSbiGm0-pTDuc/view?usp=sharing) to the environment I am using (Google Colab);\n",
        "- Unzip the .zip file and then the .gz files;\n",
        "- Merge all the files in one dataframe."
      ],
      "metadata": {
        "id": "yyVm3uH_Y7M3"
      }
    },
    {
      "cell_type": "code",
      "source": [
        "# I have added a shortcut from the dataset url to my Google Drive,\n",
        "# so I mount my google drive to be accessible here on this notebook:\n",
        "drive.mount('/content/drive')"
      ],
      "metadata": {
        "colab": {
          "base_uri": "https://localhost:8080/"
        },
        "id": "VTnILNgp0dpd",
        "outputId": "28a21f46-f95e-4754-c1af-90e8ba7873fb"
      },
      "execution_count": null,
      "outputs": [
        {
          "output_type": "stream",
          "name": "stdout",
          "text": [
            "Mounted at /content/drive\n"
          ]
        }
      ]
    },
    {
      "cell_type": "code",
      "source": [
        "# path where the shortcut to the dataset is located:\n",
        "dataset_path = '/content/drive/MyDrive/Data Science/NYC Subway Dataset'\n",
        "\n",
        "# reading the zip file containing multiple files from the dataset:\n",
        "zip_file = zf.ZipFile('{}/dados_desafio.zip'.format(dataset_path))\n",
        "\n",
        "# unziping the zip file and saving the .gz files on the same folder:\n",
        "zip_file.extractall(path=dataset_path)"
      ],
      "metadata": {
        "id": "jHJ-QNqv1OzT"
      },
      "execution_count": null,
      "outputs": []
    },
    {
      "cell_type": "code",
      "source": [
        "# unziping all .gz files and adding all of them in one dataframe:\n",
        "\n",
        "# obs.: using the data from 2016 to 2017 (ignoring from 2010 to 2015), due to not enough memory on the environment I am using to save all years:\n",
        "years = [year for year in range(2016, 2018, 1)]\n",
        "\n",
        "# creating the pool:\n",
        "process_pool = Pool(processes=2)\n",
        "\n",
        "start = time.time()\n",
        "\n",
        "# Start processes in the pool\n",
        "df_results = process_pool.map(read_file, years)\n",
        "\n",
        "# Concat dataframes to one dataframe\n",
        "df = pd.concat(df_results, ignore_index=True)\n",
        "\n",
        "end = time.time()\n",
        "\n",
        "print('Shape of the final dataframe: {}'.format(df.shape))\n",
        "print('Completed in: %s sec'%(end - start))\n",
        "\n",
        "# there are ~38 million rows on this dataframe (from 2014 to 2017)!!\n",
        "# there are ~17 million rows on this dataframe (from 2016 to 2017)!!"
      ],
      "metadata": {
        "colab": {
          "base_uri": "https://localhost:8080/"
        },
        "id": "kjSahy3bVQHK",
        "outputId": "3c32e0f2-a2ca-4040-bbe9-cf108e0f1253"
      },
      "execution_count": null,
      "outputs": [
        {
          "output_type": "stream",
          "name": "stdout",
          "text": [
            "File from year: 2017 / Shape: (7466025, 10)\n",
            "File from year: 2016 / Shape: (10130791, 10)\n",
            "Shape of the final dataframe: (17596816, 10)\n",
            "Completed in: 45.675742387771606 sec\n"
          ]
        }
      ]
    },
    {
      "cell_type": "code",
      "source": [
        "# checking if the content of the dataframe is as expected:\n",
        "df.sample(10)"
      ],
      "metadata": {
        "id": "vBCArrcscPqX",
        "colab": {
          "base_uri": "https://localhost:8080/"
        },
        "outputId": "7370dcb7-af08-44f7-cb9f-f151e168c5d0"
      },
      "execution_count": null,
      "outputs": [
        {
          "output_type": "execute_result",
          "data": {
            "text/html": [
              "\n",
              "  <div id=\"df-c5b408a5-ce33-4ccc-b992-81f70317b2b3\">\n",
              "    <div class=\"colab-df-container\">\n",
              "      <div>\n",
              "<style scoped>\n",
              "    .dataframe tbody tr th:only-of-type {\n",
              "        vertical-align: middle;\n",
              "    }\n",
              "\n",
              "    .dataframe tbody tr th {\n",
              "        vertical-align: top;\n",
              "    }\n",
              "\n",
              "    .dataframe thead th {\n",
              "        text-align: right;\n",
              "    }\n",
              "</style>\n",
              "<table border=\"1\" class=\"dataframe\">\n",
              "  <thead>\n",
              "    <tr style=\"text-align: right;\">\n",
              "      <th></th>\n",
              "      <th>time</th>\n",
              "      <th>ca</th>\n",
              "      <th>unit</th>\n",
              "      <th>scp</th>\n",
              "      <th>station</th>\n",
              "      <th>linename</th>\n",
              "      <th>division</th>\n",
              "      <th>desc</th>\n",
              "      <th>entries</th>\n",
              "      <th>exits</th>\n",
              "    </tr>\n",
              "  </thead>\n",
              "  <tbody>\n",
              "    <tr>\n",
              "      <th>7534073</th>\n",
              "      <td>2016-09-28 13:00:00</td>\n",
              "      <td>N001</td>\n",
              "      <td>R173</td>\n",
              "      <td>01-06-02</td>\n",
              "      <td>INWOOD-207 ST</td>\n",
              "      <td>A</td>\n",
              "      <td>IND</td>\n",
              "      <td>REGULAR</td>\n",
              "      <td>428256.0</td>\n",
              "      <td>340256.0</td>\n",
              "    </tr>\n",
              "    <tr>\n",
              "      <th>4851998</th>\n",
              "      <td>2016-06-23 08:00:00</td>\n",
              "      <td>A025</td>\n",
              "      <td>R023</td>\n",
              "      <td>01-00-03</td>\n",
              "      <td>34 ST-HERALD SQ</td>\n",
              "      <td>BDFMNQR</td>\n",
              "      <td>BMT</td>\n",
              "      <td>REGULAR</td>\n",
              "      <td>4686179.0</td>\n",
              "      <td>1147331.0</td>\n",
              "    </tr>\n",
              "    <tr>\n",
              "      <th>10883476</th>\n",
              "      <td>2017-01-28 01:00:00</td>\n",
              "      <td>N333B</td>\n",
              "      <td>R141</td>\n",
              "      <td>02-00-03</td>\n",
              "      <td>FOREST HILLS 71</td>\n",
              "      <td>EFMR</td>\n",
              "      <td>IND</td>\n",
              "      <td>REGULAR</td>\n",
              "      <td>6775085.0</td>\n",
              "      <td>413624.0</td>\n",
              "    </tr>\n",
              "    <tr>\n",
              "      <th>17335223</th>\n",
              "      <td>2017-09-13 21:00:00</td>\n",
              "      <td>N208</td>\n",
              "      <td>R443</td>\n",
              "      <td>01-00-00</td>\n",
              "      <td>170 ST</td>\n",
              "      <td>BD</td>\n",
              "      <td>IND</td>\n",
              "      <td>REGULAR</td>\n",
              "      <td>134802.0</td>\n",
              "      <td>54582.0</td>\n",
              "    </tr>\n",
              "    <tr>\n",
              "      <th>15326332</th>\n",
              "      <td>2017-07-04 21:00:00</td>\n",
              "      <td>R523</td>\n",
              "      <td>R147</td>\n",
              "      <td>00-00-02</td>\n",
              "      <td>61 ST WOODSIDE</td>\n",
              "      <td>7</td>\n",
              "      <td>IRT</td>\n",
              "      <td>REGULAR</td>\n",
              "      <td>6576552.0</td>\n",
              "      <td>11374110.0</td>\n",
              "    </tr>\n",
              "    <tr>\n",
              "      <th>4176036</th>\n",
              "      <td>2016-05-29 21:00:00</td>\n",
              "      <td>N333A</td>\n",
              "      <td>R141</td>\n",
              "      <td>00-00-03</td>\n",
              "      <td>FOREST HILLS 71</td>\n",
              "      <td>EFMR</td>\n",
              "      <td>IND</td>\n",
              "      <td>REGULAR</td>\n",
              "      <td>515789.0</td>\n",
              "      <td>123887.0</td>\n",
              "    </tr>\n",
              "    <tr>\n",
              "      <th>1240193</th>\n",
              "      <td>2016-02-14 13:00:00</td>\n",
              "      <td>B027</td>\n",
              "      <td>R136</td>\n",
              "      <td>00-00-04</td>\n",
              "      <td>SHEEPSHEAD BAY</td>\n",
              "      <td>BQ</td>\n",
              "      <td>BMT</td>\n",
              "      <td>REGULAR</td>\n",
              "      <td>9698703.0</td>\n",
              "      <td>6582242.0</td>\n",
              "    </tr>\n",
              "    <tr>\n",
              "      <th>8640006</th>\n",
              "      <td>2016-11-07 20:00:00</td>\n",
              "      <td>N191</td>\n",
              "      <td>R335</td>\n",
              "      <td>00-00-01</td>\n",
              "      <td>BEACH 67 ST</td>\n",
              "      <td>A</td>\n",
              "      <td>IND</td>\n",
              "      <td>REGULAR</td>\n",
              "      <td>3437927.0</td>\n",
              "      <td>3667249.0</td>\n",
              "    </tr>\n",
              "    <tr>\n",
              "      <th>9028533</th>\n",
              "      <td>2016-11-22 00:00:00</td>\n",
              "      <td>B021</td>\n",
              "      <td>R228</td>\n",
              "      <td>00-04-01</td>\n",
              "      <td>AVENUE J</td>\n",
              "      <td>BQ</td>\n",
              "      <td>BMT</td>\n",
              "      <td>REGULAR</td>\n",
              "      <td>10.0</td>\n",
              "      <td>104.0</td>\n",
              "    </tr>\n",
              "    <tr>\n",
              "      <th>14363680</th>\n",
              "      <td>2017-05-31 18:00:00</td>\n",
              "      <td>N304</td>\n",
              "      <td>R015</td>\n",
              "      <td>01-06-01</td>\n",
              "      <td>5 AV/53 ST</td>\n",
              "      <td>EM</td>\n",
              "      <td>IND</td>\n",
              "      <td>REGULAR</td>\n",
              "      <td>2731771.0</td>\n",
              "      <td>2569940.0</td>\n",
              "    </tr>\n",
              "  </tbody>\n",
              "</table>\n",
              "</div>\n",
              "      <button class=\"colab-df-convert\" onclick=\"convertToInteractive('df-c5b408a5-ce33-4ccc-b992-81f70317b2b3')\"\n",
              "              title=\"Convert this dataframe to an interactive table.\"\n",
              "              style=\"display:none;\">\n",
              "        \n",
              "  <svg xmlns=\"http://www.w3.org/2000/svg\" height=\"24px\"viewBox=\"0 0 24 24\"\n",
              "       width=\"24px\">\n",
              "    <path d=\"M0 0h24v24H0V0z\" fill=\"none\"/>\n",
              "    <path d=\"M18.56 5.44l.94 2.06.94-2.06 2.06-.94-2.06-.94-.94-2.06-.94 2.06-2.06.94zm-11 1L8.5 8.5l.94-2.06 2.06-.94-2.06-.94L8.5 2.5l-.94 2.06-2.06.94zm10 10l.94 2.06.94-2.06 2.06-.94-2.06-.94-.94-2.06-.94 2.06-2.06.94z\"/><path d=\"M17.41 7.96l-1.37-1.37c-.4-.4-.92-.59-1.43-.59-.52 0-1.04.2-1.43.59L10.3 9.45l-7.72 7.72c-.78.78-.78 2.05 0 2.83L4 21.41c.39.39.9.59 1.41.59.51 0 1.02-.2 1.41-.59l7.78-7.78 2.81-2.81c.8-.78.8-2.07 0-2.86zM5.41 20L4 18.59l7.72-7.72 1.47 1.35L5.41 20z\"/>\n",
              "  </svg>\n",
              "      </button>\n",
              "      \n",
              "  <style>\n",
              "    .colab-df-container {\n",
              "      display:flex;\n",
              "      flex-wrap:wrap;\n",
              "      gap: 12px;\n",
              "    }\n",
              "\n",
              "    .colab-df-convert {\n",
              "      background-color: #E8F0FE;\n",
              "      border: none;\n",
              "      border-radius: 50%;\n",
              "      cursor: pointer;\n",
              "      display: none;\n",
              "      fill: #1967D2;\n",
              "      height: 32px;\n",
              "      padding: 0 0 0 0;\n",
              "      width: 32px;\n",
              "    }\n",
              "\n",
              "    .colab-df-convert:hover {\n",
              "      background-color: #E2EBFA;\n",
              "      box-shadow: 0px 1px 2px rgba(60, 64, 67, 0.3), 0px 1px 3px 1px rgba(60, 64, 67, 0.15);\n",
              "      fill: #174EA6;\n",
              "    }\n",
              "\n",
              "    [theme=dark] .colab-df-convert {\n",
              "      background-color: #3B4455;\n",
              "      fill: #D2E3FC;\n",
              "    }\n",
              "\n",
              "    [theme=dark] .colab-df-convert:hover {\n",
              "      background-color: #434B5C;\n",
              "      box-shadow: 0px 1px 3px 1px rgba(0, 0, 0, 0.15);\n",
              "      filter: drop-shadow(0px 1px 2px rgba(0, 0, 0, 0.3));\n",
              "      fill: #FFFFFF;\n",
              "    }\n",
              "  </style>\n",
              "\n",
              "      <script>\n",
              "        const buttonEl =\n",
              "          document.querySelector('#df-c5b408a5-ce33-4ccc-b992-81f70317b2b3 button.colab-df-convert');\n",
              "        buttonEl.style.display =\n",
              "          google.colab.kernel.accessAllowed ? 'block' : 'none';\n",
              "\n",
              "        async function convertToInteractive(key) {\n",
              "          const element = document.querySelector('#df-c5b408a5-ce33-4ccc-b992-81f70317b2b3');\n",
              "          const dataTable =\n",
              "            await google.colab.kernel.invokeFunction('convertToInteractive',\n",
              "                                                     [key], {});\n",
              "          if (!dataTable) return;\n",
              "\n",
              "          const docLinkHtml = 'Like what you see? Visit the ' +\n",
              "            '<a target=\"_blank\" href=https://colab.research.google.com/notebooks/data_table.ipynb>data table notebook</a>'\n",
              "            + ' to learn more about interactive tables.';\n",
              "          element.innerHTML = '';\n",
              "          dataTable['output_type'] = 'display_data';\n",
              "          await google.colab.output.renderOutput(dataTable, element);\n",
              "          const docLink = document.createElement('div');\n",
              "          docLink.innerHTML = docLinkHtml;\n",
              "          element.appendChild(docLink);\n",
              "        }\n",
              "      </script>\n",
              "    </div>\n",
              "  </div>\n",
              "  "
            ],
            "text/plain": [
              "                         time     ca  unit  ...     desc    entries       exits\n",
              "7534073   2016-09-28 13:00:00   N001  R173  ...  REGULAR   428256.0    340256.0\n",
              "4851998   2016-06-23 08:00:00   A025  R023  ...  REGULAR  4686179.0   1147331.0\n",
              "10883476  2017-01-28 01:00:00  N333B  R141  ...  REGULAR  6775085.0    413624.0\n",
              "17335223  2017-09-13 21:00:00   N208  R443  ...  REGULAR   134802.0     54582.0\n",
              "15326332  2017-07-04 21:00:00   R523  R147  ...  REGULAR  6576552.0  11374110.0\n",
              "4176036   2016-05-29 21:00:00  N333A  R141  ...  REGULAR   515789.0    123887.0\n",
              "1240193   2016-02-14 13:00:00   B027  R136  ...  REGULAR  9698703.0   6582242.0\n",
              "8640006   2016-11-07 20:00:00   N191  R335  ...  REGULAR  3437927.0   3667249.0\n",
              "9028533   2016-11-22 00:00:00   B021  R228  ...  REGULAR       10.0       104.0\n",
              "14363680  2017-05-31 18:00:00   N304  R015  ...  REGULAR  2731771.0   2569940.0\n",
              "\n",
              "[10 rows x 10 columns]"
            ]
          },
          "metadata": {},
          "execution_count": 7
        }
      ]
    },
    {
      "cell_type": "markdown",
      "source": [
        "### 2 - Preparing the dataset:"
      ],
      "metadata": {
        "id": "wHsNWWWBW5kW"
      }
    },
    {
      "cell_type": "markdown",
      "source": [
        "- Check for missing values;\n",
        "- Adjust the data types of each column, if necessary;\n"
      ],
      "metadata": {
        "id": "2giBwGuNYKZk"
      }
    },
    {
      "cell_type": "code",
      "source": [
        "##################################################\n",
        "# NO MISSING VALUES FROM 2016 TO 2017!!!\n",
        "# PLEASE IGNORE THIS CELL!!!\n",
        "# MAINTAINED HERE FOR INFORMATIONAL PURPOSE ONLY!!\n",
        "##################################################\n",
        "\n",
        "# checking if there are some missing values:\n",
        "#df['station'].isnull().sum() # 160535 missing values for station (for a bigger dataset, with more years)\n",
        "#df['linename'].isnull().sum() # 160535 missing values for linename (for a bigger dataset, with more years)\n",
        "#df['division'].isnull().sum() # 160535 missing values for division (for a bigger dataset, with more years)\n",
        "\n",
        "#num_missing = np.round(160535/17596816 * 100, 2)\n",
        "\n",
        "#print('Only {}% of rows with missing values, so I decided to remove them!'.format(num_missing))\n",
        "\n",
        "#df.dropna(subset=['station', 'linename', 'division'], axis=0, inplace=True)\n",
        "#print(df.shape)"
      ],
      "metadata": {
        "colab": {
          "base_uri": "https://localhost:8080/"
        },
        "id": "DPWgFmjoQHMQ",
        "outputId": "7c831e94-06cf-44a0-a671-2a8e0ccfe5c3"
      },
      "execution_count": null,
      "outputs": [
        {
          "output_type": "execute_result",
          "data": {
            "text/plain": [
              "0"
            ]
          },
          "metadata": {},
          "execution_count": 10
        }
      ]
    },
    {
      "cell_type": "code",
      "metadata": {
        "colab": {
          "base_uri": "https://localhost:8080/"
        },
        "id": "5C5ntLR6JtDd",
        "outputId": "bd9e5f48-437b-406c-984c-10a670ea98e2"
      },
      "source": [
        "# what are the best data types for each column?\n",
        "df.info()"
      ],
      "execution_count": null,
      "outputs": [
        {
          "output_type": "stream",
          "name": "stdout",
          "text": [
            "<class 'pandas.core.frame.DataFrame'>\n",
            "RangeIndex: 17596816 entries, 0 to 17596815\n",
            "Data columns (total 10 columns):\n",
            " #   Column    Dtype  \n",
            "---  ------    -----  \n",
            " 0   time      object \n",
            " 1   ca        object \n",
            " 2   unit      object \n",
            " 3   scp       object \n",
            " 4   station   object \n",
            " 5   linename  object \n",
            " 6   division  object \n",
            " 7   desc      object \n",
            " 8   entries   float64\n",
            " 9   exits     float64\n",
            "dtypes: float64(2), object(8)\n",
            "memory usage: 1.3+ GB\n"
          ]
        }
      ]
    },
    {
      "cell_type": "code",
      "metadata": {
        "id": "eN-KTQ3yJ6t3"
      },
      "source": [
        "# forcing the quantitative variables to a integer number:\n",
        "# obs: when I tried to make this castings,\n",
        "# I ran out of memory on Google Colab, so I did not change to integer (not so essencial to the rest of the code)\n",
        "\n",
        "#df['entries'] = df['entries'].astype(int)\n",
        "#df['exits'] = df['exits'].astype(int)\n",
        "\n",
        "# changing the date variable to timestamp type:\n",
        "df['time'] = pd.to_datetime(df['time'])"
      ],
      "execution_count": null,
      "outputs": []
    },
    {
      "cell_type": "code",
      "metadata": {
        "colab": {
          "base_uri": "https://localhost:8080/"
        },
        "id": "fq5ds121cmx2",
        "outputId": "67f603ac-0566-45af-8e34-996ca6457aae"
      },
      "source": [
        "# checking the data types again to make sure the data type adjustments worked:\n",
        "df.info()"
      ],
      "execution_count": null,
      "outputs": [
        {
          "output_type": "stream",
          "name": "stdout",
          "text": [
            "<class 'pandas.core.frame.DataFrame'>\n",
            "RangeIndex: 17596816 entries, 0 to 17596815\n",
            "Data columns (total 10 columns):\n",
            " #   Column    Dtype         \n",
            "---  ------    -----         \n",
            " 0   time      datetime64[ns]\n",
            " 1   ca        object        \n",
            " 2   unit      object        \n",
            " 3   scp       object        \n",
            " 4   station   object        \n",
            " 5   linename  object        \n",
            " 6   division  object        \n",
            " 7   desc      object        \n",
            " 8   entries   float64       \n",
            " 9   exits     float64       \n",
            "dtypes: datetime64[ns](1), float64(2), object(7)\n",
            "memory usage: 1.3+ GB\n"
          ]
        }
      ]
    },
    {
      "cell_type": "code",
      "source": [
        "# creating new columns related to date and time:\n",
        "df['year'] = df['time'].dt.year\n",
        "df['month'] = df['time'].dt.month\n",
        "df['day'] = df['time'].dt.day\n",
        "\n",
        "df['week_day'] = df['time'].dt.dayofweek\n",
        "df['date'] = df['time'].dt.date\n",
        "df['hour'] = df['time'].dt.hour\n",
        "\n",
        "df.head()"
      ],
      "metadata": {
        "colab": {
          "base_uri": "https://localhost:8080/",
          "height": 206
        },
        "id": "q_A3vbwAvKSe",
        "outputId": "1bfa0132-05b4-46f9-dd0e-c961e3247f0c"
      },
      "execution_count": null,
      "outputs": [
        {
          "output_type": "execute_result",
          "data": {
            "text/html": [
              "\n",
              "  <div id=\"df-860588a8-2cc9-447d-9571-60c828f45695\">\n",
              "    <div class=\"colab-df-container\">\n",
              "      <div>\n",
              "<style scoped>\n",
              "    .dataframe tbody tr th:only-of-type {\n",
              "        vertical-align: middle;\n",
              "    }\n",
              "\n",
              "    .dataframe tbody tr th {\n",
              "        vertical-align: top;\n",
              "    }\n",
              "\n",
              "    .dataframe thead th {\n",
              "        text-align: right;\n",
              "    }\n",
              "</style>\n",
              "<table border=\"1\" class=\"dataframe\">\n",
              "  <thead>\n",
              "    <tr style=\"text-align: right;\">\n",
              "      <th></th>\n",
              "      <th>time</th>\n",
              "      <th>ca</th>\n",
              "      <th>unit</th>\n",
              "      <th>scp</th>\n",
              "      <th>station</th>\n",
              "      <th>linename</th>\n",
              "      <th>division</th>\n",
              "      <th>desc</th>\n",
              "      <th>entries</th>\n",
              "      <th>exits</th>\n",
              "      <th>year</th>\n",
              "      <th>month</th>\n",
              "      <th>day</th>\n",
              "      <th>week_day</th>\n",
              "      <th>date</th>\n",
              "      <th>hour</th>\n",
              "    </tr>\n",
              "  </thead>\n",
              "  <tbody>\n",
              "    <tr>\n",
              "      <th>0</th>\n",
              "      <td>2016-01-01</td>\n",
              "      <td>A002</td>\n",
              "      <td>R051</td>\n",
              "      <td>02-00-00</td>\n",
              "      <td>59 ST</td>\n",
              "      <td>NQR456</td>\n",
              "      <td>BMT</td>\n",
              "      <td>REGULAR</td>\n",
              "      <td>5477257.0</td>\n",
              "      <td>1848890.0</td>\n",
              "      <td>2016</td>\n",
              "      <td>1</td>\n",
              "      <td>1</td>\n",
              "      <td>4</td>\n",
              "      <td>2016-01-01</td>\n",
              "      <td>0</td>\n",
              "    </tr>\n",
              "    <tr>\n",
              "      <th>1</th>\n",
              "      <td>2016-01-01</td>\n",
              "      <td>A002</td>\n",
              "      <td>R051</td>\n",
              "      <td>02-00-01</td>\n",
              "      <td>59 ST</td>\n",
              "      <td>NQR456</td>\n",
              "      <td>BMT</td>\n",
              "      <td>REGULAR</td>\n",
              "      <td>5043156.0</td>\n",
              "      <td>1101348.0</td>\n",
              "      <td>2016</td>\n",
              "      <td>1</td>\n",
              "      <td>1</td>\n",
              "      <td>4</td>\n",
              "      <td>2016-01-01</td>\n",
              "      <td>0</td>\n",
              "    </tr>\n",
              "    <tr>\n",
              "      <th>2</th>\n",
              "      <td>2016-01-01</td>\n",
              "      <td>A002</td>\n",
              "      <td>R051</td>\n",
              "      <td>02-03-00</td>\n",
              "      <td>59 ST</td>\n",
              "      <td>NQR456</td>\n",
              "      <td>BMT</td>\n",
              "      <td>REGULAR</td>\n",
              "      <td>624029.0</td>\n",
              "      <td>2352788.0</td>\n",
              "      <td>2016</td>\n",
              "      <td>1</td>\n",
              "      <td>1</td>\n",
              "      <td>4</td>\n",
              "      <td>2016-01-01</td>\n",
              "      <td>0</td>\n",
              "    </tr>\n",
              "    <tr>\n",
              "      <th>3</th>\n",
              "      <td>2016-01-01</td>\n",
              "      <td>A002</td>\n",
              "      <td>R051</td>\n",
              "      <td>02-03-01</td>\n",
              "      <td>59 ST</td>\n",
              "      <td>NQR456</td>\n",
              "      <td>BMT</td>\n",
              "      <td>REGULAR</td>\n",
              "      <td>5006519.0</td>\n",
              "      <td>7904628.0</td>\n",
              "      <td>2016</td>\n",
              "      <td>1</td>\n",
              "      <td>1</td>\n",
              "      <td>4</td>\n",
              "      <td>2016-01-01</td>\n",
              "      <td>0</td>\n",
              "    </tr>\n",
              "    <tr>\n",
              "      <th>4</th>\n",
              "      <td>2016-01-01</td>\n",
              "      <td>A002</td>\n",
              "      <td>R051</td>\n",
              "      <td>02-03-02</td>\n",
              "      <td>59 ST</td>\n",
              "      <td>NQR456</td>\n",
              "      <td>BMT</td>\n",
              "      <td>REGULAR</td>\n",
              "      <td>4734413.0</td>\n",
              "      <td>6529179.0</td>\n",
              "      <td>2016</td>\n",
              "      <td>1</td>\n",
              "      <td>1</td>\n",
              "      <td>4</td>\n",
              "      <td>2016-01-01</td>\n",
              "      <td>0</td>\n",
              "    </tr>\n",
              "  </tbody>\n",
              "</table>\n",
              "</div>\n",
              "      <button class=\"colab-df-convert\" onclick=\"convertToInteractive('df-860588a8-2cc9-447d-9571-60c828f45695')\"\n",
              "              title=\"Convert this dataframe to an interactive table.\"\n",
              "              style=\"display:none;\">\n",
              "        \n",
              "  <svg xmlns=\"http://www.w3.org/2000/svg\" height=\"24px\"viewBox=\"0 0 24 24\"\n",
              "       width=\"24px\">\n",
              "    <path d=\"M0 0h24v24H0V0z\" fill=\"none\"/>\n",
              "    <path d=\"M18.56 5.44l.94 2.06.94-2.06 2.06-.94-2.06-.94-.94-2.06-.94 2.06-2.06.94zm-11 1L8.5 8.5l.94-2.06 2.06-.94-2.06-.94L8.5 2.5l-.94 2.06-2.06.94zm10 10l.94 2.06.94-2.06 2.06-.94-2.06-.94-.94-2.06-.94 2.06-2.06.94z\"/><path d=\"M17.41 7.96l-1.37-1.37c-.4-.4-.92-.59-1.43-.59-.52 0-1.04.2-1.43.59L10.3 9.45l-7.72 7.72c-.78.78-.78 2.05 0 2.83L4 21.41c.39.39.9.59 1.41.59.51 0 1.02-.2 1.41-.59l7.78-7.78 2.81-2.81c.8-.78.8-2.07 0-2.86zM5.41 20L4 18.59l7.72-7.72 1.47 1.35L5.41 20z\"/>\n",
              "  </svg>\n",
              "      </button>\n",
              "      \n",
              "  <style>\n",
              "    .colab-df-container {\n",
              "      display:flex;\n",
              "      flex-wrap:wrap;\n",
              "      gap: 12px;\n",
              "    }\n",
              "\n",
              "    .colab-df-convert {\n",
              "      background-color: #E8F0FE;\n",
              "      border: none;\n",
              "      border-radius: 50%;\n",
              "      cursor: pointer;\n",
              "      display: none;\n",
              "      fill: #1967D2;\n",
              "      height: 32px;\n",
              "      padding: 0 0 0 0;\n",
              "      width: 32px;\n",
              "    }\n",
              "\n",
              "    .colab-df-convert:hover {\n",
              "      background-color: #E2EBFA;\n",
              "      box-shadow: 0px 1px 2px rgba(60, 64, 67, 0.3), 0px 1px 3px 1px rgba(60, 64, 67, 0.15);\n",
              "      fill: #174EA6;\n",
              "    }\n",
              "\n",
              "    [theme=dark] .colab-df-convert {\n",
              "      background-color: #3B4455;\n",
              "      fill: #D2E3FC;\n",
              "    }\n",
              "\n",
              "    [theme=dark] .colab-df-convert:hover {\n",
              "      background-color: #434B5C;\n",
              "      box-shadow: 0px 1px 3px 1px rgba(0, 0, 0, 0.15);\n",
              "      filter: drop-shadow(0px 1px 2px rgba(0, 0, 0, 0.3));\n",
              "      fill: #FFFFFF;\n",
              "    }\n",
              "  </style>\n",
              "\n",
              "      <script>\n",
              "        const buttonEl =\n",
              "          document.querySelector('#df-860588a8-2cc9-447d-9571-60c828f45695 button.colab-df-convert');\n",
              "        buttonEl.style.display =\n",
              "          google.colab.kernel.accessAllowed ? 'block' : 'none';\n",
              "\n",
              "        async function convertToInteractive(key) {\n",
              "          const element = document.querySelector('#df-860588a8-2cc9-447d-9571-60c828f45695');\n",
              "          const dataTable =\n",
              "            await google.colab.kernel.invokeFunction('convertToInteractive',\n",
              "                                                     [key], {});\n",
              "          if (!dataTable) return;\n",
              "\n",
              "          const docLinkHtml = 'Like what you see? Visit the ' +\n",
              "            '<a target=\"_blank\" href=https://colab.research.google.com/notebooks/data_table.ipynb>data table notebook</a>'\n",
              "            + ' to learn more about interactive tables.';\n",
              "          element.innerHTML = '';\n",
              "          dataTable['output_type'] = 'display_data';\n",
              "          await google.colab.output.renderOutput(dataTable, element);\n",
              "          const docLink = document.createElement('div');\n",
              "          docLink.innerHTML = docLinkHtml;\n",
              "          element.appendChild(docLink);\n",
              "        }\n",
              "      </script>\n",
              "    </div>\n",
              "  </div>\n",
              "  "
            ],
            "text/plain": [
              "        time    ca  unit       scp  ... day week_day        date hour\n",
              "0 2016-01-01  A002  R051  02-00-00  ...   1        4  2016-01-01    0\n",
              "1 2016-01-01  A002  R051  02-00-01  ...   1        4  2016-01-01    0\n",
              "2 2016-01-01  A002  R051  02-03-00  ...   1        4  2016-01-01    0\n",
              "3 2016-01-01  A002  R051  02-03-01  ...   1        4  2016-01-01    0\n",
              "4 2016-01-01  A002  R051  02-03-02  ...   1        4  2016-01-01    0\n",
              "\n",
              "[5 rows x 16 columns]"
            ]
          },
          "metadata": {},
          "execution_count": 14
        }
      ]
    },
    {
      "cell_type": "markdown",
      "source": [
        "### 3 - Exploratory Data Analysis (EDA)"
      ],
      "metadata": {
        "id": "ecdM6RO3vwbx"
      }
    },
    {
      "cell_type": "markdown",
      "source": [
        "#### 3.1 - Checking the categorical variables:"
      ],
      "metadata": {
        "id": "HYoh7Z-elYx3"
      }
    },
    {
      "cell_type": "code",
      "source": [
        "# checking cardinality of each categorical variable:\n",
        "df['ca'].value_counts(dropna=False)\n",
        "\n",
        "# 737 different Control Areas\n",
        "# How to use this variable on a model??"
      ],
      "metadata": {
        "colab": {
          "base_uri": "https://localhost:8080/"
        },
        "id": "Lsq37lxDis5V",
        "outputId": "a4c5eb80-ab42-410e-898a-eee97250b8a7"
      },
      "execution_count": null,
      "outputs": [
        {
          "output_type": "execute_result",
          "data": {
            "text/plain": [
              "PTH05    93005\n",
              "R610     87532\n",
              "PTH16    79741\n",
              "PTH07    77613\n",
              "A046     73833\n",
              "         ...  \n",
              "OB01      7584\n",
              "J022      7574\n",
              "R630      7446\n",
              "PTH21     6950\n",
              "A085      3781\n",
              "Name: ca, Length: 737, dtype: int64"
            ]
          },
          "metadata": {},
          "execution_count": 15
        }
      ]
    },
    {
      "cell_type": "code",
      "source": [
        "# checking cardinality of each categorical variable:\n",
        "df['unit'].value_counts(dropna=False)\n",
        "\n",
        "# 470 different Units\n",
        "# How to use this variable on a model??"
      ],
      "metadata": {
        "colab": {
          "base_uri": "https://localhost:8080/"
        },
        "id": "SCpIB2yQiuCC",
        "outputId": "7504ffe1-b102-4648-ef86-655c6c0fb55b"
      },
      "execution_count": null,
      "outputs": [
        {
          "output_type": "execute_result",
          "data": {
            "text/plain": [
              "R549    235396\n",
              "R014    191484\n",
              "R057    186826\n",
              "R084    157618\n",
              "R550    157354\n",
              "         ...  \n",
              "R349      7731\n",
              "R397      7597\n",
              "R459      7584\n",
              "R435      7574\n",
              "R066      7446\n",
              "Name: unit, Length: 470, dtype: int64"
            ]
          },
          "metadata": {},
          "execution_count": 16
        }
      ]
    },
    {
      "cell_type": "code",
      "source": [
        "df['scp'].value_counts(dropna=False)\n",
        "\n",
        "# 237 different Subunit Channel Position\n",
        "# How to use this variable on a model??"
      ],
      "metadata": {
        "colab": {
          "base_uri": "https://localhost:8080/"
        },
        "id": "N2C0UPOLjK0B",
        "outputId": "20f7c233-b27b-45f8-9f3e-e74a50f95105"
      },
      "execution_count": null,
      "outputs": [
        {
          "output_type": "execute_result",
          "data": {
            "text/plain": [
              "00-00-00    1749290\n",
              "00-00-01    1739658\n",
              "00-00-02    1572589\n",
              "00-00-03     747594\n",
              "00-03-00     574976\n",
              "             ...   \n",
              "00-FF-01          1\n",
              "00-00-26          1\n",
              "00-00-C7          1\n",
              "02-10-05          1\n",
              "00-12-00          1\n",
              "Name: scp, Length: 237, dtype: int64"
            ]
          },
          "metadata": {},
          "execution_count": 17
        }
      ]
    },
    {
      "cell_type": "code",
      "source": [
        "df['station'].value_counts(dropna=False)\n",
        "\n",
        "# 380 different Stations\n",
        "# How to use this variable on a model??"
      ],
      "metadata": {
        "colab": {
          "base_uri": "https://localhost:8080/"
        },
        "id": "9nywkQMzjXND",
        "outputId": "e589026a-8ae6-459f-baf9-2606e6390f87"
      },
      "execution_count": null,
      "outputs": [
        {
          "output_type": "execute_result",
          "data": {
            "text/plain": [
              "34 ST-PENN STA     378862\n",
              "FULTON ST          366628\n",
              "23 ST              270598\n",
              "GRD CNTRL-42 ST    239895\n",
              "CANAL ST           223186\n",
              "                    ...  \n",
              "SUTTER AV            7731\n",
              "ORCHARD BEACH        7584\n",
              "CLEVELAND ST         7574\n",
              "JUNIUS ST            7446\n",
              "PATH WTC 2           6950\n",
              "Name: station, Length: 380, dtype: int64"
            ]
          },
          "metadata": {},
          "execution_count": 18
        }
      ]
    },
    {
      "cell_type": "code",
      "source": [
        "df['linename'].value_counts(dropna=False)\n",
        "\n",
        "# 128 different combination of Line Names\n",
        "# How to use this variable on a model??\n",
        "# Maybe split each line that can be boarded on some station on separate columns?!?"
      ],
      "metadata": {
        "colab": {
          "base_uri": "https://localhost:8080/"
        },
        "id": "zXwO0g-Gjf94",
        "outputId": "ba829edc-b47a-46e8-e103-9713e3ef174c"
      },
      "execution_count": null,
      "outputs": [
        {
          "output_type": "execute_result",
          "data": {
            "text/plain": [
              "1              2025763\n",
              "6              1068332\n",
              "7               806114\n",
              "F               652973\n",
              "25              594605\n",
              "                ...   \n",
              "ACENGRS1237      16649\n",
              "23ACE            15269\n",
              "S2345            15208\n",
              "7NQW             11905\n",
              "7NQ              10933\n",
              "Name: linename, Length: 128, dtype: int64"
            ]
          },
          "metadata": {},
          "execution_count": 19
        }
      ]
    },
    {
      "cell_type": "code",
      "source": [
        "df['division'].value_counts(dropna=False)\n",
        "\n",
        "# 6 different Divisions\n",
        "# How to use this variable on a model??\n",
        "# Create dummies for each category!! :)"
      ],
      "metadata": {
        "colab": {
          "base_uri": "https://localhost:8080/"
        },
        "id": "tlYrRHSmjfy4",
        "outputId": "e04b17ba-c7e7-4c8d-a0bb-e94c4923dd7a"
      },
      "execution_count": null,
      "outputs": [
        {
          "output_type": "execute_result",
          "data": {
            "text/plain": [
              "IRT    6453634\n",
              "IND    6264533\n",
              "BMT    3696600\n",
              "PTH    1018047\n",
              "SRT     127630\n",
              "RIT      36372\n",
              "Name: division, dtype: int64"
            ]
          },
          "metadata": {},
          "execution_count": 20
        }
      ]
    },
    {
      "cell_type": "code",
      "source": [
        "df['desc'].value_counts(dropna=False)\n",
        "\n",
        "# 2 different Scheduled Audit Events\n",
        "# How to use this variable on a model??\n",
        "# Create dummies for each category!!\n",
        "# Also, try to understand the meaning of each category!!\n",
        "# Maybe consider only the REGULAR audit events"
      ],
      "metadata": {
        "colab": {
          "base_uri": "https://localhost:8080/"
        },
        "id": "585v5VJVkZBg",
        "outputId": "673f3a2b-6776-4c09-946c-2cedfddd7fb9"
      },
      "execution_count": null,
      "outputs": [
        {
          "output_type": "execute_result",
          "data": {
            "text/plain": [
              "REGULAR       17524885\n",
              "RECOVR AUD       71931\n",
              "Name: desc, dtype: int64"
            ]
          },
          "metadata": {},
          "execution_count": 21
        }
      ]
    },
    {
      "cell_type": "code",
      "source": [
        "# using only the regular audit events:\n",
        "df = df.query(\"desc == 'REGULAR' \")\n",
        "df.shape"
      ],
      "metadata": {
        "colab": {
          "base_uri": "https://localhost:8080/"
        },
        "id": "9nT165qucc5k",
        "outputId": "eaf90a80-6971-4de5-8926-c539d3e59549"
      },
      "execution_count": null,
      "outputs": [
        {
          "output_type": "execute_result",
          "data": {
            "text/plain": [
              "(17524885, 16)"
            ]
          },
          "metadata": {},
          "execution_count": 22
        }
      ]
    },
    {
      "cell_type": "markdown",
      "source": [
        "#### 3.2 - Checking the numerical variables:"
      ],
      "metadata": {
        "id": "bcnAiKj-lkOT"
      }
    },
    {
      "cell_type": "code",
      "source": [
        "df['entries'].hist();"
      ],
      "metadata": {
        "colab": {
          "base_uri": "https://localhost:8080/",
          "height": 289
        },
        "id": "J0EJvOPfkY1k",
        "outputId": "4d6429b8-9234-42fb-b348-49408a4b9e54"
      },
      "execution_count": null,
      "outputs": [
        {
          "output_type": "display_data",
          "data": {
            "image/png": "[encoded data removed]",
            "text/plain": [
              "<Figure size 432x288 with 1 Axes>"
            ]
          },
          "metadata": {
            "needs_background": "light"
          }
        }
      ]
    },
    {
      "cell_type": "code",
      "source": [
        "sns.boxplot(data=df, y='entries');"
      ],
      "metadata": {
        "colab": {
          "base_uri": "https://localhost:8080/",
          "height": 263
        },
        "id": "OTx-H2ydlzZf",
        "outputId": "9994b4ee-4a00-4d43-8d95-c74d7b92efce"
      },
      "execution_count": null,
      "outputs": [
        {
          "output_type": "display_data",
          "data": {
            "image/png": "[encoded data removed]",
            "text/plain": [
              "<Figure size 432x288 with 1 Axes>"
            ]
          },
          "metadata": {
            "needs_background": "light"
          }
        }
      ]
    },
    {
      "cell_type": "code",
      "source": [
        "df['exits'].hist();"
      ],
      "metadata": {
        "colab": {
          "base_uri": "https://localhost:8080/",
          "height": 289
        },
        "id": "lMvmikM8iuE-",
        "outputId": "da727449-5c1a-4ae6-a6b5-23a832079a4a"
      },
      "execution_count": null,
      "outputs": [
        {
          "output_type": "display_data",
          "data": {
            "image/png": "[encoded data removed]",
            "text/plain": [
              "<Figure size 432x288 with 1 Axes>"
            ]
          },
          "metadata": {
            "needs_background": "light"
          }
        }
      ]
    },
    {
      "cell_type": "code",
      "source": [
        "sns.boxplot(data=df, y='exits');"
      ],
      "metadata": {
        "colab": {
          "base_uri": "https://localhost:8080/",
          "height": 263
        },
        "id": "BpImTeFXl4Q3",
        "outputId": "5e3919db-9408-4626-d931-f21ddf57433f"
      },
      "execution_count": null,
      "outputs": [
        {
          "output_type": "display_data",
          "data": {
            "image/png": "[encoded data removed]",
            "text/plain": [
              "<Figure size 432x288 with 1 Axes>"
            ]
          },
          "metadata": {
            "needs_background": "light"
          }
        }
      ]
    },
    {
      "cell_type": "markdown",
      "source": [
        "👀 **Observations:**\n",
        "The entries and exits values do not mean anything when checking the **histogram** and the **boxplot**, because they are cumulative values for each device (turnstile)!!"
      ],
      "metadata": {
        "id": "TFHacB5GmlL_"
      }
    },
    {
      "cell_type": "markdown",
      "source": [
        "💡\n",
        "So, I will calculate the value of entries and exits for each device between an audit event and the next one and create new columns on the dataframe!!"
      ],
      "metadata": {
        "id": "VTikpvhZm2bM"
      }
    },
    {
      "cell_type": "markdown",
      "source": [
        "❓  What identifies an unique device?\n",
        "\n",
        "✅ I will assume that the combination of unique ca, unit and scp represents a device!!"
      ],
      "metadata": {
        "id": "RiRQkPJjn1zy"
      }
    },
    {
      "cell_type": "markdown",
      "source": [
        "#### 3.3 - Formatting the data before continuing the EDA:"
      ],
      "metadata": {
        "id": "DANDrl0i9Vxt"
      }
    },
    {
      "cell_type": "code",
      "source": [
        "# so, for each device, I will calculate the difference of entries\n",
        "# from one audit event to the previous one and save it:\n",
        "\n",
        "df_unique_devices = df[['ca', 'unit', 'scp']].drop_duplicates(inplace=False, ignore_index=True)\n",
        "df_unique_devices.shape\n",
        "\n",
        "# Considering the assumptions above, there are 4819 differente devices!!"
      ],
      "metadata": {
        "colab": {
          "base_uri": "https://localhost:8080/"
        },
        "id": "5AsMc8Bql41v",
        "outputId": "b43e230c-5f17-4703-bbec-ec1d3ead1e58"
      },
      "execution_count": null,
      "outputs": [
        {
          "output_type": "execute_result",
          "data": {
            "text/plain": [
              "(4819, 3)"
            ]
          },
          "metadata": {},
          "execution_count": 28
        }
      ]
    },
    {
      "cell_type": "code",
      "source": [
        "df_unique_devices.sort_values(by=['ca', 'unit', 'scp'])"
      ],
      "metadata": {
        "colab": {
          "base_uri": "https://localhost:8080/",
          "height": 424
        },
        "id": "ZxhsOMtFquJ4",
        "outputId": "67abc4ff-84e1-487a-f7aa-ec0570e8e815"
      },
      "execution_count": null,
      "outputs": [
        {
          "output_type": "execute_result",
          "data": {
            "text/html": [
              "\n",
              "  <div id=\"df-e9797af9-ffc0-43ca-b267-849194d66dac\">\n",
              "    <div class=\"colab-df-container\">\n",
              "      <div>\n",
              "<style scoped>\n",
              "    .dataframe tbody tr th:only-of-type {\n",
              "        vertical-align: middle;\n",
              "    }\n",
              "\n",
              "    .dataframe tbody tr th {\n",
              "        vertical-align: top;\n",
              "    }\n",
              "\n",
              "    .dataframe thead th {\n",
              "        text-align: right;\n",
              "    }\n",
              "</style>\n",
              "<table border=\"1\" class=\"dataframe\">\n",
              "  <thead>\n",
              "    <tr style=\"text-align: right;\">\n",
              "      <th></th>\n",
              "      <th>ca</th>\n",
              "      <th>unit</th>\n",
              "      <th>scp</th>\n",
              "    </tr>\n",
              "  </thead>\n",
              "  <tbody>\n",
              "    <tr>\n",
              "      <th>0</th>\n",
              "      <td>A002</td>\n",
              "      <td>R051</td>\n",
              "      <td>02-00-00</td>\n",
              "    </tr>\n",
              "    <tr>\n",
              "      <th>1</th>\n",
              "      <td>A002</td>\n",
              "      <td>R051</td>\n",
              "      <td>02-00-01</td>\n",
              "    </tr>\n",
              "    <tr>\n",
              "      <th>2</th>\n",
              "      <td>A002</td>\n",
              "      <td>R051</td>\n",
              "      <td>02-03-00</td>\n",
              "    </tr>\n",
              "    <tr>\n",
              "      <th>3</th>\n",
              "      <td>A002</td>\n",
              "      <td>R051</td>\n",
              "      <td>02-03-01</td>\n",
              "    </tr>\n",
              "    <tr>\n",
              "      <th>4</th>\n",
              "      <td>A002</td>\n",
              "      <td>R051</td>\n",
              "      <td>02-03-02</td>\n",
              "    </tr>\n",
              "    <tr>\n",
              "      <th>...</th>\n",
              "      <td>...</td>\n",
              "      <td>...</td>\n",
              "      <td>...</td>\n",
              "    </tr>\n",
              "    <tr>\n",
              "      <th>4163</th>\n",
              "      <td>TRAM2</td>\n",
              "      <td>R469</td>\n",
              "      <td>00-00-01</td>\n",
              "    </tr>\n",
              "    <tr>\n",
              "      <th>4164</th>\n",
              "      <td>TRAM2</td>\n",
              "      <td>R469</td>\n",
              "      <td>00-03-00</td>\n",
              "    </tr>\n",
              "    <tr>\n",
              "      <th>4165</th>\n",
              "      <td>TRAM2</td>\n",
              "      <td>R469</td>\n",
              "      <td>00-03-01</td>\n",
              "    </tr>\n",
              "    <tr>\n",
              "      <th>4166</th>\n",
              "      <td>TRAM2</td>\n",
              "      <td>R469</td>\n",
              "      <td>00-05-00</td>\n",
              "    </tr>\n",
              "    <tr>\n",
              "      <th>4167</th>\n",
              "      <td>TRAM2</td>\n",
              "      <td>R469</td>\n",
              "      <td>00-05-01</td>\n",
              "    </tr>\n",
              "  </tbody>\n",
              "</table>\n",
              "<p>4819 rows × 3 columns</p>\n",
              "</div>\n",
              "      <button class=\"colab-df-convert\" onclick=\"convertToInteractive('df-e9797af9-ffc0-43ca-b267-849194d66dac')\"\n",
              "              title=\"Convert this dataframe to an interactive table.\"\n",
              "              style=\"display:none;\">\n",
              "        \n",
              "  <svg xmlns=\"http://www.w3.org/2000/svg\" height=\"24px\"viewBox=\"0 0 24 24\"\n",
              "       width=\"24px\">\n",
              "    <path d=\"M0 0h24v24H0V0z\" fill=\"none\"/>\n",
              "    <path d=\"M18.56 5.44l.94 2.06.94-2.06 2.06-.94-2.06-.94-.94-2.06-.94 2.06-2.06.94zm-11 1L8.5 8.5l.94-2.06 2.06-.94-2.06-.94L8.5 2.5l-.94 2.06-2.06.94zm10 10l.94 2.06.94-2.06 2.06-.94-2.06-.94-.94-2.06-.94 2.06-2.06.94z\"/><path d=\"M17.41 7.96l-1.37-1.37c-.4-.4-.92-.59-1.43-.59-.52 0-1.04.2-1.43.59L10.3 9.45l-7.72 7.72c-.78.78-.78 2.05 0 2.83L4 21.41c.39.39.9.59 1.41.59.51 0 1.02-.2 1.41-.59l7.78-7.78 2.81-2.81c.8-.78.8-2.07 0-2.86zM5.41 20L4 18.59l7.72-7.72 1.47 1.35L5.41 20z\"/>\n",
              "  </svg>\n",
              "      </button>\n",
              "      \n",
              "  <style>\n",
              "    .colab-df-container {\n",
              "      display:flex;\n",
              "      flex-wrap:wrap;\n",
              "      gap: 12px;\n",
              "    }\n",
              "\n",
              "    .colab-df-convert {\n",
              "      background-color: #E8F0FE;\n",
              "      border: none;\n",
              "      border-radius: 50%;\n",
              "      cursor: pointer;\n",
              "      display: none;\n",
              "      fill: #1967D2;\n",
              "      height: 32px;\n",
              "      padding: 0 0 0 0;\n",
              "      width: 32px;\n",
              "    }\n",
              "\n",
              "    .colab-df-convert:hover {\n",
              "      background-color: #E2EBFA;\n",
              "      box-shadow: 0px 1px 2px rgba(60, 64, 67, 0.3), 0px 1px 3px 1px rgba(60, 64, 67, 0.15);\n",
              "      fill: #174EA6;\n",
              "    }\n",
              "\n",
              "    [theme=dark] .colab-df-convert {\n",
              "      background-color: #3B4455;\n",
              "      fill: #D2E3FC;\n",
              "    }\n",
              "\n",
              "    [theme=dark] .colab-df-convert:hover {\n",
              "      background-color: #434B5C;\n",
              "      box-shadow: 0px 1px 3px 1px rgba(0, 0, 0, 0.15);\n",
              "      filter: drop-shadow(0px 1px 2px rgba(0, 0, 0, 0.3));\n",
              "      fill: #FFFFFF;\n",
              "    }\n",
              "  </style>\n",
              "\n",
              "      <script>\n",
              "        const buttonEl =\n",
              "          document.querySelector('#df-e9797af9-ffc0-43ca-b267-849194d66dac button.colab-df-convert');\n",
              "        buttonEl.style.display =\n",
              "          google.colab.kernel.accessAllowed ? 'block' : 'none';\n",
              "\n",
              "        async function convertToInteractive(key) {\n",
              "          const element = document.querySelector('#df-e9797af9-ffc0-43ca-b267-849194d66dac');\n",
              "          const dataTable =\n",
              "            await google.colab.kernel.invokeFunction('convertToInteractive',\n",
              "                                                     [key], {});\n",
              "          if (!dataTable) return;\n",
              "\n",
              "          const docLinkHtml = 'Like what you see? Visit the ' +\n",
              "            '<a target=\"_blank\" href=https://colab.research.google.com/notebooks/data_table.ipynb>data table notebook</a>'\n",
              "            + ' to learn more about interactive tables.';\n",
              "          element.innerHTML = '';\n",
              "          dataTable['output_type'] = 'display_data';\n",
              "          await google.colab.output.renderOutput(dataTable, element);\n",
              "          const docLink = document.createElement('div');\n",
              "          docLink.innerHTML = docLinkHtml;\n",
              "          element.appendChild(docLink);\n",
              "        }\n",
              "      </script>\n",
              "    </div>\n",
              "  </div>\n",
              "  "
            ],
            "text/plain": [
              "         ca  unit       scp\n",
              "0      A002  R051  02-00-00\n",
              "1      A002  R051  02-00-01\n",
              "2      A002  R051  02-03-00\n",
              "3      A002  R051  02-03-01\n",
              "4      A002  R051  02-03-02\n",
              "...     ...   ...       ...\n",
              "4163  TRAM2  R469  00-00-01\n",
              "4164  TRAM2  R469  00-03-00\n",
              "4165  TRAM2  R469  00-03-01\n",
              "4166  TRAM2  R469  00-05-00\n",
              "4167  TRAM2  R469  00-05-01\n",
              "\n",
              "[4819 rows x 3 columns]"
            ]
          },
          "metadata": {},
          "execution_count": 29
        }
      ]
    },
    {
      "cell_type": "code",
      "source": [
        "# loop to separate each device, sort by time and apply the function I created to calculate the diff values:\n",
        "\n",
        "df_total = pd.DataFrame()\n",
        "\n",
        "# using only 500 random devices, because with the time I got, I could not make it run with the memory I had for all devices:\n",
        "df_temp = df_unique_devices.sample(500, ignore_index=True)\n",
        "num_devices = df_temp.shape[0]\n",
        "\n",
        "for idx, row in df_temp.iterrows():\n",
        "    ca = row['ca']\n",
        "    unit = row['unit']\n",
        "    scp = row['scp']\n",
        "    df_device = df.query(\"ca == '{}' and unit == '{}' and scp == '{}' \".format(ca, unit, scp))\n",
        "    df_device = df_device.sort_values(by=['time'])\n",
        "\n",
        "    # the function 'calculate_diff_values' are available on the 'functions section':\n",
        "    df_device = calculate_diff_values(df_device, 'entries')\n",
        "    df_device = calculate_diff_values(df_device, 'exits')\n",
        "\n",
        "    print('{}/{} - Device --> ca: {} / unit: {} / scp: {} --> Shape: {}'.format(idx+1, num_devices, ca, unit, scp, df_device.shape))\n",
        "\n",
        "    df_total = pd.concat([df_total, df_device], axis=0, ignore_index=True)\n",
        "\n",
        "print('')\n",
        "print('Shape of the dataframe combining all devices again: {}'.format(df_total.shape))"
      ],
      "metadata": {
        "colab": {
          "base_uri": "https://localhost:8080/"
        },
        "id": "7sQZLnshl4m-",
        "outputId": "7957fcca-a864-4d10-8e92-4d21bd42ec41"
      },
      "execution_count": null,
      "outputs": [
        {
          "output_type": "stream",
          "name": "stdout",
          "text": [
            "1/500 - Device --> ca: R169 / unit: R168 / scp: 01-00-04 --> Shape: (3784, 18)\n",
            "2/500 - Device --> ca: R202 / unit: R042 / scp: 00-00-01 --> Shape: (3451, 18)\n",
            "3/500 - Device --> ca: R402 / unit: R446 / scp: 00-00-03 --> Shape: (3817, 18)\n",
            "4/500 - Device --> ca: R515 / unit: R095 / scp: 00-03-00 --> Shape: (3832, 18)\n",
            "5/500 - Device --> ca: N078 / unit: R175 / scp: 01-03-00 --> Shape: (3805, 18)\n",
            "6/500 - Device --> ca: PTH08 / unit: R540 / scp: 00-00-06 --> Shape: (1019, 18)\n",
            "7/500 - Device --> ca: PTH03 / unit: R552 / scp: 00-00-00 --> Shape: (3489, 18)\n",
            "8/500 - Device --> ca: E001 / unit: R368 / scp: 00-00-01 --> Shape: (3872, 18)\n",
            "9/500 - Device --> ca: R201 / unit: R041 / scp: 00-05-00 --> Shape: (3767, 18)\n",
            "10/500 - Device --> ca: R158 / unit: R084 / scp: 00-00-01 --> Shape: (3824, 18)\n",
            "11/500 - Device --> ca: N012 / unit: R035 / scp: 01-06-01 --> Shape: (3826, 18)\n",
            "12/500 - Device --> ca: PTH11 / unit: R545 / scp: 00-00-00 --> Shape: (3598, 18)\n",
            "13/500 - Device --> ca: N094 / unit: R029 / scp: 01-06-02 --> Shape: (3814, 18)\n",
            "14/500 - Device --> ca: R621 / unit: R060 / scp: 00-03-00 --> Shape: (3805, 18)\n",
            "15/500 - Device --> ca: C018 / unit: R197 / scp: 00-00-04 --> Shape: (3834, 18)\n",
            "16/500 - Device --> ca: N020 / unit: R101 / scp: 00-00-02 --> Shape: (3760, 18)\n",
            "17/500 - Device --> ca: E013 / unit: R373 / scp: 00-00-01 --> Shape: (3793, 18)\n",
            "18/500 - Device --> ca: R154 / unit: R116 / scp: 00-03-02 --> Shape: (3811, 18)\n",
            "19/500 - Device --> ca: PTH04 / unit: R551 / scp: 00-01-00 --> Shape: (3591, 18)\n",
            "20/500 - Device --> ca: R194 / unit: R040 / scp: 00-00-03 --> Shape: (3786, 18)\n",
            "21/500 - Device --> ca: N120 / unit: R153 / scp: 00-05-00 --> Shape: (3812, 18)\n",
            "22/500 - Device --> ca: N535 / unit: R220 / scp: 00-00-01 --> Shape: (3807, 18)\n",
            "23/500 - Device --> ca: N003 / unit: R185 / scp: 00-00-02 --> Shape: (3837, 18)\n",
            "24/500 - Device --> ca: N536 / unit: R270 / scp: 00-00-00 --> Shape: (3750, 18)\n",
            "25/500 - Device --> ca: R528 / unit: R097 / scp: 00-00-04 --> Shape: (3835, 18)\n",
            "26/500 - Device --> ca: N137 / unit: R354 / scp: 00-06-00 --> Shape: (3775, 18)\n",
            "27/500 - Device --> ca: PTH03 / unit: R552 / scp: 00-00-02 --> Shape: (3593, 18)\n",
            "28/500 - Device --> ca: R186 / unit: R036 / scp: 00-00-00 --> Shape: (3810, 18)\n",
            "29/500 - Device --> ca: R533 / unit: R055 / scp: 00-00-00 --> Shape: (3865, 18)\n",
            "30/500 - Device --> ca: PTH01 / unit: R549 / scp: 00-00-07 --> Shape: (3415, 18)\n",
            "31/500 - Device --> ca: R258 / unit: R132 / scp: 00-05-01 --> Shape: (3860, 18)\n",
            "32/500 - Device --> ca: C024 / unit: R214 / scp: 00-00-00 --> Shape: (3846, 18)\n",
            "33/500 - Device --> ca: R402 / unit: R446 / scp: 00-00-00 --> Shape: (3815, 18)\n",
            "34/500 - Device --> ca: R160A / unit: R164 / scp: 00-00-00 --> Shape: (3812, 18)\n",
            "35/500 - Device --> ca: R127 / unit: R105 / scp: 00-06-00 --> Shape: (3823, 18)\n",
            "36/500 - Device --> ca: R533 / unit: R055 / scp: 00-03-04 --> Shape: (3863, 18)\n",
            "37/500 - Device --> ca: N223 / unit: R156 / scp: 01-06-00 --> Shape: (3830, 18)\n",
            "38/500 - Device --> ca: R727 / unit: R430 / scp: 00-00-01 --> Shape: (3791, 18)\n",
            "39/500 - Device --> ca: N532 / unit: R129 / scp: 00-00-02 --> Shape: (3803, 18)\n",
            "40/500 - Device --> ca: R155 / unit: R116 / scp: 01-00-07 --> Shape: (3814, 18)\n",
            "41/500 - Device --> ca: A027 / unit: R082 / scp: 01-03-03 --> Shape: (3810, 18)\n",
            "42/500 - Device --> ca: PTH22 / unit: R540 / scp: 02-04-07 --> Shape: (1171, 18)\n",
            "43/500 - Device --> ca: N319 / unit: R298 / scp: 01-06-02 --> Shape: (3799, 18)\n",
            "44/500 - Device --> ca: N133 / unit: R384 / scp: 00-00-02 --> Shape: (3795, 18)\n",
            "45/500 - Device --> ca: R208 / unit: R014 / scp: 03-01-02 --> Shape: (3800, 18)\n",
            "46/500 - Device --> ca: R116 / unit: R030 / scp: 00-02-01 --> Shape: (3827, 18)\n",
            "47/500 - Device --> ca: N327 / unit: R254 / scp: 00-00-01 --> Shape: (3816, 18)\n",
            "48/500 - Device --> ca: A043 / unit: R462 / scp: 00-03-01 --> Shape: (3857, 18)\n",
            "49/500 - Device --> ca: N090 / unit: R139 / scp: 01-05-00 --> Shape: (3794, 18)\n",
            "50/500 - Device --> ca: B028 / unit: R136 / scp: 01-00-01 --> Shape: (3817, 18)\n",
            "51/500 - Device --> ca: R290 / unit: R161 / scp: 00-00-03 --> Shape: (3767, 18)\n",
            "52/500 - Device --> ca: R242 / unit: R049 / scp: 01-00-01 --> Shape: (3781, 18)\n",
            "53/500 - Device --> ca: N337 / unit: R255 / scp: 00-00-03 --> Shape: (3817, 18)\n",
            "54/500 - Device --> ca: PTH13 / unit: R541 / scp: 00-00-05 --> Shape: (2868, 18)\n",
            "55/500 - Device --> ca: N207 / unit: R104 / scp: 00-00-03 --> Shape: (3835, 18)\n",
            "56/500 - Device --> ca: N305 / unit: R017 / scp: 01-03-02 --> Shape: (3801, 18)\n",
            "57/500 - Device --> ca: N420B / unit: R317 / scp: 00-00-02 --> Shape: (3801, 18)\n",
            "58/500 - Device --> ca: N011 / unit: R126 / scp: 01-06-01 --> Shape: (3766, 18)\n",
            "59/500 - Device --> ca: R162 / unit: R166 / scp: 00-00-00 --> Shape: (3863, 18)\n",
            "60/500 - Device --> ca: R178 / unit: R273 / scp: 00-00-02 --> Shape: (3820, 18)\n",
            "61/500 - Device --> ca: PTH19 / unit: R549 / scp: 02-00-04 --> Shape: (3552, 18)\n",
            "62/500 - Device --> ca: R208 / unit: R014 / scp: 03-00-01 --> Shape: (3801, 18)\n",
            "63/500 - Device --> ca: R161B / unit: R452 / scp: 00-05-03 --> Shape: (3806, 18)\n",
            "64/500 - Device --> ca: H039 / unit: R375 / scp: 00-00-00 --> Shape: (3782, 18)\n",
            "65/500 - Device --> ca: C016 / unit: R278 / scp: 00-00-01 --> Shape: (3805, 18)\n",
            "66/500 - Device --> ca: R550 / unit: R072 / scp: 00-03-04 --> Shape: (3838, 18)\n",
            "67/500 - Device --> ca: N037 / unit: R314 / scp: 00-00-00 --> Shape: (3799, 18)\n",
            "68/500 - Device --> ca: N306 / unit: R017 / scp: 00-00-01 --> Shape: (3846, 18)\n",
            "69/500 - Device --> ca: N543 / unit: R289 / scp: 00-00-02 --> Shape: (3776, 18)\n",
            "70/500 - Device --> ca: R244A / unit: R050 / scp: 01-00-04 --> Shape: (3793, 18)\n",
            "71/500 - Device --> ca: N343 / unit: R019 / scp: 00-00-04 --> Shape: (3818, 18)\n",
            "72/500 - Device --> ca: R258 / unit: R132 / scp: 00-00-00 --> Shape: (3857, 18)\n",
            "73/500 - Device --> ca: R142 / unit: R293 / scp: 01-06-00 --> Shape: (3830, 18)\n",
            "74/500 - Device --> ca: N080 / unit: R138 / scp: 00-06-00 --> Shape: (3812, 18)\n",
            "75/500 - Device --> ca: A043 / unit: R462 / scp: 00-06-02 --> Shape: (3858, 18)\n",
            "76/500 - Device --> ca: R315 / unit: R406 / scp: 01-00-00 --> Shape: (3805, 18)\n",
            "77/500 - Device --> ca: C009 / unit: R057 / scp: 03-00-02 --> Shape: (3818, 18)\n",
            "78/500 - Device --> ca: A081 / unit: R028 / scp: 04-05-01 --> Shape: (3825, 18)\n",
            "79/500 - Device --> ca: R246 / unit: R177 / scp: 00-00-05 --> Shape: (3853, 18)\n",
            "80/500 - Device --> ca: N316A / unit: R267 / scp: 01-06-00 --> Shape: (3793, 18)\n",
            "81/500 - Device --> ca: PTH02 / unit: R544 / scp: 00-04-03 --> Shape: (3595, 18)\n",
            "82/500 - Device --> ca: D016 / unit: R397 / scp: 00-00-00 --> Shape: (3780, 18)\n",
            "83/500 - Device --> ca: N408A / unit: R256 / scp: 00-00-02 --> Shape: (3788, 18)\n",
            "84/500 - Device --> ca: PTH01 / unit: R549 / scp: 00-00-0A --> Shape: (3594, 18)\n",
            "85/500 - Device --> ca: N534 / unit: R220 / scp: 01-00-01 --> Shape: (3777, 18)\n",
            "86/500 - Device --> ca: N500 / unit: R020 / scp: 00-03-04 --> Shape: (3804, 18)\n",
            "87/500 - Device --> ca: A014 / unit: R081 / scp: 02-00-02 --> Shape: (3801, 18)\n",
            "88/500 - Device --> ca: PTH03 / unit: R552 / scp: 00-00-09 --> Shape: (3474, 18)\n",
            "89/500 - Device --> ca: N306 / unit: R017 / scp: 00-06-00 --> Shape: (3846, 18)\n",
            "90/500 - Device --> ca: PTH05 / unit: R543 / scp: 00-00-03 --> Shape: (3595, 18)\n",
            "91/500 - Device --> ca: R244 / unit: R050 / scp: 00-03-02 --> Shape: (3797, 18)\n",
            "92/500 - Device --> ca: B015 / unit: R098 / scp: 01-03-00 --> Shape: (3800, 18)\n",
            "93/500 - Device --> ca: R258 / unit: R132 / scp: 00-03-00 --> Shape: (3859, 18)\n",
            "94/500 - Device --> ca: N213 / unit: R154 / scp: 00-00-02 --> Shape: (3936, 18)\n",
            "95/500 - Device --> ca: R253 / unit: R181 / scp: 00-00-01 --> Shape: (3874, 18)\n",
            "96/500 - Device --> ca: A030 / unit: R083 / scp: 01-06-00 --> Shape: (3806, 18)\n",
            "97/500 - Device --> ca: S102 / unit: R165 / scp: 00-03-02 --> Shape: (3853, 18)\n",
            "98/500 - Device --> ca: R240 / unit: R047 / scp: 00-03-08 --> Shape: (3906, 18)\n",
            "99/500 - Device --> ca: PTH17 / unit: R541 / scp: 01-00-0A --> Shape: (3592, 18)\n",
            "100/500 - Device --> ca: R641 / unit: R210 / scp: 00-00-02 --> Shape: (3847, 18)\n",
            "101/500 - Device --> ca: S101A / unit: R070 / scp: 01-00-04 --> Shape: (3739, 18)\n",
            "102/500 - Device --> ca: E012 / unit: R372 / scp: 00-00-02 --> Shape: (3800, 18)\n",
            "103/500 - Device --> ca: B021 / unit: R228 / scp: 00-03-00 --> Shape: (3735, 18)\n",
            "104/500 - Device --> ca: R241A / unit: R048 / scp: 00-00-03 --> Shape: (3855, 18)\n",
            "105/500 - Device --> ca: J002 / unit: R460 / scp: 00-06-01 --> Shape: (3732, 18)\n",
            "106/500 - Device --> ca: PTH17 / unit: R541 / scp: 01-00-06 --> Shape: (3597, 18)\n",
            "107/500 - Device --> ca: N702A / unit: R572 / scp: 01-00-00 --> Shape: (1632, 18)\n",
            "108/500 - Device --> ca: R532H / unit: R328 / scp: 02-00-01 --> Shape: (3792, 18)\n",
            "109/500 - Device --> ca: R101 / unit: R001 / scp: 02-06-04 --> Shape: (714, 18)\n",
            "110/500 - Device --> ca: R303 / unit: R324 / scp: 00-00-01 --> Shape: (3809, 18)\n",
            "111/500 - Device --> ca: N126 / unit: R441 / scp: 00-00-00 --> Shape: (3787, 18)\n",
            "112/500 - Device --> ca: A037 / unit: R170 / scp: 05-00-03 --> Shape: (3832, 18)\n",
            "113/500 - Device --> ca: R529 / unit: R208 / scp: 00-00-01 --> Shape: (3823, 18)\n",
            "114/500 - Device --> ca: J032 / unit: R006 / scp: 01-05-01 --> Shape: (3766, 18)\n",
            "115/500 - Device --> ca: R169 / unit: R168 / scp: 01-07-01 --> Shape: (3788, 18)\n",
            "116/500 - Device --> ca: N072 / unit: R012 / scp: 05-00-02 --> Shape: (3821, 18)\n",
            "117/500 - Device --> ca: N324 / unit: R018 / scp: 00-06-03 --> Shape: (3832, 18)\n",
            "118/500 - Device --> ca: N603 / unit: R303 / scp: 00-05-00 --> Shape: (3785, 18)\n",
            "119/500 - Device --> ca: N194 / unit: R338 / scp: 00-00-00 --> Shape: (3788, 18)\n",
            "120/500 - Device --> ca: R402 / unit: R446 / scp: 00-00-02 --> Shape: (3815, 18)\n",
            "121/500 - Device --> ca: R252 / unit: R180 / scp: 00-00-00 --> Shape: (3730, 18)\n",
            "122/500 - Device --> ca: N209 / unit: R443 / scp: 00-00-02 --> Shape: (3774, 18)\n",
            "123/500 - Device --> ca: R509 / unit: R121 / scp: 00-00-01 --> Shape: (3806, 18)\n",
            "124/500 - Device --> ca: R101 / unit: R001 / scp: 02-02-00 --> Shape: (719, 18)\n",
            "125/500 - Device --> ca: R644 / unit: R135 / scp: 01-06-00 --> Shape: (3823, 18)\n",
            "126/500 - Device --> ca: N103 / unit: R127 / scp: 00-00-01 --> Shape: (3817, 18)\n",
            "127/500 - Device --> ca: R236 / unit: R045 / scp: 00-06-01 --> Shape: (3888, 18)\n",
            "128/500 - Device --> ca: R612 / unit: R057 / scp: 01-00-04 --> Shape: (3803, 18)\n",
            "129/500 - Device --> ca: N309A / unit: R140 / scp: 00-05-01 --> Shape: (3788, 18)\n",
            "130/500 - Device --> ca: A046 / unit: R463 / scp: 00-00-03 --> Shape: (3879, 18)\n",
            "131/500 - Device --> ca: N029 / unit: R333 / scp: 01-00-00 --> Shape: (3839, 18)\n",
            "132/500 - Device --> ca: R605 / unit: R456 / scp: 00-00-02 --> Shape: (3795, 18)\n",
            "133/500 - Device --> ca: N531 / unit: R129 / scp: 01-06-01 --> Shape: (3821, 18)\n",
            "134/500 - Device --> ca: R530 / unit: R310 / scp: 00-00-00 --> Shape: (3773, 18)\n",
            "135/500 - Device --> ca: PTH09 / unit: R548 / scp: 00-00-00 --> Shape: (3581, 18)\n",
            "136/500 - Device --> ca: N221 / unit: R155 / scp: 00-00-03 --> Shape: (3896, 18)\n",
            "137/500 - Device --> ca: R215 / unit: R322 / scp: 00-00-00 --> Shape: (3823, 18)\n",
            "138/500 - Device --> ca: R726 / unit: R329 / scp: 00-00-02 --> Shape: (3787, 18)\n",
            "139/500 - Device --> ca: R252 / unit: R180 / scp: 00-03-02 --> Shape: (3128, 18)\n",
            "140/500 - Device --> ca: N412 / unit: R299 / scp: 00-00-00 --> Shape: (3797, 18)\n",
            "141/500 - Device --> ca: E011 / unit: R371 / scp: 00-00-00 --> Shape: (3805, 18)\n",
            "142/500 - Device --> ca: B009 / unit: R411 / scp: 00-05-01 --> Shape: (3806, 18)\n",
            "143/500 - Device --> ca: R626 / unit: R062 / scp: 00-05-00 --> Shape: (3827, 18)\n",
            "144/500 - Device --> ca: R186 / unit: R036 / scp: 00-05-01 --> Shape: (3813, 18)\n",
            "145/500 - Device --> ca: G001 / unit: R151 / scp: 00-05-01 --> Shape: (3799, 18)\n",
            "146/500 - Device --> ca: R604 / unit: R108 / scp: 03-00-03 --> Shape: (3817, 18)\n",
            "147/500 - Device --> ca: R405 / unit: R447 / scp: 01-00-00 --> Shape: (3820, 18)\n",
            "148/500 - Device --> ca: C009 / unit: R057 / scp: 03-03-01 --> Shape: (3809, 18)\n",
            "149/500 - Device --> ca: N224 / unit: R157 / scp: 00-00-01 --> Shape: (3800, 18)\n",
            "150/500 - Device --> ca: H006 / unit: R330 / scp: 01-00-01 --> Shape: (3802, 18)\n",
            "151/500 - Device --> ca: R529 / unit: R208 / scp: 00-05-01 --> Shape: (3823, 18)\n",
            "152/500 - Device --> ca: N013 / unit: R035 / scp: 02-00-01 --> Shape: (3797, 18)\n",
            "153/500 - Device --> ca: C024 / unit: R214 / scp: 00-00-01 --> Shape: (3846, 18)\n",
            "154/500 - Device --> ca: N318 / unit: R298 / scp: 00-00-01 --> Shape: (3850, 18)\n",
            "155/500 - Device --> ca: N519 / unit: R461 / scp: 00-00-00 --> Shape: (3844, 18)\n",
            "156/500 - Device --> ca: R290 / unit: R161 / scp: 00-00-02 --> Shape: (3769, 18)\n",
            "157/500 - Device --> ca: N340 / unit: R115 / scp: 00-00-01 --> Shape: (3806, 18)\n",
            "158/500 - Device --> ca: N327 / unit: R254 / scp: 00-00-00 --> Shape: (3819, 18)\n",
            "159/500 - Device --> ca: R179 / unit: R193 / scp: 01-00-02 --> Shape: (3789, 18)\n",
            "160/500 - Device --> ca: A015 / unit: R081 / scp: 00-03-00 --> Shape: (3821, 18)\n",
            "161/500 - Device --> ca: A046 / unit: R463 / scp: 00-06-00 --> Shape: (3874, 18)\n",
            "162/500 - Device --> ca: N700 / unit: R570 / scp: 00-03-02 --> Shape: (1606, 18)\n",
            "163/500 - Device --> ca: N543 / unit: R289 / scp: 00-06-00 --> Shape: (4, 18)\n",
            "164/500 - Device --> ca: N329A / unit: R201 / scp: 01-05-01 --> Shape: (3811, 18)\n",
            "165/500 - Device --> ca: E014 / unit: R374 / scp: 00-05-01 --> Shape: (3784, 18)\n",
            "166/500 - Device --> ca: N103 / unit: R127 / scp: 00-06-01 --> Shape: (3820, 18)\n",
            "167/500 - Device --> ca: R227 / unit: R131 / scp: 00-00-01 --> Shape: (3816, 18)\n",
            "168/500 - Device --> ca: N094 / unit: R029 / scp: 01-00-03 --> Shape: (3803, 18)\n",
            "169/500 - Device --> ca: N072 / unit: R012 / scp: 05-03-03 --> Shape: (3818, 18)\n",
            "170/500 - Device --> ca: N118 / unit: R199 / scp: 01-00-01 --> Shape: (3801, 18)\n",
            "171/500 - Device --> ca: R293 / unit: R133 / scp: 00-00-04 --> Shape: (3818, 18)\n",
            "172/500 - Device --> ca: R308 / unit: R344 / scp: 00-00-01 --> Shape: (3780, 18)\n",
            "173/500 - Device --> ca: R645 / unit: R110 / scp: 00-06-02 --> Shape: (3848, 18)\n",
            "174/500 - Device --> ca: PTH19 / unit: R549 / scp: 02-01-04 --> Shape: (3594, 18)\n",
            "175/500 - Device --> ca: PTH02 / unit: R544 / scp: 00-00-03 --> Shape: (3599, 18)\n",
            "176/500 - Device --> ca: N089 / unit: R139 / scp: 00-06-02 --> Shape: (3808, 18)\n",
            "177/500 - Device --> ca: R604 / unit: R108 / scp: 03-00-01 --> Shape: (3816, 18)\n",
            "178/500 - Device --> ca: N502 / unit: R021 / scp: 01-00-00 --> Shape: (3797, 18)\n",
            "179/500 - Device --> ca: A039 / unit: R085 / scp: 01-06-00 --> Shape: (3721, 18)\n",
            "180/500 - Device --> ca: PTH04 / unit: R551 / scp: 00-04-00 --> Shape: (3542, 18)\n",
            "181/500 - Device --> ca: N037 / unit: R314 / scp: 00-00-01 --> Shape: (3801, 18)\n",
            "182/500 - Device --> ca: N057 / unit: R188 / scp: 00-06-00 --> Shape: (3839, 18)\n",
            "183/500 - Device --> ca: PTH11 / unit: R545 / scp: 00-04-05 --> Shape: (3493, 18)\n",
            "184/500 - Device --> ca: PTH08 / unit: R540 / scp: 00-04-07 --> Shape: (1019, 18)\n",
            "185/500 - Device --> ca: R154 / unit: R116 / scp: 00-00-02 --> Shape: (3811, 18)\n",
            "186/500 - Device --> ca: N309A / unit: R140 / scp: 00-06-01 --> Shape: (3786, 18)\n",
            "187/500 - Device --> ca: N135 / unit: R385 / scp: 01-05-00 --> Shape: (3772, 18)\n",
            "188/500 - Device --> ca: N091 / unit: R029 / scp: 02-05-02 --> Shape: (3745, 18)\n",
            "189/500 - Device --> ca: N314 / unit: R238 / scp: 01-00-01 --> Shape: (3794, 18)\n",
            "190/500 - Device --> ca: R550 / unit: R072 / scp: 00-03-07 --> Shape: (3836, 18)\n",
            "191/500 - Device --> ca: R513 / unit: R093 / scp: 00-03-01 --> Shape: (3893, 18)\n",
            "192/500 - Device --> ca: E009 / unit: R370 / scp: 00-00-00 --> Shape: (3790, 18)\n",
            "193/500 - Device --> ca: R238 / unit: R046 / scp: 00-00-06 --> Shape: (3923, 18)\n",
            "194/500 - Device --> ca: D012 / unit: R395 / scp: 00-00-01 --> Shape: (3801, 18)\n",
            "195/500 - Device --> ca: PTH18 / unit: R549 / scp: 01-00-06 --> Shape: (3545, 18)\n",
            "196/500 - Device --> ca: N208 / unit: R443 / scp: 01-00-02 --> Shape: (3826, 18)\n",
            "197/500 - Device --> ca: N416 / unit: R286 / scp: 01-06-00 --> Shape: (3785, 18)\n",
            "198/500 - Device --> ca: R302 / unit: R324 / scp: 01-00-04 --> Shape: (3832, 18)\n",
            "199/500 - Device --> ca: R178 / unit: R273 / scp: 00-00-01 --> Shape: (3830, 18)\n",
            "200/500 - Device --> ca: N550 / unit: R242 / scp: 01-05-00 --> Shape: (3801, 18)\n",
            "201/500 - Device --> ca: R101 / unit: R001 / scp: 02-00-08 --> Shape: (3762, 18)\n",
            "202/500 - Device --> ca: N209 / unit: R443 / scp: 00-00-00 --> Shape: (3776, 18)\n",
            "203/500 - Device --> ca: R204 / unit: R043 / scp: 02-00-01 --> Shape: (3802, 18)\n",
            "204/500 - Device --> ca: N521 / unit: R300 / scp: 01-00-01 --> Shape: (3782, 18)\n",
            "205/500 - Device --> ca: S102 / unit: R165 / scp: 00-03-00 --> Shape: (3865, 18)\n",
            "206/500 - Device --> ca: R610 / unit: R057 / scp: 00-04-02 --> Shape: (3969, 18)\n",
            "207/500 - Device --> ca: N056 / unit: R188 / scp: 01-00-03 --> Shape: (3861, 18)\n",
            "208/500 - Device --> ca: N062 / unit: R011 / scp: 01-00-01 --> Shape: (3841, 18)\n",
            "209/500 - Device --> ca: N217 / unit: R112 / scp: 00-03-01 --> Shape: (3813, 18)\n",
            "210/500 - Device --> ca: A042 / unit: R086 / scp: 01-00-04 --> Shape: (3810, 18)\n",
            "211/500 - Device --> ca: N034 / unit: R334 / scp: 01-00-01 --> Shape: (3817, 18)\n",
            "212/500 - Device --> ca: N543 / unit: R289 / scp: 00-03-02 --> Shape: (4, 18)\n",
            "213/500 - Device --> ca: N318 / unit: R298 / scp: 00-00-02 --> Shape: (3849, 18)\n",
            "214/500 - Device --> ca: R203 / unit: R043 / scp: 00-00-00 --> Shape: (3837, 18)\n",
            "215/500 - Device --> ca: R628 / unit: R064 / scp: 00-00-01 --> Shape: (3013, 18)\n",
            "216/500 - Device --> ca: N507 / unit: R023 / scp: 00-03-01 --> Shape: (3863, 18)\n",
            "217/500 - Device --> ca: N220 / unit: R155 / scp: 01-00-03 --> Shape: (3770, 18)\n",
            "218/500 - Device --> ca: R243 / unit: R049 / scp: 00-05-00 --> Shape: (3781, 18)\n",
            "219/500 - Device --> ca: J013 / unit: R380 / scp: 00-00-00 --> Shape: (3790, 18)\n",
            "220/500 - Device --> ca: R325 / unit: R388 / scp: 00-00-03 --> Shape: (3784, 18)\n",
            "221/500 - Device --> ca: N334B / unit: R341 / scp: 00-00-00 --> Shape: (3821, 18)\n",
            "222/500 - Device --> ca: R503 / unit: R276 / scp: 01-00-02 --> Shape: (3782, 18)\n",
            "223/500 - Device --> ca: R220 / unit: R160 / scp: 01-00-01 --> Shape: (3744, 18)\n",
            "224/500 - Device --> ca: R248 / unit: R178 / scp: 00-00-00 --> Shape: (3829, 18)\n",
            "225/500 - Device --> ca: N206 / unit: R104 / scp: 01-05-00 --> Shape: (3835, 18)\n",
            "226/500 - Device --> ca: R180 / unit: R193 / scp: 00-00-03 --> Shape: (3821, 18)\n",
            "227/500 - Device --> ca: R504 / unit: R276 / scp: 00-FF-01 --> Shape: (1, 18)\n",
            "228/500 - Device --> ca: A061 / unit: R142 / scp: 00-00-02 --> Shape: (3807, 18)\n",
            "229/500 - Device --> ca: A084 / unit: R125 / scp: 01-00-03 --> Shape: (3305, 18)\n",
            "230/500 - Device --> ca: N091 / unit: R029 / scp: 02-05-00 --> Shape: (3812, 18)\n",
            "231/500 - Device --> ca: R610 / unit: R057 / scp: 00-04-01 --> Shape: (3973, 18)\n",
            "232/500 - Device --> ca: K025 / unit: R404 / scp: 00-03-00 --> Shape: (3827, 18)\n",
            "233/500 - Device --> ca: N022 / unit: R332 / scp: 02-05-01 --> Shape: (3789, 18)\n",
            "234/500 - Device --> ca: N523 / unit: R300 / scp: 00-00-00 --> Shape: (3803, 18)\n",
            "235/500 - Device --> ca: H030 / unit: R266 / scp: 01-00-00 --> Shape: (3774, 18)\n",
            "236/500 - Device --> ca: R210A / unit: R044 / scp: 03-03-00 --> Shape: (3810, 18)\n",
            "237/500 - Device --> ca: R138 / unit: R293 / scp: 00-00-03 --> Shape: (3947, 18)\n",
            "238/500 - Device --> ca: N090 / unit: R139 / scp: 01-00-00 --> Shape: (3794, 18)\n",
            "239/500 - Device --> ca: N330 / unit: R202 / scp: 00-03-00 --> Shape: (3824, 18)\n",
            "240/500 - Device --> ca: H007 / unit: R248 / scp: 00-00-00 --> Shape: (3808, 18)\n",
            "241/500 - Device --> ca: N091 / unit: R029 / scp: 02-05-03 --> Shape: (3763, 18)\n",
            "242/500 - Device --> ca: R526 / unit: R096 / scp: 00-00-01 --> Shape: (3837, 18)\n",
            "243/500 - Device --> ca: N056 / unit: R188 / scp: 01-00-02 --> Shape: (3858, 18)\n",
            "244/500 - Device --> ca: N305A / unit: R016 / scp: 00-03-01 --> Shape: (3788, 18)\n",
            "245/500 - Device --> ca: R250 / unit: R179 / scp: 00-00-00 --> Shape: (3855, 18)\n",
            "246/500 - Device --> ca: J037 / unit: R009 / scp: 00-00-01 --> Shape: (3801, 18)\n",
            "247/500 - Device --> ca: R312 / unit: R405 / scp: 00-05-00 --> Shape: (3782, 18)\n",
            "248/500 - Device --> ca: N339A / unit: R114 / scp: 00-00-01 --> Shape: (3794, 18)\n",
            "249/500 - Device --> ca: E013 / unit: R373 / scp: 00-00-02 --> Shape: (3783, 18)\n",
            "250/500 - Device --> ca: R244 / unit: R050 / scp: 00-03-01 --> Shape: (3802, 18)\n",
            "251/500 - Device --> ca: R159 / unit: R164 / scp: 01-00-02 --> Shape: (3782, 18)\n",
            "252/500 - Device --> ca: R138 / unit: R293 / scp: 00-03-00 --> Shape: (3944, 18)\n",
            "253/500 - Device --> ca: R519 / unit: R223 / scp: 00-00-01 --> Shape: (3832, 18)\n",
            "254/500 - Device --> ca: N513 / unit: R163 / scp: 04-00-01 --> Shape: (3749, 18)\n",
            "255/500 - Device --> ca: N547 / unit: R420 / scp: 01-06-02 --> Shape: (3507, 18)\n",
            "256/500 - Device --> ca: R159 / unit: R164 / scp: 01-00-01 --> Shape: (3781, 18)\n",
            "257/500 - Device --> ca: R287 / unit: R244 / scp: 00-00-01 --> Shape: (3823, 18)\n",
            "258/500 - Device --> ca: R622 / unit: R123 / scp: 00-00-02 --> Shape: (3820, 18)\n",
            "259/500 - Device --> ca: B031 / unit: R172 / scp: 01-00-00 --> Shape: (3776, 18)\n",
            "260/500 - Device --> ca: N604 / unit: R342 / scp: 00-05-01 --> Shape: (3818, 18)\n",
            "261/500 - Device --> ca: N554 / unit: R423 / scp: 01-04-01 --> Shape: (3608, 18)\n",
            "262/500 - Device --> ca: N422 / unit: R318 / scp: 00-06-00 --> Shape: (3781, 18)\n",
            "263/500 - Device --> ca: R306 / unit: R207 / scp: 00-00-02 --> Shape: (3797, 18)\n",
            "264/500 - Device --> ca: N071 / unit: R013 / scp: 00-00-04 --> Shape: (3831, 18)\n",
            "265/500 - Device --> ca: B015 / unit: R098 / scp: 01-00-02 --> Shape: (3801, 18)\n",
            "266/500 - Device --> ca: R250 / unit: R179 / scp: 00-00-07 --> Shape: (3857, 18)\n",
            "267/500 - Device --> ca: B032 / unit: R264 / scp: 00-00-02 --> Shape: (3791, 18)\n",
            "268/500 - Device --> ca: N025 / unit: R102 / scp: 01-00-01 --> Shape: (3815, 18)\n",
            "269/500 - Device --> ca: R101 / unit: R001 / scp: 02-00-04 --> Shape: (3761, 18)\n",
            "270/500 - Device --> ca: R244A / unit: R050 / scp: 01-06-01 --> Shape: (3786, 18)\n",
            "271/500 - Device --> ca: PTH19 / unit: R549 / scp: 02-01-00 --> Shape: (3547, 18)\n",
            "272/500 - Device --> ca: PTH17 / unit: R541 / scp: 01-00-00 --> Shape: (3606, 18)\n",
            "273/500 - Device --> ca: N701 / unit: R571 / scp: 00-00-02 --> Shape: (1600, 18)\n",
            "274/500 - Device --> ca: R520 / unit: R223 / scp: 01-06-01 --> Shape: (3816, 18)\n",
            "275/500 - Device --> ca: PTH05 / unit: R543 / scp: 00-04-01 --> Shape: (3592, 18)\n",
            "276/500 - Device --> ca: N131 / unit: R383 / scp: 00-00-02 --> Shape: (3793, 18)\n",
            "277/500 - Device --> ca: PTH16 / unit: R550 / scp: 01-00-00 --> Shape: (3595, 18)\n",
            "278/500 - Device --> ca: R243 / unit: R049 / scp: 00-03-02 --> Shape: (3783, 18)\n",
            "279/500 - Device --> ca: R122 / unit: R290 / scp: 02-06-01 --> Shape: (3773, 18)\n",
            "280/500 - Device --> ca: R409 / unit: R449 / scp: 01-00-02 --> Shape: (3722, 18)\n",
            "281/500 - Device --> ca: H016 / unit: R250 / scp: 00-00-00 --> Shape: (3797, 18)\n",
            "282/500 - Device --> ca: N091 / unit: R029 / scp: 02-05-01 --> Shape: (3811, 18)\n",
            "283/500 - Device --> ca: N186 / unit: R418 / scp: 00-05-00 --> Shape: (3837, 18)\n",
            "284/500 - Device --> ca: R203 / unit: R043 / scp: 00-00-01 --> Shape: (3903, 18)\n",
            "285/500 - Device --> ca: R101 / unit: R001 / scp: 02-07-03 --> Shape: (3171, 18)\n",
            "286/500 - Device --> ca: N205 / unit: R195 / scp: 02-00-02 --> Shape: (3802, 18)\n",
            "287/500 - Device --> ca: R408 / unit: R449 / scp: 00-00-02 --> Shape: (3791, 18)\n",
            "288/500 - Device --> ca: R327 / unit: R361 / scp: 01-05-00 --> Shape: (3784, 18)\n",
            "289/500 - Device --> ca: R245 / unit: R051 / scp: 00-05-00 --> Shape: (3850, 18)\n",
            "290/500 - Device --> ca: A006 / unit: R079 / scp: 00-03-02 --> Shape: (3838, 18)\n",
            "291/500 - Device --> ca: R173 / unit: R159 / scp: 00-00-00 --> Shape: (3840, 18)\n",
            "292/500 - Device --> ca: R179 / unit: R193 / scp: 01-00-00 --> Shape: (3794, 18)\n",
            "293/500 - Device --> ca: H027 / unit: R137 / scp: 01-00-01 --> Shape: (3805, 18)\n",
            "294/500 - Device --> ca: B019 / unit: R149 / scp: 00-00-04 --> Shape: (3779, 18)\n",
            "295/500 - Device --> ca: N322 / unit: R340 / scp: 00-00-01 --> Shape: (3813, 18)\n",
            "296/500 - Device --> ca: B016 / unit: R098 / scp: 00-03-00 --> Shape: (3796, 18)\n",
            "297/500 - Device --> ca: N182 / unit: R414 / scp: 00-06-01 --> Shape: (3791, 18)\n",
            "298/500 - Device --> ca: N182 / unit: R414 / scp: 00-00-01 --> Shape: (3789, 18)\n",
            "299/500 - Device --> ca: R622 / unit: R123 / scp: 00-00-06 --> Shape: (3821, 18)\n",
            "300/500 - Device --> ca: N325A / unit: R218 / scp: 00-05-01 --> Shape: (3860, 18)\n",
            "301/500 - Device --> ca: N506 / unit: R022 / scp: 00-00-02 --> Shape: (3914, 18)\n",
            "302/500 - Device --> ca: R306 / unit: R207 / scp: 00-00-04 --> Shape: (3788, 18)\n",
            "303/500 - Device --> ca: A030 / unit: R083 / scp: 01-03-00 --> Shape: (3801, 18)\n",
            "304/500 - Device --> ca: N519A / unit: R461 / scp: 01-01-01 --> Shape: (3850, 18)\n",
            "305/500 - Device --> ca: B019 / unit: R149 / scp: 00-00-00 --> Shape: (3777, 18)\n",
            "306/500 - Device --> ca: D002 / unit: R390 / scp: 00-03-00 --> Shape: (3831, 18)\n",
            "307/500 - Device --> ca: A083 / unit: R125 / scp: 00-00-03 --> Shape: (3799, 18)\n",
            "308/500 - Device --> ca: A015 / unit: R081 / scp: 00-03-01 --> Shape: (3821, 18)\n",
            "309/500 - Device --> ca: A060 / unit: R001 / scp: 00-00-05 --> Shape: (3835, 18)\n",
            "310/500 - Device --> ca: N420B / unit: R317 / scp: 00-03-02 --> Shape: (3802, 18)\n",
            "311/500 - Device --> ca: PTH04 / unit: R551 / scp: 00-00-00 --> Shape: (3588, 18)\n",
            "312/500 - Device --> ca: R236 / unit: R045 / scp: 00-03-00 --> Shape: (3883, 18)\n",
            "313/500 - Device --> ca: R160A / unit: R164 / scp: 00-00-02 --> Shape: (3811, 18)\n",
            "314/500 - Device --> ca: R518 / unit: R261 / scp: 00-03-01 --> Shape: (3779, 18)\n",
            "315/500 - Device --> ca: PTH12 / unit: R542 / scp: 00-00-02 --> Shape: (3593, 18)\n",
            "316/500 - Device --> ca: N182 / unit: R414 / scp: 00-06-00 --> Shape: (3788, 18)\n",
            "317/500 - Device --> ca: R422 / unit: R428 / scp: 00-03-00 --> Shape: (3803, 18)\n",
            "318/500 - Device --> ca: G001 / unit: R151 / scp: 00-03-03 --> Shape: (3801, 18)\n",
            "319/500 - Device --> ca: A002 / unit: R051 / scp: 02-06-00 --> Shape: (3802, 18)\n",
            "320/500 - Device --> ca: PTH21 / unit: R540 / scp: 01-00-03 --> Shape: (1171, 18)\n",
            "321/500 - Device --> ca: R244 / unit: R050 / scp: 00-06-02 --> Shape: (3802, 18)\n",
            "322/500 - Device --> ca: R238 / unit: R046 / scp: 00-05-00 --> Shape: (3879, 18)\n",
            "323/500 - Device --> ca: R517 / unit: R291 / scp: 01-05-00 --> Shape: (3805, 18)\n",
            "324/500 - Device --> ca: H009 / unit: R235 / scp: 00-06-01 --> Shape: (3801, 18)\n",
            "325/500 - Device --> ca: N506 / unit: R022 / scp: 00-00-00 --> Shape: (3915, 18)\n",
            "326/500 - Device --> ca: N332 / unit: R219 / scp: 01-06-03 --> Shape: (3833, 18)\n",
            "327/500 - Device --> ca: R310 / unit: R053 / scp: 01-00-03 --> Shape: (3842, 18)\n",
            "328/500 - Device --> ca: R228 / unit: R143 / scp: 00-00-04 --> Shape: (3795, 18)\n",
            "329/500 - Device --> ca: N141 / unit: R356 / scp: 00-00-00 --> Shape: (3824, 18)\n",
            "330/500 - Device --> ca: H022 / unit: R279 / scp: 00-00-00 --> Shape: (3796, 18)\n",
            "331/500 - Device --> ca: R237B / unit: R047 / scp: 01-00-01 --> Shape: (3797, 18)\n",
            "332/500 - Device --> ca: J016 / unit: R381 / scp: 00-00-00 --> Shape: (3812, 18)\n",
            "333/500 - Device --> ca: N330 / unit: R202 / scp: 00-05-00 --> Shape: (3824, 18)\n",
            "334/500 - Device --> ca: R238 / unit: R046 / scp: 00-00-05 --> Shape: (3924, 18)\n",
            "335/500 - Device --> ca: N089 / unit: R139 / scp: 00-03-02 --> Shape: (3815, 18)\n",
            "336/500 - Device --> ca: A011 / unit: R080 / scp: 01-00-00 --> Shape: (3857, 18)\n",
            "337/500 - Device --> ca: R509 / unit: R121 / scp: 00-00-02 --> Shape: (3803, 18)\n",
            "338/500 - Device --> ca: S101 / unit: R070 / scp: 00-03-00 --> Shape: (3939, 18)\n",
            "339/500 - Device --> ca: N067 / unit: R012 / scp: 00-03-02 --> Shape: (3765, 18)\n",
            "340/500 - Device --> ca: N400A / unit: R359 / scp: 02-06-01 --> Shape: (3834, 18)\n",
            "341/500 - Device --> ca: R221 / unit: R170 / scp: 01-05-01 --> Shape: (3887, 18)\n",
            "342/500 - Device --> ca: N546 / unit: R204 / scp: 00-05-01 --> Shape: (3804, 18)\n",
            "343/500 - Device --> ca: A071 / unit: R044 / scp: 02-00-02 --> Shape: (3730, 18)\n",
            "344/500 - Device --> ca: N203 / unit: R195 / scp: 00-03-00 --> Shape: (3831, 18)\n",
            "345/500 - Device --> ca: N118 / unit: R199 / scp: 01-00-02 --> Shape: (3803, 18)\n",
            "346/500 - Device --> ca: JFK03 / unit: R536 / scp: 00-00-01 --> Shape: (3759, 18)\n",
            "347/500 - Device --> ca: A050 / unit: R088 / scp: 00-06-00 --> Shape: (3822, 18)\n",
            "348/500 - Device --> ca: H001 / unit: R175 / scp: 00-00-04 --> Shape: (3829, 18)\n",
            "349/500 - Device --> ca: R291 / unit: R183 / scp: 00-00-00 --> Shape: (3780, 18)\n",
            "350/500 - Device --> ca: N508 / unit: R453 / scp: 00-00-04 --> Shape: (3819, 18)\n",
            "351/500 - Device --> ca: N700A / unit: R570 / scp: 01-00-00 --> Shape: (1595, 18)\n",
            "352/500 - Device --> ca: R315 / unit: R406 / scp: 01-00-01 --> Shape: (3805, 18)\n",
            "353/500 - Device --> ca: A081 / unit: R028 / scp: 04-00-01 --> Shape: (3825, 18)\n",
            "354/500 - Device --> ca: N094 / unit: R029 / scp: 01-05-01 --> Shape: (3809, 18)\n",
            "355/500 - Device --> ca: A054 / unit: R227 / scp: 01-00-01 --> Shape: (3797, 18)\n",
            "356/500 - Device --> ca: R203 / unit: R043 / scp: 00-05-00 --> Shape: (3902, 18)\n",
            "357/500 - Device --> ca: R534 / unit: R055 / scp: 01-03-00 --> Shape: (3799, 18)\n",
            "358/500 - Device --> ca: N311 / unit: R339 / scp: 01-06-00 --> Shape: (3775, 18)\n",
            "359/500 - Device --> ca: R610 / unit: R057 / scp: 00-06-01 --> Shape: (3972, 18)\n",
            "360/500 - Device --> ca: N519A / unit: R461 / scp: 01-05-03 --> Shape: (3851, 18)\n",
            "361/500 - Device --> ca: B017 / unit: R262 / scp: 00-00-02 --> Shape: (3787, 18)\n",
            "362/500 - Device --> ca: N343 / unit: R019 / scp: 00-00-00 --> Shape: (3819, 18)\n",
            "363/500 - Device --> ca: N600 / unit: R302 / scp: 00-06-01 --> Shape: (3825, 18)\n",
            "364/500 - Device --> ca: R647 / unit: R110 / scp: 02-00-01 --> Shape: (3812, 18)\n",
            "365/500 - Device --> ca: R413 / unit: R325 / scp: 00-00-01 --> Shape: (3800, 18)\n",
            "366/500 - Device --> ca: R605 / unit: R456 / scp: 00-03-00 --> Shape: (3795, 18)\n",
            "367/500 - Device --> ca: R406 / unit: R448 / scp: 00-00-02 --> Shape: (3796, 18)\n",
            "368/500 - Device --> ca: N324 / unit: R018 / scp: 00-00-00 --> Shape: (3831, 18)\n",
            "369/500 - Device --> ca: R643 / unit: R135 / scp: 00-03-00 --> Shape: (3846, 18)\n",
            "370/500 - Device --> ca: R332 / unit: R365 / scp: 00-00-01 --> Shape: (3773, 18)\n",
            "371/500 - Device --> ca: N305 / unit: R017 / scp: 01-00-02 --> Shape: (3804, 18)\n",
            "372/500 - Device --> ca: PTH12 / unit: R542 / scp: 00-04-03 --> Shape: (3580, 18)\n",
            "373/500 - Device --> ca: N103 / unit: R127 / scp: 00-06-00 --> Shape: (3791, 18)\n",
            "374/500 - Device --> ca: J024 / unit: R437 / scp: 00-00-02 --> Shape: (3791, 18)\n",
            "375/500 - Device --> ca: R248 / unit: R178 / scp: 00-00-01 --> Shape: (3829, 18)\n",
            "376/500 - Device --> ca: R317 / unit: R408 / scp: 01-05-00 --> Shape: (3122, 18)\n",
            "377/500 - Device --> ca: N134 / unit: R385 / scp: 00-00-01 --> Shape: (3781, 18)\n",
            "378/500 - Device --> ca: A046 / unit: R463 / scp: 00-06-05 --> Shape: (3872, 18)\n",
            "379/500 - Device --> ca: R169 / unit: R168 / scp: 01-03-00 --> Shape: (3785, 18)\n",
            "380/500 - Device --> ca: R132 / unit: R190 / scp: 01-00-00 --> Shape: (3772, 18)\n",
            "381/500 - Device --> ca: B009 / unit: R411 / scp: 00-00-00 --> Shape: (3807, 18)\n",
            "382/500 - Device --> ca: N141 / unit: R356 / scp: 00-00-04 --> Shape: (3826, 18)\n",
            "383/500 - Device --> ca: PTH08 / unit: R540 / scp: 00-00-01 --> Shape: (924, 18)\n",
            "384/500 - Device --> ca: J007 / unit: R377 / scp: 00-06-01 --> Shape: (562, 18)\n",
            "385/500 - Device --> ca: R158 / unit: R084 / scp: 00-05-01 --> Shape: (3826, 18)\n",
            "386/500 - Device --> ca: PTH02 / unit: R544 / scp: 00-00-04 --> Shape: (3592, 18)\n",
            "387/500 - Device --> ca: N606 / unit: R025 / scp: 00-05-01 --> Shape: (3815, 18)\n",
            "388/500 - Device --> ca: B017 / unit: R262 / scp: 00-00-00 --> Shape: (3790, 18)\n",
            "389/500 - Device --> ca: R249 / unit: R179 / scp: 01-00-07 --> Shape: (3799, 18)\n",
            "390/500 - Device --> ca: N195 / unit: R358 / scp: 00-05-01 --> Shape: (3779, 18)\n",
            "391/500 - Device --> ca: N408A / unit: R256 / scp: 00-06-02 --> Shape: (3776, 18)\n",
            "392/500 - Device --> ca: R228 / unit: R143 / scp: 00-00-05 --> Shape: (3799, 18)\n",
            "393/500 - Device --> ca: PTH16 / unit: R550 / scp: 01-00-04 --> Shape: (3595, 18)\n",
            "394/500 - Device --> ca: PTH22 / unit: R540 / scp: 02-01-00 --> Shape: (1240, 18)\n",
            "395/500 - Device --> ca: N205 / unit: R195 / scp: 02-00-03 --> Shape: (3801, 18)\n",
            "396/500 - Device --> ca: PTH07 / unit: R550 / scp: 00-02-01 --> Shape: (3587, 18)\n",
            "397/500 - Device --> ca: N303 / unit: R015 / scp: 00-00-04 --> Shape: (3816, 18)\n",
            "398/500 - Device --> ca: R111 / unit: R027 / scp: 00-00-03 --> Shape: (3798, 18)\n",
            "399/500 - Device --> ca: N338B / unit: R128 / scp: 00-00-01 --> Shape: (3777, 18)\n",
            "400/500 - Device --> ca: N316A / unit: R267 / scp: 01-00-01 --> Shape: (3794, 18)\n",
            "401/500 - Device --> ca: PTH13 / unit: R541 / scp: 00-04-09 --> Shape: (3532, 18)\n",
            "402/500 - Device --> ca: R229 / unit: R143 / scp: 01-00-05 --> Shape: (3823, 18)\n",
            "403/500 - Device --> ca: N544 / unit: R289 / scp: 01-05-00 --> Shape: (3771, 18)\n",
            "404/500 - Device --> ca: R240 / unit: R047 / scp: 00-03-06 --> Shape: (3903, 18)\n",
            "405/500 - Device --> ca: A041 / unit: R086 / scp: 00-00-01 --> Shape: (3847, 18)\n",
            "406/500 - Device --> ca: C020 / unit: R233 / scp: 00-06-00 --> Shape: (109, 18)\n",
            "407/500 - Device --> ca: R245 / unit: R051 / scp: 00-03-02 --> Shape: (3857, 18)\n",
            "408/500 - Device --> ca: PTH17 / unit: R541 / scp: 01-00-09 --> Shape: (3570, 18)\n",
            "409/500 - Device --> ca: N700 / unit: R570 / scp: 00-00-02 --> Shape: (1606, 18)\n",
            "410/500 - Device --> ca: N405 / unit: R239 / scp: 00-06-02 --> Shape: (3805, 18)\n",
            "411/500 - Device --> ca: N187 / unit: R419 / scp: 00-05-01 --> Shape: (3798, 18)\n",
            "412/500 - Device --> ca: R518 / unit: R261 / scp: 00-03-02 --> Shape: (3780, 18)\n",
            "413/500 - Device --> ca: N131 / unit: R383 / scp: 00-00-01 --> Shape: (3793, 18)\n",
            "414/500 - Device --> ca: N506 / unit: R022 / scp: 00-03-01 --> Shape: (3899, 18)\n",
            "415/500 - Device --> ca: N343 / unit: R019 / scp: 00-00-09 --> Shape: (3817, 18)\n",
            "416/500 - Device --> ca: N551 / unit: R421 / scp: 00-06-01 --> Shape: (731, 18)\n",
            "417/500 - Device --> ca: R402 / unit: R446 / scp: 00-00-01 --> Shape: (3815, 18)\n",
            "418/500 - Device --> ca: R134 / unit: R272 / scp: 01-00-03 --> Shape: (3800, 18)\n",
            "419/500 - Device --> ca: N128 / unit: R200 / scp: 00-00-03 --> Shape: (3814, 18)\n",
            "420/500 - Device --> ca: D005 / unit: R398 / scp: 00-00-01 --> Shape: (4578, 18)\n",
            "421/500 - Device --> ca: B021 / unit: R228 / scp: 00-05-01 --> Shape: (3796, 18)\n",
            "422/500 - Device --> ca: A035 / unit: R170 / scp: 00-00-03 --> Shape: (3850, 18)\n",
            "423/500 - Device --> ca: R238 / unit: R046 / scp: 00-05-01 --> Shape: (3893, 18)\n",
            "424/500 - Device --> ca: R639 / unit: R109 / scp: 00-00-00 --> Shape: (3837, 18)\n",
            "425/500 - Device --> ca: C028 / unit: R216 / scp: 01-06-01 --> Shape: (3806, 18)\n",
            "426/500 - Device --> ca: N607 / unit: R025 / scp: 01-06-04 --> Shape: (3778, 18)\n",
            "427/500 - Device --> ca: N181 / unit: R357 / scp: 00-00-02 --> Shape: (3781, 18)\n",
            "428/500 - Device --> ca: N507 / unit: R023 / scp: 00-00-00 --> Shape: (3863, 18)\n",
            "429/500 - Device --> ca: H001 / unit: R175 / scp: 00-00-05 --> Shape: (3828, 18)\n",
            "430/500 - Device --> ca: R203 / unit: R043 / scp: 00-03-02 --> Shape: (3904, 18)\n",
            "431/500 - Device --> ca: E001 / unit: R368 / scp: 00-05-00 --> Shape: (3866, 18)\n",
            "432/500 - Device --> ca: R310 / unit: R053 / scp: 01-03-00 --> Shape: (3844, 18)\n",
            "433/500 - Device --> ca: N327 / unit: R254 / scp: 00-05-00 --> Shape: (3821, 18)\n",
            "434/500 - Device --> ca: N010 / unit: R126 / scp: 00-05-00 --> Shape: (3778, 18)\n",
            "435/500 - Device --> ca: E003 / unit: R369 / scp: 00-03-01 --> Shape: (3703, 18)\n",
            "436/500 - Device --> ca: R182 / unit: R035 / scp: 00-00-01 --> Shape: (3820, 18)\n",
            "437/500 - Device --> ca: PTH18 / unit: R549 / scp: 01-00-03 --> Shape: (3593, 18)\n",
            "438/500 - Device --> ca: R305 / unit: R206 / scp: 01-00-01 --> Shape: (3751, 18)\n",
            "439/500 - Device --> ca: N016A / unit: R296 / scp: 00-03-01 --> Shape: (3716, 18)\n",
            "440/500 - Device --> ca: R236 / unit: R045 / scp: 00-00-01 --> Shape: (3883, 18)\n",
            "441/500 - Device --> ca: R238 / unit: R046 / scp: 00-03-01 --> Shape: (3826, 18)\n",
            "442/500 - Device --> ca: N103 / unit: R127 / scp: 00-02-01 --> Shape: (3822, 18)\n",
            "443/500 - Device --> ca: N070 / unit: R012 / scp: 04-05-01 --> Shape: (3789, 18)\n",
            "444/500 - Device --> ca: G001 / unit: R151 / scp: 00-00-04 --> Shape: (3801, 18)\n",
            "445/500 - Device --> ca: H006 / unit: R330 / scp: 01-00-02 --> Shape: (3798, 18)\n",
            "446/500 - Device --> ca: H028 / unit: R266 / scp: 00-00-00 --> Shape: (3817, 18)\n",
            "447/500 - Device --> ca: E009 / unit: R370 / scp: 00-00-01 --> Shape: (3790, 18)\n",
            "448/500 - Device --> ca: R192 / unit: R039 / scp: 00-00-02 --> Shape: (3880, 18)\n",
            "449/500 - Device --> ca: R306 / unit: R207 / scp: 00-00-03 --> Shape: (3797, 18)\n",
            "450/500 - Device --> ca: B019 / unit: R149 / scp: 00-00-01 --> Shape: (3773, 18)\n",
            "451/500 - Device --> ca: R220 / unit: R160 / scp: 01-00-00 --> Shape: (3732, 18)\n",
            "452/500 - Device --> ca: R645 / unit: R110 / scp: 00-06-00 --> Shape: (3848, 18)\n",
            "453/500 - Device --> ca: R220 / unit: R160 / scp: 01-00-02 --> Shape: (3742, 18)\n",
            "454/500 - Device --> ca: N119 / unit: R199 / scp: 00-00-02 --> Shape: (3808, 18)\n",
            "455/500 - Device --> ca: R238 / unit: R046 / scp: 00-00-03 --> Shape: (1801, 18)\n",
            "456/500 - Device --> ca: R163 / unit: R166 / scp: 01-00-02 --> Shape: (3821, 18)\n",
            "457/500 - Device --> ca: R412 / unit: R146 / scp: 00-03-02 --> Shape: (3808, 18)\n",
            "458/500 - Device --> ca: R637 / unit: R451 / scp: 00-06-00 --> Shape: (3806, 18)\n",
            "459/500 - Device --> ca: R240 / unit: R047 / scp: 00-03-07 --> Shape: (3904, 18)\n",
            "460/500 - Device --> ca: N329 / unit: R201 / scp: 00-03-04 --> Shape: (3856, 18)\n",
            "461/500 - Device --> ca: R227 / unit: R131 / scp: 00-00-00 --> Shape: (3816, 18)\n",
            "462/500 - Device --> ca: E003 / unit: R369 / scp: 00-05-01 --> Shape: (3753, 18)\n",
            "463/500 - Device --> ca: A034 / unit: R170 / scp: 03-00-00 --> Shape: (3835, 18)\n",
            "464/500 - Device --> ca: R216 / unit: R322 / scp: 01-00-00 --> Shape: (3807, 18)\n",
            "465/500 - Device --> ca: B004 / unit: R171 / scp: 00-00-03 --> Shape: (3845, 18)\n",
            "466/500 - Device --> ca: R188 / unit: R037 / scp: 00-06-00 --> Shape: (3766, 18)\n",
            "467/500 - Device --> ca: R197 / unit: R117 / scp: 00-00-00 --> Shape: (3820, 18)\n",
            "468/500 - Device --> ca: R523 / unit: R147 / scp: 00-06-01 --> Shape: (3819, 18)\n",
            "469/500 - Device --> ca: N092 / unit: R029 / scp: 03-00-03 --> Shape: (3842, 18)\n",
            "470/500 - Device --> ca: OB01 / unit: R459 / scp: 00-00-01 --> Shape: (1510, 18)\n",
            "471/500 - Device --> ca: PTH08 / unit: R540 / scp: 00-04-03 --> Shape: (982, 18)\n",
            "472/500 - Device --> ca: N405 / unit: R239 / scp: 00-06-00 --> Shape: (3796, 18)\n",
            "473/500 - Device --> ca: E009 / unit: R370 / scp: 00-06-00 --> Shape: (3782, 18)\n",
            "474/500 - Device --> ca: N539A / unit: R288 / scp: 00-00-01 --> Shape: (3810, 18)\n",
            "475/500 - Device --> ca: N605 / unit: R024 / scp: 00-06-03 --> Shape: (3838, 18)\n",
            "476/500 - Device --> ca: N333A / unit: R141 / scp: 00-03-01 --> Shape: (3852, 18)\n",
            "477/500 - Device --> ca: N116 / unit: R198 / scp: 00-03-01 --> Shape: (3874, 18)\n",
            "478/500 - Device --> ca: TRAM2 / unit: R469 / scp: 00-05-00 --> Shape: (3695, 18)\n",
            "479/500 - Device --> ca: R506 / unit: R276 / scp: 02-05-01 --> Shape: (3775, 18)\n",
            "480/500 - Device --> ca: C026 / unit: R215 / scp: 01-06-01 --> Shape: (3783, 18)\n",
            "481/500 - Device --> ca: E009 / unit: R370 / scp: 00-00-02 --> Shape: (3789, 18)\n",
            "482/500 - Device --> ca: PTH17 / unit: R541 / scp: 01-00-01 --> Shape: (3597, 18)\n",
            "483/500 - Device --> ca: R307 / unit: R207 / scp: 01-05-00 --> Shape: (3791, 18)\n",
            "484/500 - Device --> ca: N336 / unit: R158 / scp: 00-03-00 --> Shape: (3812, 18)\n",
            "485/500 - Device --> ca: R226 / unit: R131 / scp: 02-05-02 --> Shape: (3767, 18)\n",
            "486/500 - Device --> ca: R241A / unit: R048 / scp: 00-00-00 --> Shape: (3854, 18)\n",
            "487/500 - Device --> ca: N534 / unit: R220 / scp: 01-00-00 --> Shape: (3777, 18)\n",
            "488/500 - Device --> ca: R245 / unit: R051 / scp: 00-03-01 --> Shape: (3855, 18)\n",
            "489/500 - Device --> ca: R203 / unit: R043 / scp: 00-05-03 --> Shape: (3888, 18)\n",
            "490/500 - Device --> ca: R286 / unit: R309 / scp: 00-00-03 --> Shape: (3805, 18)\n",
            "491/500 - Device --> ca: R286 / unit: R309 / scp: 00-00-01 --> Shape: (3808, 18)\n",
            "492/500 - Device --> ca: B031 / unit: R172 / scp: 01-06-01 --> Shape: (3773, 18)\n",
            "493/500 - Device --> ca: N203 / unit: R195 / scp: 00-00-03 --> Shape: (3831, 18)\n",
            "494/500 - Device --> ca: B009 / unit: R411 / scp: 00-00-02 --> Shape: (3809, 18)\n",
            "495/500 - Device --> ca: N110 / unit: R283 / scp: 00-05-00 --> Shape: (3796, 18)\n",
            "496/500 - Device --> ca: N080 / unit: R138 / scp: 00-00-01 --> Shape: (3794, 18)\n",
            "497/500 - Device --> ca: N400A / unit: R359 / scp: 02-03-00 --> Shape: (3844, 18)\n",
            "498/500 - Device --> ca: A029 / unit: R082 / scp: 00-00-01 --> Shape: (3805, 18)\n",
            "499/500 - Device --> ca: R138 / unit: R293 / scp: 00-03-01 --> Shape: (3945, 18)\n",
            "500/500 - Device --> ca: N203 / unit: R195 / scp: 00-05-00 --> Shape: (3832, 18)\n",
            "\n",
            "Shape of the dataframe combining all devices again: (1832657, 18)\n"
          ]
        }
      ]
    },
    {
      "cell_type": "code",
      "source": [
        "# saving this partial result to be reused and avoid having to run the above cell again:\n",
        "df_total.to_csv('/content/drive/MyDrive/Data Science/NYC Subway Dataset/df_total_devices.csv')"
      ],
      "metadata": {
        "id": "9aljHOZVyH5A"
      },
      "execution_count": null,
      "outputs": []
    },
    {
      "cell_type": "code",
      "source": [
        "# checking if the calculations are correct:\n",
        "# taking some random device:\n",
        "random_device = df_temp.sample(1)\n",
        "ca = random_device['ca'].item()\n",
        "unit = random_device['unit'].item()\n",
        "scp = random_device['scp'].item()\n",
        "print('Device chosen at random --> ca: {} / unit: {} / scp: {}'.format(ca, unit, scp))\n",
        "\n",
        "df_some_device = df_total.query(\"ca == '{}' and unit == '{}' and scp == '{}' \".format(ca, unit, scp)).sort_values('time')\n",
        "df_some_device\n",
        "\n",
        "# YES!! The calculations seem to be correct!!"
      ],
      "metadata": {
        "colab": {
          "base_uri": "https://localhost:8080/",
          "height": 832
        },
        "id": "U1spM0xCyI8a",
        "outputId": "d3de7904-b7de-4824-eea2-6529c06602b9"
      },
      "execution_count": null,
      "outputs": [
        {
          "output_type": "stream",
          "name": "stdout",
          "text": [
            "Random device chosen --> ca: B009 / unit: R411 / scp: 00-00-02\n"
          ]
        },
        {
          "output_type": "execute_result",
          "data": {
            "text/html": [
              "\n",
              "  <div id=\"df-13afb67f-39cf-4003-972e-c6fe37aa9f7d\">\n",
              "    <div class=\"colab-df-container\">\n",
              "      <div>\n",
              "<style scoped>\n",
              "    .dataframe tbody tr th:only-of-type {\n",
              "        vertical-align: middle;\n",
              "    }\n",
              "\n",
              "    .dataframe tbody tr th {\n",
              "        vertical-align: top;\n",
              "    }\n",
              "\n",
              "    .dataframe thead th {\n",
              "        text-align: right;\n",
              "    }\n",
              "</style>\n",
              "<table border=\"1\" class=\"dataframe\">\n",
              "  <thead>\n",
              "    <tr style=\"text-align: right;\">\n",
              "      <th></th>\n",
              "      <th>time</th>\n",
              "      <th>ca</th>\n",
              "      <th>unit</th>\n",
              "      <th>scp</th>\n",
              "      <th>station</th>\n",
              "      <th>linename</th>\n",
              "      <th>division</th>\n",
              "      <th>desc</th>\n",
              "      <th>entries</th>\n",
              "      <th>exits</th>\n",
              "      <th>year</th>\n",
              "      <th>month</th>\n",
              "      <th>day</th>\n",
              "      <th>week_day</th>\n",
              "      <th>date</th>\n",
              "      <th>hour</th>\n",
              "      <th>entries_diff</th>\n",
              "      <th>exits_diff</th>\n",
              "    </tr>\n",
              "  </thead>\n",
              "  <tbody>\n",
              "    <tr>\n",
              "      <th>1805832</th>\n",
              "      <td>2016-01-01 01:00:00</td>\n",
              "      <td>B009</td>\n",
              "      <td>R411</td>\n",
              "      <td>00-00-02</td>\n",
              "      <td>PARK PLACE</td>\n",
              "      <td>S</td>\n",
              "      <td>BMT</td>\n",
              "      <td>REGULAR</td>\n",
              "      <td>3577468.0</td>\n",
              "      <td>4262541.0</td>\n",
              "      <td>2016</td>\n",
              "      <td>1</td>\n",
              "      <td>1</td>\n",
              "      <td>4</td>\n",
              "      <td>2016-01-01</td>\n",
              "      <td>1</td>\n",
              "      <td>NaN</td>\n",
              "      <td>NaN</td>\n",
              "    </tr>\n",
              "    <tr>\n",
              "      <th>1805833</th>\n",
              "      <td>2016-01-01 05:00:00</td>\n",
              "      <td>B009</td>\n",
              "      <td>R411</td>\n",
              "      <td>00-00-02</td>\n",
              "      <td>PARK PLACE</td>\n",
              "      <td>S</td>\n",
              "      <td>BMT</td>\n",
              "      <td>REGULAR</td>\n",
              "      <td>3577580.0</td>\n",
              "      <td>4262654.0</td>\n",
              "      <td>2016</td>\n",
              "      <td>1</td>\n",
              "      <td>1</td>\n",
              "      <td>4</td>\n",
              "      <td>2016-01-01</td>\n",
              "      <td>5</td>\n",
              "      <td>112.0</td>\n",
              "      <td>113.0</td>\n",
              "    </tr>\n",
              "    <tr>\n",
              "      <th>1805834</th>\n",
              "      <td>2016-01-01 09:00:00</td>\n",
              "      <td>B009</td>\n",
              "      <td>R411</td>\n",
              "      <td>00-00-02</td>\n",
              "      <td>PARK PLACE</td>\n",
              "      <td>S</td>\n",
              "      <td>BMT</td>\n",
              "      <td>REGULAR</td>\n",
              "      <td>3577609.0</td>\n",
              "      <td>4262732.0</td>\n",
              "      <td>2016</td>\n",
              "      <td>1</td>\n",
              "      <td>1</td>\n",
              "      <td>4</td>\n",
              "      <td>2016-01-01</td>\n",
              "      <td>9</td>\n",
              "      <td>29.0</td>\n",
              "      <td>78.0</td>\n",
              "    </tr>\n",
              "    <tr>\n",
              "      <th>1805835</th>\n",
              "      <td>2016-01-01 13:00:00</td>\n",
              "      <td>B009</td>\n",
              "      <td>R411</td>\n",
              "      <td>00-00-02</td>\n",
              "      <td>PARK PLACE</td>\n",
              "      <td>S</td>\n",
              "      <td>BMT</td>\n",
              "      <td>REGULAR</td>\n",
              "      <td>3577637.0</td>\n",
              "      <td>4262769.0</td>\n",
              "      <td>2016</td>\n",
              "      <td>1</td>\n",
              "      <td>1</td>\n",
              "      <td>4</td>\n",
              "      <td>2016-01-01</td>\n",
              "      <td>13</td>\n",
              "      <td>28.0</td>\n",
              "      <td>37.0</td>\n",
              "    </tr>\n",
              "    <tr>\n",
              "      <th>1805836</th>\n",
              "      <td>2016-01-01 17:00:00</td>\n",
              "      <td>B009</td>\n",
              "      <td>R411</td>\n",
              "      <td>00-00-02</td>\n",
              "      <td>PARK PLACE</td>\n",
              "      <td>S</td>\n",
              "      <td>BMT</td>\n",
              "      <td>REGULAR</td>\n",
              "      <td>3577681.0</td>\n",
              "      <td>4262805.0</td>\n",
              "      <td>2016</td>\n",
              "      <td>1</td>\n",
              "      <td>1</td>\n",
              "      <td>4</td>\n",
              "      <td>2016-01-01</td>\n",
              "      <td>17</td>\n",
              "      <td>44.0</td>\n",
              "      <td>36.0</td>\n",
              "    </tr>\n",
              "    <tr>\n",
              "      <th>...</th>\n",
              "      <td>...</td>\n",
              "      <td>...</td>\n",
              "      <td>...</td>\n",
              "      <td>...</td>\n",
              "      <td>...</td>\n",
              "      <td>...</td>\n",
              "      <td>...</td>\n",
              "      <td>...</td>\n",
              "      <td>...</td>\n",
              "      <td>...</td>\n",
              "      <td>...</td>\n",
              "      <td>...</td>\n",
              "      <td>...</td>\n",
              "      <td>...</td>\n",
              "      <td>...</td>\n",
              "      <td>...</td>\n",
              "      <td>...</td>\n",
              "      <td>...</td>\n",
              "    </tr>\n",
              "    <tr>\n",
              "      <th>1809636</th>\n",
              "      <td>2017-09-22 09:00:00</td>\n",
              "      <td>B009</td>\n",
              "      <td>R411</td>\n",
              "      <td>00-00-02</td>\n",
              "      <td>PARK PLACE</td>\n",
              "      <td>S</td>\n",
              "      <td>BMT</td>\n",
              "      <td>REGULAR</td>\n",
              "      <td>3926177.0</td>\n",
              "      <td>4687009.0</td>\n",
              "      <td>2017</td>\n",
              "      <td>9</td>\n",
              "      <td>22</td>\n",
              "      <td>4</td>\n",
              "      <td>2017-09-22</td>\n",
              "      <td>9</td>\n",
              "      <td>3.0</td>\n",
              "      <td>10.0</td>\n",
              "    </tr>\n",
              "    <tr>\n",
              "      <th>1809637</th>\n",
              "      <td>2017-09-22 13:00:00</td>\n",
              "      <td>B009</td>\n",
              "      <td>R411</td>\n",
              "      <td>00-00-02</td>\n",
              "      <td>PARK PLACE</td>\n",
              "      <td>S</td>\n",
              "      <td>BMT</td>\n",
              "      <td>REGULAR</td>\n",
              "      <td>3926311.0</td>\n",
              "      <td>4687119.0</td>\n",
              "      <td>2017</td>\n",
              "      <td>9</td>\n",
              "      <td>22</td>\n",
              "      <td>4</td>\n",
              "      <td>2017-09-22</td>\n",
              "      <td>13</td>\n",
              "      <td>134.0</td>\n",
              "      <td>110.0</td>\n",
              "    </tr>\n",
              "    <tr>\n",
              "      <th>1809638</th>\n",
              "      <td>2017-09-22 17:00:00</td>\n",
              "      <td>B009</td>\n",
              "      <td>R411</td>\n",
              "      <td>00-00-02</td>\n",
              "      <td>PARK PLACE</td>\n",
              "      <td>S</td>\n",
              "      <td>BMT</td>\n",
              "      <td>REGULAR</td>\n",
              "      <td>3926425.0</td>\n",
              "      <td>4687209.0</td>\n",
              "      <td>2017</td>\n",
              "      <td>9</td>\n",
              "      <td>22</td>\n",
              "      <td>4</td>\n",
              "      <td>2017-09-22</td>\n",
              "      <td>17</td>\n",
              "      <td>114.0</td>\n",
              "      <td>90.0</td>\n",
              "    </tr>\n",
              "    <tr>\n",
              "      <th>1809639</th>\n",
              "      <td>2017-09-22 21:00:00</td>\n",
              "      <td>B009</td>\n",
              "      <td>R411</td>\n",
              "      <td>00-00-02</td>\n",
              "      <td>PARK PLACE</td>\n",
              "      <td>S</td>\n",
              "      <td>BMT</td>\n",
              "      <td>REGULAR</td>\n",
              "      <td>3926550.0</td>\n",
              "      <td>4687381.0</td>\n",
              "      <td>2017</td>\n",
              "      <td>9</td>\n",
              "      <td>22</td>\n",
              "      <td>4</td>\n",
              "      <td>2017-09-22</td>\n",
              "      <td>21</td>\n",
              "      <td>125.0</td>\n",
              "      <td>172.0</td>\n",
              "    </tr>\n",
              "    <tr>\n",
              "      <th>1809640</th>\n",
              "      <td>2017-09-23 01:00:00</td>\n",
              "      <td>B009</td>\n",
              "      <td>R411</td>\n",
              "      <td>00-00-02</td>\n",
              "      <td>PARK PLACE</td>\n",
              "      <td>S</td>\n",
              "      <td>BMT</td>\n",
              "      <td>REGULAR</td>\n",
              "      <td>3926660.0</td>\n",
              "      <td>4687600.0</td>\n",
              "      <td>2017</td>\n",
              "      <td>9</td>\n",
              "      <td>23</td>\n",
              "      <td>5</td>\n",
              "      <td>2017-09-23</td>\n",
              "      <td>1</td>\n",
              "      <td>110.0</td>\n",
              "      <td>219.0</td>\n",
              "    </tr>\n",
              "  </tbody>\n",
              "</table>\n",
              "<p>3809 rows × 18 columns</p>\n",
              "</div>\n",
              "      <button class=\"colab-df-convert\" onclick=\"convertToInteractive('df-13afb67f-39cf-4003-972e-c6fe37aa9f7d')\"\n",
              "              title=\"Convert this dataframe to an interactive table.\"\n",
              "              style=\"display:none;\">\n",
              "        \n",
              "  <svg xmlns=\"http://www.w3.org/2000/svg\" height=\"24px\"viewBox=\"0 0 24 24\"\n",
              "       width=\"24px\">\n",
              "    <path d=\"M0 0h24v24H0V0z\" fill=\"none\"/>\n",
              "    <path d=\"M18.56 5.44l.94 2.06.94-2.06 2.06-.94-2.06-.94-.94-2.06-.94 2.06-2.06.94zm-11 1L8.5 8.5l.94-2.06 2.06-.94-2.06-.94L8.5 2.5l-.94 2.06-2.06.94zm10 10l.94 2.06.94-2.06 2.06-.94-2.06-.94-.94-2.06-.94 2.06-2.06.94z\"/><path d=\"M17.41 7.96l-1.37-1.37c-.4-.4-.92-.59-1.43-.59-.52 0-1.04.2-1.43.59L10.3 9.45l-7.72 7.72c-.78.78-.78 2.05 0 2.83L4 21.41c.39.39.9.59 1.41.59.51 0 1.02-.2 1.41-.59l7.78-7.78 2.81-2.81c.8-.78.8-2.07 0-2.86zM5.41 20L4 18.59l7.72-7.72 1.47 1.35L5.41 20z\"/>\n",
              "  </svg>\n",
              "      </button>\n",
              "      \n",
              "  <style>\n",
              "    .colab-df-container {\n",
              "      display:flex;\n",
              "      flex-wrap:wrap;\n",
              "      gap: 12px;\n",
              "    }\n",
              "\n",
              "    .colab-df-convert {\n",
              "      background-color: #E8F0FE;\n",
              "      border: none;\n",
              "      border-radius: 50%;\n",
              "      cursor: pointer;\n",
              "      display: none;\n",
              "      fill: #1967D2;\n",
              "      height: 32px;\n",
              "      padding: 0 0 0 0;\n",
              "      width: 32px;\n",
              "    }\n",
              "\n",
              "    .colab-df-convert:hover {\n",
              "      background-color: #E2EBFA;\n",
              "      box-shadow: 0px 1px 2px rgba(60, 64, 67, 0.3), 0px 1px 3px 1px rgba(60, 64, 67, 0.15);\n",
              "      fill: #174EA6;\n",
              "    }\n",
              "\n",
              "    [theme=dark] .colab-df-convert {\n",
              "      background-color: #3B4455;\n",
              "      fill: #D2E3FC;\n",
              "    }\n",
              "\n",
              "    [theme=dark] .colab-df-convert:hover {\n",
              "      background-color: #434B5C;\n",
              "      box-shadow: 0px 1px 3px 1px rgba(0, 0, 0, 0.15);\n",
              "      filter: drop-shadow(0px 1px 2px rgba(0, 0, 0, 0.3));\n",
              "      fill: #FFFFFF;\n",
              "    }\n",
              "  </style>\n",
              "\n",
              "      <script>\n",
              "        const buttonEl =\n",
              "          document.querySelector('#df-13afb67f-39cf-4003-972e-c6fe37aa9f7d button.colab-df-convert');\n",
              "        buttonEl.style.display =\n",
              "          google.colab.kernel.accessAllowed ? 'block' : 'none';\n",
              "\n",
              "        async function convertToInteractive(key) {\n",
              "          const element = document.querySelector('#df-13afb67f-39cf-4003-972e-c6fe37aa9f7d');\n",
              "          const dataTable =\n",
              "            await google.colab.kernel.invokeFunction('convertToInteractive',\n",
              "                                                     [key], {});\n",
              "          if (!dataTable) return;\n",
              "\n",
              "          const docLinkHtml = 'Like what you see? Visit the ' +\n",
              "            '<a target=\"_blank\" href=https://colab.research.google.com/notebooks/data_table.ipynb>data table notebook</a>'\n",
              "            + ' to learn more about interactive tables.';\n",
              "          element.innerHTML = '';\n",
              "          dataTable['output_type'] = 'display_data';\n",
              "          await google.colab.output.renderOutput(dataTable, element);\n",
              "          const docLink = document.createElement('div');\n",
              "          docLink.innerHTML = docLinkHtml;\n",
              "          element.appendChild(docLink);\n",
              "        }\n",
              "      </script>\n",
              "    </div>\n",
              "  </div>\n",
              "  "
            ],
            "text/plain": [
              "                       time    ca  unit  ... hour entries_diff exits_diff\n",
              "1805832 2016-01-01 01:00:00  B009  R411  ...    1          NaN        NaN\n",
              "1805833 2016-01-01 05:00:00  B009  R411  ...    5        112.0      113.0\n",
              "1805834 2016-01-01 09:00:00  B009  R411  ...    9         29.0       78.0\n",
              "1805835 2016-01-01 13:00:00  B009  R411  ...   13         28.0       37.0\n",
              "1805836 2016-01-01 17:00:00  B009  R411  ...   17         44.0       36.0\n",
              "...                     ...   ...   ...  ...  ...          ...        ...\n",
              "1809636 2017-09-22 09:00:00  B009  R411  ...    9          3.0       10.0\n",
              "1809637 2017-09-22 13:00:00  B009  R411  ...   13        134.0      110.0\n",
              "1809638 2017-09-22 17:00:00  B009  R411  ...   17        114.0       90.0\n",
              "1809639 2017-09-22 21:00:00  B009  R411  ...   21        125.0      172.0\n",
              "1809640 2017-09-23 01:00:00  B009  R411  ...    1        110.0      219.0\n",
              "\n",
              "[3809 rows x 18 columns]"
            ]
          },
          "metadata": {},
          "execution_count": 33
        }
      ]
    },
    {
      "cell_type": "code",
      "source": [
        "# checking how many rows with null values, since the first one for each device shouold be null now:\n",
        "df_total.isnull().sum()\n",
        "\n",
        "# as expected, one row per device has the entries_diff and exits_diff values as NaN!!"
      ],
      "metadata": {
        "colab": {
          "base_uri": "https://localhost:8080/"
        },
        "id": "pHZdhbD1uyd2",
        "outputId": "46ea15ed-5582-4b45-cf82-d354f925fc3e"
      },
      "execution_count": null,
      "outputs": [
        {
          "output_type": "execute_result",
          "data": {
            "text/plain": [
              "time              0\n",
              "ca                0\n",
              "unit              0\n",
              "scp               0\n",
              "station           0\n",
              "linename          0\n",
              "division          0\n",
              "desc              0\n",
              "entries           0\n",
              "exits             0\n",
              "year              0\n",
              "month             0\n",
              "day               0\n",
              "week_day          0\n",
              "date              0\n",
              "hour              0\n",
              "entries_diff    500\n",
              "exits_diff      500\n",
              "dtype: int64"
            ]
          },
          "metadata": {},
          "execution_count": 39
        }
      ]
    },
    {
      "cell_type": "code",
      "source": [
        "# removing the NaN values:\n",
        "df_total.dropna(axis=0, inplace=True)\n",
        "df_total.shape"
      ],
      "metadata": {
        "colab": {
          "base_uri": "https://localhost:8080/"
        },
        "id": "BWKNCMNMvG1s",
        "outputId": "e1aa53ec-b018-4e8b-f0d5-ec7fe088a03d"
      },
      "execution_count": null,
      "outputs": [
        {
          "output_type": "execute_result",
          "data": {
            "text/plain": [
              "(1832157, 18)"
            ]
          },
          "metadata": {},
          "execution_count": 40
        }
      ]
    },
    {
      "cell_type": "markdown",
      "source": [
        "#### 3.4 - Continuing the bivariate analysis:"
      ],
      "metadata": {
        "id": "rM_tdxIS9rOv"
      }
    },
    {
      "cell_type": "code",
      "source": [
        "# continuing with the analysis of the device chosen at random:\n",
        "# how is the behaviour of entries and exits for a specific device?\n",
        "plt.figure(figsize=(18,6));\n",
        "sns.boxplot(data=df_some_device, x='hour', y='entries_diff');\n",
        "plt.show()"
      ],
      "metadata": {
        "colab": {
          "base_uri": "https://localhost:8080/",
          "height": 388
        },
        "id": "4WDGuP4oQCoZ",
        "outputId": "a061b9d8-08e9-4088-e426-939ec48d66e8"
      },
      "execution_count": null,
      "outputs": [
        {
          "output_type": "display_data",
          "data": {
            "image/png": "[encoded data removed]",
            "text/plain": [
              "<Figure size 1296x432 with 1 Axes>"
            ]
          },
          "metadata": {
            "needs_background": "light"
          }
        }
      ]
    },
    {
      "cell_type": "code",
      "source": [
        "plt.figure(figsize=(18,6));\n",
        "sns.boxplot(data=df_some_device, x='hour', y='exits_diff');\n",
        "plt.show()\n",
        "\n",
        "# as expected, the volume of entries and exits changes depending on the hour of the day for this device!!\n",
        "# the same behaviour must be true for all devices!!"
      ],
      "metadata": {
        "colab": {
          "base_uri": "https://localhost:8080/",
          "height": 388
        },
        "id": "oWoIslx7dk5o",
        "outputId": "2b4b2018-e828-4bb1-bb9d-c4387dcedfde"
      },
      "execution_count": null,
      "outputs": [
        {
          "output_type": "display_data",
          "data": {
            "image/png": "[encoded data removed]",
            "text/plain": [
              "<Figure size 1296x432 with 1 Axes>"
            ]
          },
          "metadata": {
            "needs_background": "light"
          }
        }
      ]
    },
    {
      "cell_type": "code",
      "source": [
        "# now, back to the all the devices:\n",
        "# checking again the histogram and boxplot, but now with the diff values:\n",
        "df_total['entries_diff'].hist();"
      ],
      "metadata": {
        "colab": {
          "base_uri": "https://localhost:8080/",
          "height": 289
        },
        "id": "-VIdk4zmyI2X",
        "outputId": "9ba100aa-254c-47ac-8f06-be96aa6663ce"
      },
      "execution_count": null,
      "outputs": [
        {
          "output_type": "display_data",
          "data": {
            "image/png": "[encoded data removed]",
            "text/plain": [
              "<Figure size 432x288 with 1 Axes>"
            ]
          },
          "metadata": {
            "needs_background": "light"
          }
        }
      ]
    },
    {
      "cell_type": "code",
      "source": [
        "sns.boxplot(data=df_total, y='entries_diff');"
      ],
      "metadata": {
        "colab": {
          "base_uri": "https://localhost:8080/",
          "height": 263
        },
        "id": "Bv3xb38qyIsj",
        "outputId": "975532a3-4a2d-4d4b-d60a-69cd763c9f58"
      },
      "execution_count": null,
      "outputs": [
        {
          "output_type": "display_data",
          "data": {
            "image/png": "[encoded data removed]",
            "text/plain": [
              "<Figure size 432x288 with 1 Axes>"
            ]
          },
          "metadata": {
            "needs_background": "light"
          }
        }
      ]
    },
    {
      "cell_type": "code",
      "source": [
        "# the same for the exits_diff:\n",
        "df_total['exits_diff'].hist();"
      ],
      "metadata": {
        "colab": {
          "base_uri": "https://localhost:8080/",
          "height": 289
        },
        "id": "MFqjLyfQyIpZ",
        "outputId": "9b2149f2-4f2d-4d7a-d5a7-ca16f2a1f503"
      },
      "execution_count": null,
      "outputs": [
        {
          "output_type": "display_data",
          "data": {
            "image/png": "[encoded data removed]",
            "text/plain": [
              "<Figure size 432x288 with 1 Axes>"
            ]
          },
          "metadata": {
            "needs_background": "light"
          }
        }
      ]
    },
    {
      "cell_type": "code",
      "source": [
        "sns.boxplot(data=df_total, y='exits_diff');"
      ],
      "metadata": {
        "colab": {
          "base_uri": "https://localhost:8080/",
          "height": 263
        },
        "id": "oBwdO5dWPE4L",
        "outputId": "64c85fbb-308c-4e12-be0f-97d00697d3b7"
      },
      "execution_count": null,
      "outputs": [
        {
          "output_type": "display_data",
          "data": {
            "image/png": "[encoded data removed]",
            "text/plain": [
              "<Figure size 432x288 with 1 Axes>"
            ]
          },
          "metadata": {
            "needs_background": "light"
          }
        }
      ]
    },
    {
      "cell_type": "code",
      "source": [
        "# checking the values for the main quartiles:\n",
        "df_total[['entries_diff', 'exits_diff']].describe()"
      ],
      "metadata": {
        "colab": {
          "base_uri": "https://localhost:8080/",
          "height": 300
        },
        "id": "xL-yuXZ9d6M3",
        "outputId": "f451ae29-4f69-48e3-b6f4-700c5d0f6e21"
      },
      "execution_count": null,
      "outputs": [
        {
          "output_type": "execute_result",
          "data": {
            "text/html": [
              "\n",
              "  <div id=\"df-925bda2e-716c-4bed-857d-c3acccdd2555\">\n",
              "    <div class=\"colab-df-container\">\n",
              "      <div>\n",
              "<style scoped>\n",
              "    .dataframe tbody tr th:only-of-type {\n",
              "        vertical-align: middle;\n",
              "    }\n",
              "\n",
              "    .dataframe tbody tr th {\n",
              "        vertical-align: top;\n",
              "    }\n",
              "\n",
              "    .dataframe thead th {\n",
              "        text-align: right;\n",
              "    }\n",
              "</style>\n",
              "<table border=\"1\" class=\"dataframe\">\n",
              "  <thead>\n",
              "    <tr style=\"text-align: right;\">\n",
              "      <th></th>\n",
              "      <th>entries_diff</th>\n",
              "      <th>exits_diff</th>\n",
              "    </tr>\n",
              "  </thead>\n",
              "  <tbody>\n",
              "    <tr>\n",
              "      <th>count</th>\n",
              "      <td>1.832157e+06</td>\n",
              "      <td>1.832157e+06</td>\n",
              "    </tr>\n",
              "    <tr>\n",
              "      <th>mean</th>\n",
              "      <td>1.724359e+03</td>\n",
              "      <td>-2.578581e+02</td>\n",
              "    </tr>\n",
              "    <tr>\n",
              "      <th>std</th>\n",
              "      <td>2.777024e+06</td>\n",
              "      <td>2.847081e+06</td>\n",
              "    </tr>\n",
              "    <tr>\n",
              "      <th>min</th>\n",
              "      <td>-1.676253e+09</td>\n",
              "      <td>-1.703784e+09</td>\n",
              "    </tr>\n",
              "    <tr>\n",
              "      <th>25%</th>\n",
              "      <td>1.100000e+01</td>\n",
              "      <td>7.000000e+00</td>\n",
              "    </tr>\n",
              "    <tr>\n",
              "      <th>50%</th>\n",
              "      <td>7.800000e+01</td>\n",
              "      <td>4.700000e+01</td>\n",
              "    </tr>\n",
              "    <tr>\n",
              "      <th>75%</th>\n",
              "      <td>2.460000e+02</td>\n",
              "      <td>1.530000e+02</td>\n",
              "    </tr>\n",
              "    <tr>\n",
              "      <th>max</th>\n",
              "      <td>2.122193e+09</td>\n",
              "      <td>1.405714e+09</td>\n",
              "    </tr>\n",
              "  </tbody>\n",
              "</table>\n",
              "</div>\n",
              "      <button class=\"colab-df-convert\" onclick=\"convertToInteractive('df-925bda2e-716c-4bed-857d-c3acccdd2555')\"\n",
              "              title=\"Convert this dataframe to an interactive table.\"\n",
              "              style=\"display:none;\">\n",
              "        \n",
              "  <svg xmlns=\"http://www.w3.org/2000/svg\" height=\"24px\"viewBox=\"0 0 24 24\"\n",
              "       width=\"24px\">\n",
              "    <path d=\"M0 0h24v24H0V0z\" fill=\"none\"/>\n",
              "    <path d=\"M18.56 5.44l.94 2.06.94-2.06 2.06-.94-2.06-.94-.94-2.06-.94 2.06-2.06.94zm-11 1L8.5 8.5l.94-2.06 2.06-.94-2.06-.94L8.5 2.5l-.94 2.06-2.06.94zm10 10l.94 2.06.94-2.06 2.06-.94-2.06-.94-.94-2.06-.94 2.06-2.06.94z\"/><path d=\"M17.41 7.96l-1.37-1.37c-.4-.4-.92-.59-1.43-.59-.52 0-1.04.2-1.43.59L10.3 9.45l-7.72 7.72c-.78.78-.78 2.05 0 2.83L4 21.41c.39.39.9.59 1.41.59.51 0 1.02-.2 1.41-.59l7.78-7.78 2.81-2.81c.8-.78.8-2.07 0-2.86zM5.41 20L4 18.59l7.72-7.72 1.47 1.35L5.41 20z\"/>\n",
              "  </svg>\n",
              "      </button>\n",
              "      \n",
              "  <style>\n",
              "    .colab-df-container {\n",
              "      display:flex;\n",
              "      flex-wrap:wrap;\n",
              "      gap: 12px;\n",
              "    }\n",
              "\n",
              "    .colab-df-convert {\n",
              "      background-color: #E8F0FE;\n",
              "      border: none;\n",
              "      border-radius: 50%;\n",
              "      cursor: pointer;\n",
              "      display: none;\n",
              "      fill: #1967D2;\n",
              "      height: 32px;\n",
              "      padding: 0 0 0 0;\n",
              "      width: 32px;\n",
              "    }\n",
              "\n",
              "    .colab-df-convert:hover {\n",
              "      background-color: #E2EBFA;\n",
              "      box-shadow: 0px 1px 2px rgba(60, 64, 67, 0.3), 0px 1px 3px 1px rgba(60, 64, 67, 0.15);\n",
              "      fill: #174EA6;\n",
              "    }\n",
              "\n",
              "    [theme=dark] .colab-df-convert {\n",
              "      background-color: #3B4455;\n",
              "      fill: #D2E3FC;\n",
              "    }\n",
              "\n",
              "    [theme=dark] .colab-df-convert:hover {\n",
              "      background-color: #434B5C;\n",
              "      box-shadow: 0px 1px 3px 1px rgba(0, 0, 0, 0.15);\n",
              "      filter: drop-shadow(0px 1px 2px rgba(0, 0, 0, 0.3));\n",
              "      fill: #FFFFFF;\n",
              "    }\n",
              "  </style>\n",
              "\n",
              "      <script>\n",
              "        const buttonEl =\n",
              "          document.querySelector('#df-925bda2e-716c-4bed-857d-c3acccdd2555 button.colab-df-convert');\n",
              "        buttonEl.style.display =\n",
              "          google.colab.kernel.accessAllowed ? 'block' : 'none';\n",
              "\n",
              "        async function convertToInteractive(key) {\n",
              "          const element = document.querySelector('#df-925bda2e-716c-4bed-857d-c3acccdd2555');\n",
              "          const dataTable =\n",
              "            await google.colab.kernel.invokeFunction('convertToInteractive',\n",
              "                                                     [key], {});\n",
              "          if (!dataTable) return;\n",
              "\n",
              "          const docLinkHtml = 'Like what you see? Visit the ' +\n",
              "            '<a target=\"_blank\" href=https://colab.research.google.com/notebooks/data_table.ipynb>data table notebook</a>'\n",
              "            + ' to learn more about interactive tables.';\n",
              "          element.innerHTML = '';\n",
              "          dataTable['output_type'] = 'display_data';\n",
              "          await google.colab.output.renderOutput(dataTable, element);\n",
              "          const docLink = document.createElement('div');\n",
              "          docLink.innerHTML = docLinkHtml;\n",
              "          element.appendChild(docLink);\n",
              "        }\n",
              "      </script>\n",
              "    </div>\n",
              "  </div>\n",
              "  "
            ],
            "text/plain": [
              "       entries_diff    exits_diff\n",
              "count  1.832157e+06  1.832157e+06\n",
              "mean   1.724359e+03 -2.578581e+02\n",
              "std    2.777024e+06  2.847081e+06\n",
              "min   -1.676253e+09 -1.703784e+09\n",
              "25%    1.100000e+01  7.000000e+00\n",
              "50%    7.800000e+01  4.700000e+01\n",
              "75%    2.460000e+02  1.530000e+02\n",
              "max    2.122193e+09  1.405714e+09"
            ]
          },
          "metadata": {},
          "execution_count": 48
        }
      ]
    },
    {
      "cell_type": "code",
      "source": [
        "# there are some negative values (which should not exist because the original values were cumulative):\n",
        "df_total.query(\"entries_diff < 0 or exits_diff < 0\").shape\n",
        "\n",
        "# a lot of rows with negative values, so maybe I will turn them into positive values:\n",
        "# cumulative in the other direction?!?!?!?"
      ],
      "metadata": {
        "colab": {
          "base_uri": "https://localhost:8080/"
        },
        "id": "kWOQoNrFegGW",
        "outputId": "864334b1-5b27-4f9c-9476-db4a4416d62e"
      },
      "execution_count": null,
      "outputs": [
        {
          "output_type": "execute_result",
          "data": {
            "text/plain": [
              "(16448, 18)"
            ]
          },
          "metadata": {},
          "execution_count": 50
        }
      ]
    },
    {
      "cell_type": "code",
      "source": [
        "# absolute values for all entries and exits:\n",
        "df_total['entries_diff'] = np.abs(df_total['entries_diff'])\n",
        "df_total['exits_diff'] = np.abs(df_total['exits_diff'])\n",
        "df_total.shape"
      ],
      "metadata": {
        "colab": {
          "base_uri": "https://localhost:8080/"
        },
        "id": "uIJSK7DyfCRl",
        "outputId": "5d24f23e-e5c0-470e-9de1-db0191671a26"
      },
      "execution_count": null,
      "outputs": [
        {
          "output_type": "execute_result",
          "data": {
            "text/plain": [
              "(1832157, 18)"
            ]
          },
          "metadata": {},
          "execution_count": 51
        }
      ]
    },
    {
      "cell_type": "code",
      "source": [
        "# checking every plot again:\n",
        "\n",
        "# histogram:\n",
        "df_total['entries_diff'].hist();"
      ],
      "metadata": {
        "colab": {
          "base_uri": "https://localhost:8080/",
          "height": 289
        },
        "id": "r0Yn30rNfguW",
        "outputId": "bc8921ae-fefc-4e30-aac3-015bc0f9d8c0"
      },
      "execution_count": null,
      "outputs": [
        {
          "output_type": "display_data",
          "data": {
            "image/png": "[encoded data removed]",
            "text/plain": [
              "<Figure size 432x288 with 1 Axes>"
            ]
          },
          "metadata": {
            "needs_background": "light"
          }
        }
      ]
    },
    {
      "cell_type": "code",
      "source": [
        "df_total['exits_diff'].hist();"
      ],
      "metadata": {
        "colab": {
          "base_uri": "https://localhost:8080/",
          "height": 289
        },
        "id": "tvlRW24zfsOz",
        "outputId": "65379172-8b1d-47e1-947f-c6591766b0b1"
      },
      "execution_count": null,
      "outputs": [
        {
          "output_type": "display_data",
          "data": {
            "image/png": "[encoded data removed]",
            "text/plain": [
              "<Figure size 432x288 with 1 Axes>"
            ]
          },
          "metadata": {
            "needs_background": "light"
          }
        }
      ]
    },
    {
      "cell_type": "code",
      "source": [
        "sns.boxplot(data=df_total, y='entries_diff');"
      ],
      "metadata": {
        "colab": {
          "base_uri": "https://localhost:8080/",
          "height": 263
        },
        "id": "3HlY1fv9fyAo",
        "outputId": "0a2e6faa-55c4-400b-d2c7-f9c7d0c71408"
      },
      "execution_count": null,
      "outputs": [
        {
          "output_type": "display_data",
          "data": {
            "image/png": "[encoded data removed]",
            "text/plain": [
              "<Figure size 432x288 with 1 Axes>"
            ]
          },
          "metadata": {
            "needs_background": "light"
          }
        }
      ]
    },
    {
      "cell_type": "code",
      "source": [
        "sns.boxplot(data=df_total, y='exits_diff');"
      ],
      "metadata": {
        "colab": {
          "base_uri": "https://localhost:8080/",
          "height": 263
        },
        "id": "DJSrZH4Dfzg7",
        "outputId": "f31c83ed-a153-472a-f8c6-8655538d0c85"
      },
      "execution_count": null,
      "outputs": [
        {
          "output_type": "display_data",
          "data": {
            "image/png": "[encoded data removed]",
            "text/plain": [
              "<Figure size 432x288 with 1 Axes>"
            ]
          },
          "metadata": {
            "needs_background": "light"
          }
        }
      ]
    },
    {
      "cell_type": "code",
      "source": [
        "# checking the new values for the main quartiles:\n",
        "df_total[['entries_diff', 'exits_diff']].describe()"
      ],
      "metadata": {
        "colab": {
          "base_uri": "https://localhost:8080/",
          "height": 300
        },
        "id": "6qlCS4YPf9KD",
        "outputId": "87ad56d6-b728-4834-f0a5-782cd2fd9f9f"
      },
      "execution_count": null,
      "outputs": [
        {
          "output_type": "execute_result",
          "data": {
            "text/html": [
              "\n",
              "  <div id=\"df-0cfffff7-4f95-4f6c-83f4-77821a31d07c\">\n",
              "    <div class=\"colab-df-container\">\n",
              "      <div>\n",
              "<style scoped>\n",
              "    .dataframe tbody tr th:only-of-type {\n",
              "        vertical-align: middle;\n",
              "    }\n",
              "\n",
              "    .dataframe tbody tr th {\n",
              "        vertical-align: top;\n",
              "    }\n",
              "\n",
              "    .dataframe thead th {\n",
              "        text-align: right;\n",
              "    }\n",
              "</style>\n",
              "<table border=\"1\" class=\"dataframe\">\n",
              "  <thead>\n",
              "    <tr style=\"text-align: right;\">\n",
              "      <th></th>\n",
              "      <th>entries_diff</th>\n",
              "      <th>exits_diff</th>\n",
              "    </tr>\n",
              "  </thead>\n",
              "  <tbody>\n",
              "    <tr>\n",
              "      <th>count</th>\n",
              "      <td>1.832157e+06</td>\n",
              "      <td>1.832157e+06</td>\n",
              "    </tr>\n",
              "    <tr>\n",
              "      <th>mean</th>\n",
              "      <td>7.961834e+03</td>\n",
              "      <td>7.002526e+03</td>\n",
              "    </tr>\n",
              "    <tr>\n",
              "      <th>std</th>\n",
              "      <td>2.777013e+06</td>\n",
              "      <td>2.847073e+06</td>\n",
              "    </tr>\n",
              "    <tr>\n",
              "      <th>min</th>\n",
              "      <td>0.000000e+00</td>\n",
              "      <td>0.000000e+00</td>\n",
              "    </tr>\n",
              "    <tr>\n",
              "      <th>25%</th>\n",
              "      <td>1.200000e+01</td>\n",
              "      <td>8.000000e+00</td>\n",
              "    </tr>\n",
              "    <tr>\n",
              "      <th>50%</th>\n",
              "      <td>8.000000e+01</td>\n",
              "      <td>4.900000e+01</td>\n",
              "    </tr>\n",
              "    <tr>\n",
              "      <th>75%</th>\n",
              "      <td>2.490000e+02</td>\n",
              "      <td>1.580000e+02</td>\n",
              "    </tr>\n",
              "    <tr>\n",
              "      <th>max</th>\n",
              "      <td>2.122193e+09</td>\n",
              "      <td>1.703784e+09</td>\n",
              "    </tr>\n",
              "  </tbody>\n",
              "</table>\n",
              "</div>\n",
              "      <button class=\"colab-df-convert\" onclick=\"convertToInteractive('df-0cfffff7-4f95-4f6c-83f4-77821a31d07c')\"\n",
              "              title=\"Convert this dataframe to an interactive table.\"\n",
              "              style=\"display:none;\">\n",
              "        \n",
              "  <svg xmlns=\"http://www.w3.org/2000/svg\" height=\"24px\"viewBox=\"0 0 24 24\"\n",
              "       width=\"24px\">\n",
              "    <path d=\"M0 0h24v24H0V0z\" fill=\"none\"/>\n",
              "    <path d=\"M18.56 5.44l.94 2.06.94-2.06 2.06-.94-2.06-.94-.94-2.06-.94 2.06-2.06.94zm-11 1L8.5 8.5l.94-2.06 2.06-.94-2.06-.94L8.5 2.5l-.94 2.06-2.06.94zm10 10l.94 2.06.94-2.06 2.06-.94-2.06-.94-.94-2.06-.94 2.06-2.06.94z\"/><path d=\"M17.41 7.96l-1.37-1.37c-.4-.4-.92-.59-1.43-.59-.52 0-1.04.2-1.43.59L10.3 9.45l-7.72 7.72c-.78.78-.78 2.05 0 2.83L4 21.41c.39.39.9.59 1.41.59.51 0 1.02-.2 1.41-.59l7.78-7.78 2.81-2.81c.8-.78.8-2.07 0-2.86zM5.41 20L4 18.59l7.72-7.72 1.47 1.35L5.41 20z\"/>\n",
              "  </svg>\n",
              "      </button>\n",
              "      \n",
              "  <style>\n",
              "    .colab-df-container {\n",
              "      display:flex;\n",
              "      flex-wrap:wrap;\n",
              "      gap: 12px;\n",
              "    }\n",
              "\n",
              "    .colab-df-convert {\n",
              "      background-color: #E8F0FE;\n",
              "      border: none;\n",
              "      border-radius: 50%;\n",
              "      cursor: pointer;\n",
              "      display: none;\n",
              "      fill: #1967D2;\n",
              "      height: 32px;\n",
              "      padding: 0 0 0 0;\n",
              "      width: 32px;\n",
              "    }\n",
              "\n",
              "    .colab-df-convert:hover {\n",
              "      background-color: #E2EBFA;\n",
              "      box-shadow: 0px 1px 2px rgba(60, 64, 67, 0.3), 0px 1px 3px 1px rgba(60, 64, 67, 0.15);\n",
              "      fill: #174EA6;\n",
              "    }\n",
              "\n",
              "    [theme=dark] .colab-df-convert {\n",
              "      background-color: #3B4455;\n",
              "      fill: #D2E3FC;\n",
              "    }\n",
              "\n",
              "    [theme=dark] .colab-df-convert:hover {\n",
              "      background-color: #434B5C;\n",
              "      box-shadow: 0px 1px 3px 1px rgba(0, 0, 0, 0.15);\n",
              "      filter: drop-shadow(0px 1px 2px rgba(0, 0, 0, 0.3));\n",
              "      fill: #FFFFFF;\n",
              "    }\n",
              "  </style>\n",
              "\n",
              "      <script>\n",
              "        const buttonEl =\n",
              "          document.querySelector('#df-0cfffff7-4f95-4f6c-83f4-77821a31d07c button.colab-df-convert');\n",
              "        buttonEl.style.display =\n",
              "          google.colab.kernel.accessAllowed ? 'block' : 'none';\n",
              "\n",
              "        async function convertToInteractive(key) {\n",
              "          const element = document.querySelector('#df-0cfffff7-4f95-4f6c-83f4-77821a31d07c');\n",
              "          const dataTable =\n",
              "            await google.colab.kernel.invokeFunction('convertToInteractive',\n",
              "                                                     [key], {});\n",
              "          if (!dataTable) return;\n",
              "\n",
              "          const docLinkHtml = 'Like what you see? Visit the ' +\n",
              "            '<a target=\"_blank\" href=https://colab.research.google.com/notebooks/data_table.ipynb>data table notebook</a>'\n",
              "            + ' to learn more about interactive tables.';\n",
              "          element.innerHTML = '';\n",
              "          dataTable['output_type'] = 'display_data';\n",
              "          await google.colab.output.renderOutput(dataTable, element);\n",
              "          const docLink = document.createElement('div');\n",
              "          docLink.innerHTML = docLinkHtml;\n",
              "          element.appendChild(docLink);\n",
              "        }\n",
              "      </script>\n",
              "    </div>\n",
              "  </div>\n",
              "  "
            ],
            "text/plain": [
              "       entries_diff    exits_diff\n",
              "count  1.832157e+06  1.832157e+06\n",
              "mean   7.961834e+03  7.002526e+03\n",
              "std    2.777013e+06  2.847073e+06\n",
              "min    0.000000e+00  0.000000e+00\n",
              "25%    1.200000e+01  8.000000e+00\n",
              "50%    8.000000e+01  4.900000e+01\n",
              "75%    2.490000e+02  1.580000e+02\n",
              "max    2.122193e+09  1.703784e+09"
            ]
          },
          "metadata": {},
          "execution_count": 56
        }
      ]
    },
    {
      "cell_type": "code",
      "source": [
        "# checking how many very high values, because they seem to be wrong:\n",
        "\n",
        "threshold_entries = np.nanquantile(df_total['entries_diff'], 0.999)\n",
        "threshold_exits = np.nanquantile(df_total['exits_diff'], 0.999)\n",
        "print(threshold_entries)\n",
        "print(threshold_exits)\n",
        "\n",
        "# checking how many rows above the thresholds:\n",
        "print(df_total.query(\"entries_diff >= {}\".format(threshold_entries)).shape)\n",
        "print(df_total.query(\"exits_diff >= {}\".format(threshold_exits)).shape)"
      ],
      "metadata": {
        "colab": {
          "base_uri": "https://localhost:8080/"
        },
        "id": "ssUByVvkgFzU",
        "outputId": "c5dd96fd-d160-479d-ce2d-6ad7e8a3b316"
      },
      "execution_count": null,
      "outputs": [
        {
          "output_type": "stream",
          "name": "stdout",
          "text": [
            "1968.0\n",
            "1835.6470000001136\n",
            "(1831, 18)\n",
            "(1829, 18)\n"
          ]
        }
      ]
    },
    {
      "cell_type": "code",
      "source": [
        "some_device_with_extreme_values = df_total.query(\"entries_diff >= {}\".format(threshold_entries)).sample(1)\n",
        "some_device_with_extreme_values"
      ],
      "metadata": {
        "colab": {
          "base_uri": "https://localhost:8080/",
          "height": 159
        },
        "id": "7wa4gFqPwkGp",
        "outputId": "6bb83678-9fbc-41af-d644-04d5ddad1880"
      },
      "execution_count": null,
      "outputs": [
        {
          "output_type": "execute_result",
          "data": {
            "text/html": [
              "\n",
              "  <div id=\"df-efd7a927-c3ca-42a4-9fcc-ae38205262d3\">\n",
              "    <div class=\"colab-df-container\">\n",
              "      <div>\n",
              "<style scoped>\n",
              "    .dataframe tbody tr th:only-of-type {\n",
              "        vertical-align: middle;\n",
              "    }\n",
              "\n",
              "    .dataframe tbody tr th {\n",
              "        vertical-align: top;\n",
              "    }\n",
              "\n",
              "    .dataframe thead th {\n",
              "        text-align: right;\n",
              "    }\n",
              "</style>\n",
              "<table border=\"1\" class=\"dataframe\">\n",
              "  <thead>\n",
              "    <tr style=\"text-align: right;\">\n",
              "      <th></th>\n",
              "      <th>time</th>\n",
              "      <th>ca</th>\n",
              "      <th>unit</th>\n",
              "      <th>scp</th>\n",
              "      <th>station</th>\n",
              "      <th>linename</th>\n",
              "      <th>division</th>\n",
              "      <th>desc</th>\n",
              "      <th>entries</th>\n",
              "      <th>exits</th>\n",
              "      <th>year</th>\n",
              "      <th>month</th>\n",
              "      <th>day</th>\n",
              "      <th>week_day</th>\n",
              "      <th>date</th>\n",
              "      <th>hour</th>\n",
              "      <th>entries_diff</th>\n",
              "      <th>exits_diff</th>\n",
              "    </tr>\n",
              "  </thead>\n",
              "  <tbody>\n",
              "    <tr>\n",
              "      <th>1680737</th>\n",
              "      <td>2017-05-03 01:00:00</td>\n",
              "      <td>R240</td>\n",
              "      <td>R047</td>\n",
              "      <td>00-03-07</td>\n",
              "      <td>GRD CNTRL-42 ST</td>\n",
              "      <td>4567S</td>\n",
              "      <td>IRT</td>\n",
              "      <td>REGULAR</td>\n",
              "      <td>4760169.0</td>\n",
              "      <td>1452052.0</td>\n",
              "      <td>2017</td>\n",
              "      <td>5</td>\n",
              "      <td>3</td>\n",
              "      <td>2</td>\n",
              "      <td>2017-05-03</td>\n",
              "      <td>1</td>\n",
              "      <td>2553.0</td>\n",
              "      <td>87.0</td>\n",
              "    </tr>\n",
              "  </tbody>\n",
              "</table>\n",
              "</div>\n",
              "      <button class=\"colab-df-convert\" onclick=\"convertToInteractive('df-efd7a927-c3ca-42a4-9fcc-ae38205262d3')\"\n",
              "              title=\"Convert this dataframe to an interactive table.\"\n",
              "              style=\"display:none;\">\n",
              "        \n",
              "  <svg xmlns=\"http://www.w3.org/2000/svg\" height=\"24px\"viewBox=\"0 0 24 24\"\n",
              "       width=\"24px\">\n",
              "    <path d=\"M0 0h24v24H0V0z\" fill=\"none\"/>\n",
              "    <path d=\"M18.56 5.44l.94 2.06.94-2.06 2.06-.94-2.06-.94-.94-2.06-.94 2.06-2.06.94zm-11 1L8.5 8.5l.94-2.06 2.06-.94-2.06-.94L8.5 2.5l-.94 2.06-2.06.94zm10 10l.94 2.06.94-2.06 2.06-.94-2.06-.94-.94-2.06-.94 2.06-2.06.94z\"/><path d=\"M17.41 7.96l-1.37-1.37c-.4-.4-.92-.59-1.43-.59-.52 0-1.04.2-1.43.59L10.3 9.45l-7.72 7.72c-.78.78-.78 2.05 0 2.83L4 21.41c.39.39.9.59 1.41.59.51 0 1.02-.2 1.41-.59l7.78-7.78 2.81-2.81c.8-.78.8-2.07 0-2.86zM5.41 20L4 18.59l7.72-7.72 1.47 1.35L5.41 20z\"/>\n",
              "  </svg>\n",
              "      </button>\n",
              "      \n",
              "  <style>\n",
              "    .colab-df-container {\n",
              "      display:flex;\n",
              "      flex-wrap:wrap;\n",
              "      gap: 12px;\n",
              "    }\n",
              "\n",
              "    .colab-df-convert {\n",
              "      background-color: #E8F0FE;\n",
              "      border: none;\n",
              "      border-radius: 50%;\n",
              "      cursor: pointer;\n",
              "      display: none;\n",
              "      fill: #1967D2;\n",
              "      height: 32px;\n",
              "      padding: 0 0 0 0;\n",
              "      width: 32px;\n",
              "    }\n",
              "\n",
              "    .colab-df-convert:hover {\n",
              "      background-color: #E2EBFA;\n",
              "      box-shadow: 0px 1px 2px rgba(60, 64, 67, 0.3), 0px 1px 3px 1px rgba(60, 64, 67, 0.15);\n",
              "      fill: #174EA6;\n",
              "    }\n",
              "\n",
              "    [theme=dark] .colab-df-convert {\n",
              "      background-color: #3B4455;\n",
              "      fill: #D2E3FC;\n",
              "    }\n",
              "\n",
              "    [theme=dark] .colab-df-convert:hover {\n",
              "      background-color: #434B5C;\n",
              "      box-shadow: 0px 1px 3px 1px rgba(0, 0, 0, 0.15);\n",
              "      filter: drop-shadow(0px 1px 2px rgba(0, 0, 0, 0.3));\n",
              "      fill: #FFFFFF;\n",
              "    }\n",
              "  </style>\n",
              "\n",
              "      <script>\n",
              "        const buttonEl =\n",
              "          document.querySelector('#df-efd7a927-c3ca-42a4-9fcc-ae38205262d3 button.colab-df-convert');\n",
              "        buttonEl.style.display =\n",
              "          google.colab.kernel.accessAllowed ? 'block' : 'none';\n",
              "\n",
              "        async function convertToInteractive(key) {\n",
              "          const element = document.querySelector('#df-efd7a927-c3ca-42a4-9fcc-ae38205262d3');\n",
              "          const dataTable =\n",
              "            await google.colab.kernel.invokeFunction('convertToInteractive',\n",
              "                                                     [key], {});\n",
              "          if (!dataTable) return;\n",
              "\n",
              "          const docLinkHtml = 'Like what you see? Visit the ' +\n",
              "            '<a target=\"_blank\" href=https://colab.research.google.com/notebooks/data_table.ipynb>data table notebook</a>'\n",
              "            + ' to learn more about interactive tables.';\n",
              "          element.innerHTML = '';\n",
              "          dataTable['output_type'] = 'display_data';\n",
              "          await google.colab.output.renderOutput(dataTable, element);\n",
              "          const docLink = document.createElement('div');\n",
              "          docLink.innerHTML = docLinkHtml;\n",
              "          element.appendChild(docLink);\n",
              "        }\n",
              "      </script>\n",
              "    </div>\n",
              "  </div>\n",
              "  "
            ],
            "text/plain": [
              "                       time    ca  unit  ... hour entries_diff exits_diff\n",
              "1680737 2017-05-03 01:00:00  R240  R047  ...    1       2553.0       87.0\n",
              "\n",
              "[1 rows x 18 columns]"
            ]
          },
          "metadata": {},
          "execution_count": 75
        }
      ]
    },
    {
      "cell_type": "code",
      "source": [
        "# checking some of the devices with very high values:\n",
        "ca = some_device_with_extreme_values['ca'].item()\n",
        "unit = some_device_with_extreme_values['unit'].item()\n",
        "scp = some_device_with_extreme_values['scp'].item()\n",
        "print('Device chosen at random --> ca: {} / unit: {} / scp: {}'.format(ca, unit, scp))\n",
        "\n",
        "df_another_device = df_total.query(\"ca == '{}' and unit == '{}' and scp == '{}' \".format(ca, unit, scp)).sort_values('time')\n",
        "\n",
        "plt.figure(figsize=(18,6));\n",
        "\n",
        "plt.plot(df_another_device['time'], df_another_device['entries_diff'], c='r', label='entries');\n",
        "plt.plot(df_another_device['time'], df_another_device['exits_diff'], c='b', label='exits');\n",
        "\n",
        "plt.legend()\n",
        "plt.show()\n",
        "\n",
        "# absolutely, an error!! I will remove this extreme values!!"
      ],
      "metadata": {
        "colab": {
          "base_uri": "https://localhost:8080/",
          "height": 391
        },
        "id": "HzbUUZ4Ehp1Y",
        "outputId": "f5b56f74-a0b5-434d-cf7d-51dfa02d8335"
      },
      "execution_count": null,
      "outputs": [
        {
          "output_type": "stream",
          "name": "stdout",
          "text": [
            "Device chosen at random --> ca: R240 / unit: R047 / scp: 00-03-07\n"
          ]
        },
        {
          "output_type": "display_data",
          "data": {
            "image/png": "[encoded data removed]",
            "text/plain": [
              "<Figure size 1296x432 with 1 Axes>"
            ]
          },
          "metadata": {
            "needs_background": "light"
          }
        }
      ]
    },
    {
      "cell_type": "code",
      "source": [
        "# removing rows with entries above the percentile 99.9 calculated above:\n",
        "df_total = df_total.query(\"entries_diff < {}\".format(threshold_entries))\n",
        "df_total = df_total.query(\"exits_diff < {}\".format(threshold_exits))\n",
        "df_total.shape"
      ],
      "metadata": {
        "colab": {
          "base_uri": "https://localhost:8080/"
        },
        "id": "2YbumsQcitGO",
        "outputId": "5893f13c-3980-4dd2-83f1-267f7b069225"
      },
      "execution_count": null,
      "outputs": [
        {
          "output_type": "execute_result",
          "data": {
            "text/plain": [
              "(1828354, 18)"
            ]
          },
          "metadata": {},
          "execution_count": 77
        }
      ]
    },
    {
      "cell_type": "code",
      "source": [
        "# checking every plot again again:\n",
        "\n",
        "# histogram:\n",
        "df_total['entries_diff'].hist();"
      ],
      "metadata": {
        "colab": {
          "base_uri": "https://localhost:8080/",
          "height": 276
        },
        "id": "pKNfmxREjVN8",
        "outputId": "8fce1fd2-ebf9-4725-c94e-736f6166a9c7"
      },
      "execution_count": null,
      "outputs": [
        {
          "output_type": "display_data",
          "data": {
            "image/png": "[encoded data removed]",
            "text/plain": [
              "<Figure size 432x288 with 1 Axes>"
            ]
          },
          "metadata": {
            "needs_background": "light"
          }
        }
      ]
    },
    {
      "cell_type": "code",
      "source": [
        "df_total['exits_diff'].hist();"
      ],
      "metadata": {
        "colab": {
          "base_uri": "https://localhost:8080/",
          "height": 276
        },
        "id": "bR_yu-xeju-s",
        "outputId": "afbbe7bf-9d54-44a1-fa3a-d49282e648d8"
      },
      "execution_count": null,
      "outputs": [
        {
          "output_type": "display_data",
          "data": {
            "image/png": "[encoded data removed]",
            "text/plain": [
              "<Figure size 432x288 with 1 Axes>"
            ]
          },
          "metadata": {
            "needs_background": "light"
          }
        }
      ]
    },
    {
      "cell_type": "code",
      "source": [
        "sns.boxplot(data=df_total, y='entries_diff');"
      ],
      "metadata": {
        "colab": {
          "base_uri": "https://localhost:8080/",
          "height": 252
        },
        "id": "nNoJTSWBjvhA",
        "outputId": "c0c0a6ac-72a4-4b7d-f55d-82e95b98b2f2"
      },
      "execution_count": null,
      "outputs": [
        {
          "output_type": "display_data",
          "data": {
            "image/png": "[encoded data removed]",
            "text/plain": [
              "<Figure size 432x288 with 1 Axes>"
            ]
          },
          "metadata": {
            "needs_background": "light"
          }
        }
      ]
    },
    {
      "cell_type": "code",
      "source": [
        "sns.boxplot(data=df_total, y='exits_diff');"
      ],
      "metadata": {
        "colab": {
          "base_uri": "https://localhost:8080/",
          "height": 252
        },
        "id": "r93EhG4xjveF",
        "outputId": "1c920d27-39ab-4b1a-bd48-16b7f5223d67"
      },
      "execution_count": null,
      "outputs": [
        {
          "output_type": "display_data",
          "data": {
            "image/png": "[encoded data removed]",
            "text/plain": [
              "<Figure size 432x288 with 1 Axes>"
            ]
          },
          "metadata": {
            "needs_background": "light"
          }
        }
      ]
    },
    {
      "cell_type": "code",
      "source": [
        "# checking the distribution of entries and exits per hour:\n",
        "plt.figure(figsize=(18,6));\n",
        "sns.boxplot(data=df_total, x='hour', y='entries_diff');\n",
        "plt.show()"
      ],
      "metadata": {
        "colab": {
          "base_uri": "https://localhost:8080/",
          "height": 388
        },
        "id": "nXhJcr8ZPFUn",
        "outputId": "7386bc03-4eb2-425f-f6a8-7b102e0f0669"
      },
      "execution_count": null,
      "outputs": [
        {
          "output_type": "display_data",
          "data": {
            "image/png": "[encoded data removed]",
            "text/plain": [
              "<Figure size 1296x432 with 1 Axes>"
            ]
          },
          "metadata": {
            "needs_background": "light"
          }
        }
      ]
    },
    {
      "cell_type": "code",
      "source": [
        "plt.figure(figsize=(18,6));\n",
        "sns.boxplot(data=df_total, x='hour', y='exits_diff');\n",
        "plt.show()"
      ],
      "metadata": {
        "colab": {
          "base_uri": "https://localhost:8080/",
          "height": 388
        },
        "id": "0KiExd12khpx",
        "outputId": "b7a00ed4-dea5-44de-9332-80c56fd12e69"
      },
      "execution_count": null,
      "outputs": [
        {
          "output_type": "display_data",
          "data": {
            "image/png": "[encoded data removed]",
            "text/plain": [
              "<Figure size 1296x432 with 1 Axes>"
            ]
          },
          "metadata": {
            "needs_background": "light"
          }
        }
      ]
    },
    {
      "cell_type": "code",
      "source": [
        "# checking the distribution of entries and exits per division:\n",
        "plt.figure(figsize=(18,6));\n",
        "sns.boxplot(data=df_total, x='division', y='entries_diff');\n",
        "plt.show()"
      ],
      "metadata": {
        "colab": {
          "base_uri": "https://localhost:8080/",
          "height": 388
        },
        "id": "8MJ07p_oP2S4",
        "outputId": "7b77363d-8d45-4088-d6a2-3fcbc522ebf9"
      },
      "execution_count": null,
      "outputs": [
        {
          "output_type": "display_data",
          "data": {
            "image/png": "[encoded data removed]",
            "text/plain": [
              "<Figure size 1296x432 with 1 Axes>"
            ]
          },
          "metadata": {
            "needs_background": "light"
          }
        }
      ]
    },
    {
      "cell_type": "code",
      "source": [
        "plt.figure(figsize=(18,6));\n",
        "sns.boxplot(data=df_total, x='division', y='exits_diff');\n",
        "plt.show()"
      ],
      "metadata": {
        "colab": {
          "base_uri": "https://localhost:8080/",
          "height": 388
        },
        "id": "zj6f-MjTkplS",
        "outputId": "d6c59d8e-c5d2-42fe-d22d-87df18a5ab0d"
      },
      "execution_count": null,
      "outputs": [
        {
          "output_type": "display_data",
          "data": {
            "image/png": "[encoded data removed]",
            "text/plain": [
              "<Figure size 1296x432 with 1 Axes>"
            ]
          },
          "metadata": {
            "needs_background": "light"
          }
        }
      ]
    },
    {
      "cell_type": "code",
      "source": [
        "# checking the distribution of entries and exits per month:\n",
        "plt.figure(figsize=(18,6));\n",
        "sns.boxplot(data=df_total, x='month', y='entries_diff');\n",
        "plt.show()"
      ],
      "metadata": {
        "colab": {
          "base_uri": "https://localhost:8080/",
          "height": 388
        },
        "id": "xoaYil4ystZq",
        "outputId": "4e25723c-69de-483d-cd2e-ef3f206b214e"
      },
      "execution_count": null,
      "outputs": [
        {
          "output_type": "display_data",
          "data": {
            "image/png": "[encoded data removed]",
            "text/plain": [
              "<Figure size 1296x432 with 1 Axes>"
            ]
          },
          "metadata": {
            "needs_background": "light"
          }
        }
      ]
    },
    {
      "cell_type": "code",
      "source": [
        "plt.figure(figsize=(18,6));\n",
        "sns.boxplot(data=df_total, x='month', y='exits_diff');\n",
        "plt.show()"
      ],
      "metadata": {
        "colab": {
          "base_uri": "https://localhost:8080/",
          "height": 388
        },
        "id": "Q0rCec5Psy4U",
        "outputId": "ba3b22db-cdad-4fee-8510-8f82412a1399"
      },
      "execution_count": null,
      "outputs": [
        {
          "output_type": "display_data",
          "data": {
            "image/png": "[encoded data removed]",
            "text/plain": [
              "<Figure size 1296x432 with 1 Axes>"
            ]
          },
          "metadata": {
            "needs_background": "light"
          }
        }
      ]
    },
    {
      "cell_type": "code",
      "source": [
        "# checking the distribution of entries and exits per day of week:\n",
        "plt.figure(figsize=(18,6));\n",
        "sns.boxplot(data=df_total, x='week_day', y='entries_diff');\n",
        "plt.show()"
      ],
      "metadata": {
        "colab": {
          "base_uri": "https://localhost:8080/",
          "height": 389
        },
        "id": "GirOF5QRP3DJ",
        "outputId": "0c7ef4c9-773a-4122-907b-15438dd8d0de"
      },
      "execution_count": null,
      "outputs": [
        {
          "output_type": "display_data",
          "data": {
            "image/png": "[encoded data removed]",
            "text/plain": [
              "<Figure size 1296x432 with 1 Axes>"
            ]
          },
          "metadata": {
            "needs_background": "light"
          }
        }
      ]
    },
    {
      "cell_type": "code",
      "source": [
        "plt.figure(figsize=(18,6));\n",
        "sns.boxplot(data=df_total, x='week_day', y='exits_diff');\n",
        "plt.show()"
      ],
      "metadata": {
        "colab": {
          "base_uri": "https://localhost:8080/",
          "height": 389
        },
        "id": "pCmTRA3skv5q",
        "outputId": "6437b757-eb79-428b-ba09-2dc9ea709a96"
      },
      "execution_count": null,
      "outputs": [
        {
          "output_type": "display_data",
          "data": {
            "image/png": "[encoded data removed]",
            "text/plain": [
              "<Figure size 1296x432 with 1 Axes>"
            ]
          },
          "metadata": {
            "needs_background": "light"
          }
        }
      ]
    },
    {
      "cell_type": "code",
      "source": [
        "# checking how many different line names there are (split the characters of the column linename):\n",
        "linename_list = df_total['linename'].unique().tolist()\n",
        "linename_list[:10]"
      ],
      "metadata": {
        "colab": {
          "base_uri": "https://localhost:8080/"
        },
        "id": "NLJILfY8UsZg",
        "outputId": "b82d2e65-4d22-49c7-9b8d-d05af71018d4"
      },
      "execution_count": null,
      "outputs": [
        {
          "output_type": "execute_result",
          "data": {
            "text/plain": [
              "['123', '45', '6', 'NQ', 'NQW', 'ACEL', '1', 'D', '1ABCD', 'AC1']"
            ]
          },
          "metadata": {},
          "execution_count": 95
        }
      ]
    },
    {
      "cell_type": "code",
      "source": [
        "linename_chars = [list(name) for name in linename_list]\n",
        "linename_chars[:10]"
      ],
      "metadata": {
        "colab": {
          "base_uri": "https://localhost:8080/"
        },
        "id": "oUwJ_nLyVSL8",
        "outputId": "14802e3a-1138-4133-ec45-c9e86b253a37"
      },
      "execution_count": null,
      "outputs": [
        {
          "output_type": "execute_result",
          "data": {
            "text/plain": [
              "[['1', '2', '3'],\n",
              " ['4', '5'],\n",
              " ['6'],\n",
              " ['N', 'Q'],\n",
              " ['N', 'Q', 'W'],\n",
              " ['A', 'C', 'E', 'L'],\n",
              " ['1'],\n",
              " ['D'],\n",
              " ['1', 'A', 'B', 'C', 'D'],\n",
              " ['A', 'C', '1']]"
            ]
          },
          "metadata": {},
          "execution_count": 96
        }
      ]
    },
    {
      "cell_type": "code",
      "source": [
        "chars_list = [char for sublist in linename_chars for char in sublist]\n",
        "chars_list = list(set(chars_list))\n",
        "print(len(chars_list))\n",
        "print(chars_list)\n",
        "\n",
        "# due to lack of time, I was not able to continue this, but the idea was to create dummy variables for each of the 23 different train lines!! :("
      ],
      "metadata": {
        "colab": {
          "base_uri": "https://localhost:8080/"
        },
        "id": "fvDymC3-V06d",
        "outputId": "abdbd08d-1966-4e29-8e4c-1edc660f53d4"
      },
      "execution_count": null,
      "outputs": [
        {
          "output_type": "stream",
          "name": "stdout",
          "text": [
            "23\n",
            "['Q', 'R', '2', '7', 'E', 'F', 'C', 'D', 'L', 'A', 'M', 'G', 'J', 'S', '1', '5', 'W', 'B', '3', 'N', '4', '6', 'Z']\n"
          ]
        }
      ]
    },
    {
      "cell_type": "markdown",
      "source": [
        "Insights from the EDA:\n",
        "\n",
        "- I will not use to train the model the categorical variables with high cardinality:\n",
        "  1. ca, unit and scp: but they were used to identifiy each device, so it helped in a way;\n",
        "  2. station: because there are almost 400 different stations;\n",
        "  3. desc: because it is just a metadata about the audit event, not about the event itself.\n",
        "\n",
        "\n",
        "- Features that will be used to train the model:\n",
        "  1. division: I created dummy variables for this column;\n",
        "  2. day;\n",
        "  3. month;\n",
        "  4. hour;\n",
        "  5. weekday.\n",
        "\n",
        "- What else could be used, but due to lack of time, I did not include:\n",
        "  1. past values for each event of each device:\n",
        "    - value for the previous hour;\n",
        "    - average value for the previous 24 hours;\n",
        "    - moving averages for different intervals.\n",
        "  2. some category of the stations, such as if it is a low, medium or high volume station (that way, the station would be used in some way);\n",
        "  3. dummy variables representing each train line that can boarded at each station\n",
        "\n",
        "\n",
        "- I will combine the values of **entries_diff** and **exits_diff** in one column, since the goal is to forecast the number of people that uses the metro, so this means both the ones that enters and the ones that leaves the metro."
      ],
      "metadata": {
        "id": "iDuTA9PiTUv2"
      }
    },
    {
      "cell_type": "code",
      "source": [
        "# creating just one target variable:\n",
        "df_total['num_passengers'] = df_total['entries_diff'] + df_total['exits_diff']\n",
        "df_total.sample(3)"
      ],
      "metadata": {
        "colab": {
          "base_uri": "https://localhost:8080/",
          "height": 312
        },
        "id": "f4JnKlmhP3AN",
        "outputId": "a63d0ac5-9e05-4767-8f54-3b5281a7ad26"
      },
      "execution_count": null,
      "outputs": [
        {
          "output_type": "execute_result",
          "data": {
            "text/html": [
              "\n",
              "  <div id=\"df-7832c3f8-e47b-4e1d-a19a-f622b381f3f5\">\n",
              "    <div class=\"colab-df-container\">\n",
              "      <div>\n",
              "<style scoped>\n",
              "    .dataframe tbody tr th:only-of-type {\n",
              "        vertical-align: middle;\n",
              "    }\n",
              "\n",
              "    .dataframe tbody tr th {\n",
              "        vertical-align: top;\n",
              "    }\n",
              "\n",
              "    .dataframe thead th {\n",
              "        text-align: right;\n",
              "    }\n",
              "</style>\n",
              "<table border=\"1\" class=\"dataframe\">\n",
              "  <thead>\n",
              "    <tr style=\"text-align: right;\">\n",
              "      <th></th>\n",
              "      <th>time</th>\n",
              "      <th>ca</th>\n",
              "      <th>unit</th>\n",
              "      <th>scp</th>\n",
              "      <th>station</th>\n",
              "      <th>linename</th>\n",
              "      <th>division</th>\n",
              "      <th>desc</th>\n",
              "      <th>entries</th>\n",
              "      <th>exits</th>\n",
              "      <th>year</th>\n",
              "      <th>month</th>\n",
              "      <th>day</th>\n",
              "      <th>week_day</th>\n",
              "      <th>date</th>\n",
              "      <th>hour</th>\n",
              "      <th>entries_diff</th>\n",
              "      <th>exits_diff</th>\n",
              "      <th>BMT</th>\n",
              "      <th>IND</th>\n",
              "      <th>IRT</th>\n",
              "      <th>PTH</th>\n",
              "      <th>RIT</th>\n",
              "      <th>SRT</th>\n",
              "      <th>num_passengers</th>\n",
              "    </tr>\n",
              "  </thead>\n",
              "  <tbody>\n",
              "    <tr>\n",
              "      <th>39095</th>\n",
              "      <td>2016-04-16 15:30:08</td>\n",
              "      <td>PTH11</td>\n",
              "      <td>R545</td>\n",
              "      <td>00-00-00</td>\n",
              "      <td>14TH STREET</td>\n",
              "      <td>1</td>\n",
              "      <td>PTH</td>\n",
              "      <td>REGULAR</td>\n",
              "      <td>1.660800e+04</td>\n",
              "      <td>833.0</td>\n",
              "      <td>2016</td>\n",
              "      <td>4</td>\n",
              "      <td>16</td>\n",
              "      <td>5</td>\n",
              "      <td>2016-04-16</td>\n",
              "      <td>15</td>\n",
              "      <td>49.0</td>\n",
              "      <td>10.0</td>\n",
              "      <td>0</td>\n",
              "      <td>0</td>\n",
              "      <td>0</td>\n",
              "      <td>1</td>\n",
              "      <td>0</td>\n",
              "      <td>0</td>\n",
              "      <td>59.0</td>\n",
              "    </tr>\n",
              "    <tr>\n",
              "      <th>401626</th>\n",
              "      <td>2016-06-14 21:00:00</td>\n",
              "      <td>R303</td>\n",
              "      <td>R324</td>\n",
              "      <td>00-00-01</td>\n",
              "      <td>116 ST</td>\n",
              "      <td>23</td>\n",
              "      <td>IRT</td>\n",
              "      <td>REGULAR</td>\n",
              "      <td>4.817626e+06</td>\n",
              "      <td>3187922.0</td>\n",
              "      <td>2016</td>\n",
              "      <td>6</td>\n",
              "      <td>14</td>\n",
              "      <td>1</td>\n",
              "      <td>2016-06-14</td>\n",
              "      <td>21</td>\n",
              "      <td>286.0</td>\n",
              "      <td>177.0</td>\n",
              "      <td>0</td>\n",
              "      <td>0</td>\n",
              "      <td>1</td>\n",
              "      <td>0</td>\n",
              "      <td>0</td>\n",
              "      <td>0</td>\n",
              "      <td>463.0</td>\n",
              "    </tr>\n",
              "    <tr>\n",
              "      <th>1489508</th>\n",
              "      <td>2017-05-06 16:00:00</td>\n",
              "      <td>R245</td>\n",
              "      <td>R051</td>\n",
              "      <td>00-03-02</td>\n",
              "      <td>59 ST</td>\n",
              "      <td>456NQRW</td>\n",
              "      <td>IRT</td>\n",
              "      <td>REGULAR</td>\n",
              "      <td>1.040529e+09</td>\n",
              "      <td>736819328.0</td>\n",
              "      <td>2017</td>\n",
              "      <td>5</td>\n",
              "      <td>6</td>\n",
              "      <td>5</td>\n",
              "      <td>2017-05-06</td>\n",
              "      <td>16</td>\n",
              "      <td>0.0</td>\n",
              "      <td>192.0</td>\n",
              "      <td>0</td>\n",
              "      <td>0</td>\n",
              "      <td>1</td>\n",
              "      <td>0</td>\n",
              "      <td>0</td>\n",
              "      <td>0</td>\n",
              "      <td>192.0</td>\n",
              "    </tr>\n",
              "  </tbody>\n",
              "</table>\n",
              "</div>\n",
              "      <button class=\"colab-df-convert\" onclick=\"convertToInteractive('df-7832c3f8-e47b-4e1d-a19a-f622b381f3f5')\"\n",
              "              title=\"Convert this dataframe to an interactive table.\"\n",
              "              style=\"display:none;\">\n",
              "        \n",
              "  <svg xmlns=\"http://www.w3.org/2000/svg\" height=\"24px\"viewBox=\"0 0 24 24\"\n",
              "       width=\"24px\">\n",
              "    <path d=\"M0 0h24v24H0V0z\" fill=\"none\"/>\n",
              "    <path d=\"M18.56 5.44l.94 2.06.94-2.06 2.06-.94-2.06-.94-.94-2.06-.94 2.06-2.06.94zm-11 1L8.5 8.5l.94-2.06 2.06-.94-2.06-.94L8.5 2.5l-.94 2.06-2.06.94zm10 10l.94 2.06.94-2.06 2.06-.94-2.06-.94-.94-2.06-.94 2.06-2.06.94z\"/><path d=\"M17.41 7.96l-1.37-1.37c-.4-.4-.92-.59-1.43-.59-.52 0-1.04.2-1.43.59L10.3 9.45l-7.72 7.72c-.78.78-.78 2.05 0 2.83L4 21.41c.39.39.9.59 1.41.59.51 0 1.02-.2 1.41-.59l7.78-7.78 2.81-2.81c.8-.78.8-2.07 0-2.86zM5.41 20L4 18.59l7.72-7.72 1.47 1.35L5.41 20z\"/>\n",
              "  </svg>\n",
              "      </button>\n",
              "      \n",
              "  <style>\n",
              "    .colab-df-container {\n",
              "      display:flex;\n",
              "      flex-wrap:wrap;\n",
              "      gap: 12px;\n",
              "    }\n",
              "\n",
              "    .colab-df-convert {\n",
              "      background-color: #E8F0FE;\n",
              "      border: none;\n",
              "      border-radius: 50%;\n",
              "      cursor: pointer;\n",
              "      display: none;\n",
              "      fill: #1967D2;\n",
              "      height: 32px;\n",
              "      padding: 0 0 0 0;\n",
              "      width: 32px;\n",
              "    }\n",
              "\n",
              "    .colab-df-convert:hover {\n",
              "      background-color: #E2EBFA;\n",
              "      box-shadow: 0px 1px 2px rgba(60, 64, 67, 0.3), 0px 1px 3px 1px rgba(60, 64, 67, 0.15);\n",
              "      fill: #174EA6;\n",
              "    }\n",
              "\n",
              "    [theme=dark] .colab-df-convert {\n",
              "      background-color: #3B4455;\n",
              "      fill: #D2E3FC;\n",
              "    }\n",
              "\n",
              "    [theme=dark] .colab-df-convert:hover {\n",
              "      background-color: #434B5C;\n",
              "      box-shadow: 0px 1px 3px 1px rgba(0, 0, 0, 0.15);\n",
              "      filter: drop-shadow(0px 1px 2px rgba(0, 0, 0, 0.3));\n",
              "      fill: #FFFFFF;\n",
              "    }\n",
              "  </style>\n",
              "\n",
              "      <script>\n",
              "        const buttonEl =\n",
              "          document.querySelector('#df-7832c3f8-e47b-4e1d-a19a-f622b381f3f5 button.colab-df-convert');\n",
              "        buttonEl.style.display =\n",
              "          google.colab.kernel.accessAllowed ? 'block' : 'none';\n",
              "\n",
              "        async function convertToInteractive(key) {\n",
              "          const element = document.querySelector('#df-7832c3f8-e47b-4e1d-a19a-f622b381f3f5');\n",
              "          const dataTable =\n",
              "            await google.colab.kernel.invokeFunction('convertToInteractive',\n",
              "                                                     [key], {});\n",
              "          if (!dataTable) return;\n",
              "\n",
              "          const docLinkHtml = 'Like what you see? Visit the ' +\n",
              "            '<a target=\"_blank\" href=https://colab.research.google.com/notebooks/data_table.ipynb>data table notebook</a>'\n",
              "            + ' to learn more about interactive tables.';\n",
              "          element.innerHTML = '';\n",
              "          dataTable['output_type'] = 'display_data';\n",
              "          await google.colab.output.renderOutput(dataTable, element);\n",
              "          const docLink = document.createElement('div');\n",
              "          docLink.innerHTML = docLinkHtml;\n",
              "          element.appendChild(docLink);\n",
              "        }\n",
              "      </script>\n",
              "    </div>\n",
              "  </div>\n",
              "  "
            ],
            "text/plain": [
              "                       time     ca  unit  ... RIT SRT num_passengers\n",
              "39095   2016-04-16 15:30:08  PTH11  R545  ...   0   0           59.0\n",
              "401626  2016-06-14 21:00:00   R303  R324  ...   0   0          463.0\n",
              "1489508 2017-05-06 16:00:00   R245  R051  ...   0   0          192.0\n",
              "\n",
              "[3 rows x 25 columns]"
            ]
          },
          "metadata": {},
          "execution_count": 99
        }
      ]
    },
    {
      "cell_type": "code",
      "source": [
        "df_total['num_passengers'].describe()"
      ],
      "metadata": {
        "colab": {
          "base_uri": "https://localhost:8080/"
        },
        "id": "K8urzIBKv9oN",
        "outputId": "6191bd2d-8a06-4abd-8e74-39fa85b6ba5a"
      },
      "execution_count": null,
      "outputs": [
        {
          "output_type": "execute_result",
          "data": {
            "text/plain": [
              "count    1.828354e+06\n",
              "mean     3.137152e+02\n",
              "std      3.873673e+02\n",
              "min      0.000000e+00\n",
              "25%      3.400000e+01\n",
              "50%      1.740000e+02\n",
              "75%      4.560000e+02\n",
              "max      4.421000e+03\n",
              "Name: num_passengers, dtype: float64"
            ]
          },
          "metadata": {},
          "execution_count": 100
        }
      ]
    },
    {
      "cell_type": "code",
      "source": [
        "df_total[['num_passengers']].boxplot();"
      ],
      "metadata": {
        "colab": {
          "base_uri": "https://localhost:8080/",
          "height": 265
        },
        "id": "me6_9Bmr3ui1",
        "outputId": "e546dbf4-9f08-4e80-b500-292810205309"
      },
      "execution_count": null,
      "outputs": [
        {
          "output_type": "display_data",
          "data": {
            "image/png": "[encoded data removed]",
            "text/plain": [
              "<Figure size 432x288 with 1 Axes>"
            ]
          },
          "metadata": {
            "needs_background": "light"
          }
        }
      ]
    },
    {
      "cell_type": "code",
      "source": [
        "# removing extreme values from the 'num_passengers' variable:\n",
        "threshold = np.nanquantile(df_total['num_passengers'], 0.999)\n",
        "\n",
        "print(threshold)\n",
        "print(df_total.query(\"num_passengers >= {}\".format(threshold)).shape)\n",
        "\n",
        "df_total = df_total.query(\"num_passengers < {}\".format(threshold))\n",
        "df_total.shape"
      ],
      "metadata": {
        "colab": {
          "base_uri": "https://localhost:8080/"
        },
        "id": "QoUFY65ewHEo",
        "outputId": "ba2e2902-b25e-4127-c032-0c7d5dd335f6"
      },
      "execution_count": null,
      "outputs": [
        {
          "output_type": "stream",
          "name": "stdout",
          "text": [
            "2610.0\n",
            "(1830, 25)\n"
          ]
        },
        {
          "output_type": "execute_result",
          "data": {
            "text/plain": [
              "(1826524, 25)"
            ]
          },
          "metadata": {},
          "execution_count": 109
        }
      ]
    },
    {
      "cell_type": "code",
      "source": [
        "df_total['num_passengers'].hist(bins=10);"
      ],
      "metadata": {
        "colab": {
          "base_uri": "https://localhost:8080/",
          "height": 276
        },
        "id": "AWVXiJo_wfM-",
        "outputId": "e09f3395-05cb-4686-cf14-64ed8435c564"
      },
      "execution_count": null,
      "outputs": [
        {
          "output_type": "display_data",
          "data": {
            "image/png": "[encoded data removed]",
            "text/plain": [
              "<Figure size 432x288 with 1 Axes>"
            ]
          },
          "metadata": {
            "needs_background": "light"
          }
        }
      ]
    },
    {
      "cell_type": "code",
      "source": [
        "# picking a device at random:\n",
        "random_device = df_total.sample(1)\n",
        "ca = random_device['ca'].item()\n",
        "unit = random_device['unit'].item()\n",
        "scp = random_device['scp'].item()"
      ],
      "metadata": {
        "id": "nRglm_9S6QYJ"
      },
      "execution_count": null,
      "outputs": []
    },
    {
      "cell_type": "code",
      "source": [
        "# analysing a lag plot, but due to lack of time, I did not continue with this idea of checking auto-correlation:\n",
        "\n",
        "# trying some values for the lag:\n",
        "lag_value = 6\n",
        "pd.plotting.lag_plot(df_total.query(\"ca == '{}' and unit == '{}' and scp == '{}' \".format(ca, unit, scp))['num_passengers'], lag=lag_value);\n",
        "plt.title('{} - {} - {}'.format(ca, unit, scp));\n",
        "plt.show()\n",
        "\n",
        "# the idea of this plot is that the more similar to a 45º line (diagonal) this chart, the more auto-correlated the num_passengers is\n",
        "# which means that the value for some time could be high or low correlated with the value of the previous time following the lag chosen!!\n",
        "\n",
        "# not using this for the model, though... :("
      ],
      "metadata": {
        "colab": {
          "base_uri": "https://localhost:8080/",
          "height": 295
        },
        "id": "72-vp7AvDhTq",
        "outputId": "b984750d-96cd-4de4-e700-df5f1942b70d"
      },
      "execution_count": null,
      "outputs": [
        {
          "output_type": "display_data",
          "data": {
            "image/png": "[encoded data removed]",
            "text/plain": [
              "<Figure size 432x288 with 1 Axes>"
            ]
          },
          "metadata": {
            "needs_background": "light"
          }
        }
      ]
    },
    {
      "cell_type": "markdown",
      "source": [
        "### 4 - Preprocessing the dataset:"
      ],
      "metadata": {
        "id": "aMVK-ytIbMW0"
      }
    },
    {
      "cell_type": "markdown",
      "source": [
        "#### 4.1 - Creating the dummy variables:"
      ],
      "metadata": {
        "id": "vjwbPsCy-pZ3"
      }
    },
    {
      "cell_type": "code",
      "source": [
        "# creating dummy variables for the categorical variable 'division':\n",
        "df_total[['BMT', 'IND', 'IRT', 'PTH', 'RIT', 'SRT']] = pd.get_dummies(df_total['division'])\n",
        "df_total.sample(5)"
      ],
      "metadata": {
        "colab": {
          "base_uri": "https://localhost:8080/",
          "height": 444
        },
        "id": "ecb7xEsT-9xU",
        "outputId": "303d69e7-12c3-4994-f436-6376999cda93"
      },
      "execution_count": null,
      "outputs": [
        {
          "output_type": "execute_result",
          "data": {
            "text/html": [
              "\n",
              "  <div id=\"df-9cabfda5-91ff-481d-99fa-7f07148ca825\">\n",
              "    <div class=\"colab-df-container\">\n",
              "      <div>\n",
              "<style scoped>\n",
              "    .dataframe tbody tr th:only-of-type {\n",
              "        vertical-align: middle;\n",
              "    }\n",
              "\n",
              "    .dataframe tbody tr th {\n",
              "        vertical-align: top;\n",
              "    }\n",
              "\n",
              "    .dataframe thead th {\n",
              "        text-align: right;\n",
              "    }\n",
              "</style>\n",
              "<table border=\"1\" class=\"dataframe\">\n",
              "  <thead>\n",
              "    <tr style=\"text-align: right;\">\n",
              "      <th></th>\n",
              "      <th>time</th>\n",
              "      <th>ca</th>\n",
              "      <th>unit</th>\n",
              "      <th>scp</th>\n",
              "      <th>station</th>\n",
              "      <th>linename</th>\n",
              "      <th>division</th>\n",
              "      <th>desc</th>\n",
              "      <th>entries</th>\n",
              "      <th>exits</th>\n",
              "      <th>year</th>\n",
              "      <th>month</th>\n",
              "      <th>day</th>\n",
              "      <th>week_day</th>\n",
              "      <th>date</th>\n",
              "      <th>hour</th>\n",
              "      <th>entries_diff</th>\n",
              "      <th>exits_diff</th>\n",
              "      <th>BMT</th>\n",
              "      <th>IND</th>\n",
              "      <th>IRT</th>\n",
              "      <th>PTH</th>\n",
              "      <th>RIT</th>\n",
              "      <th>SRT</th>\n",
              "      <th>num_passengers</th>\n",
              "    </tr>\n",
              "  </thead>\n",
              "  <tbody>\n",
              "    <tr>\n",
              "      <th>778607</th>\n",
              "      <td>2017-05-25 13:00:00</td>\n",
              "      <td>N318</td>\n",
              "      <td>R298</td>\n",
              "      <td>00-00-02</td>\n",
              "      <td>NORTHERN BLVD</td>\n",
              "      <td>MR</td>\n",
              "      <td>IND</td>\n",
              "      <td>REGULAR</td>\n",
              "      <td>2325012.0</td>\n",
              "      <td>419113.0</td>\n",
              "      <td>2017</td>\n",
              "      <td>5</td>\n",
              "      <td>25</td>\n",
              "      <td>3</td>\n",
              "      <td>2017-05-25</td>\n",
              "      <td>13</td>\n",
              "      <td>1247.0</td>\n",
              "      <td>36.0</td>\n",
              "      <td>0</td>\n",
              "      <td>1</td>\n",
              "      <td>0</td>\n",
              "      <td>0</td>\n",
              "      <td>0</td>\n",
              "      <td>0</td>\n",
              "      <td>1283.0</td>\n",
              "    </tr>\n",
              "    <tr>\n",
              "      <th>1737088</th>\n",
              "      <td>2017-07-16 12:00:00</td>\n",
              "      <td>N605</td>\n",
              "      <td>R024</td>\n",
              "      <td>00-06-03</td>\n",
              "      <td>SUTPHIN-ARCHER</td>\n",
              "      <td>EJZ</td>\n",
              "      <td>IND</td>\n",
              "      <td>REGULAR</td>\n",
              "      <td>69447456.0</td>\n",
              "      <td>20852538.0</td>\n",
              "      <td>2017</td>\n",
              "      <td>7</td>\n",
              "      <td>16</td>\n",
              "      <td>6</td>\n",
              "      <td>2017-07-16</td>\n",
              "      <td>12</td>\n",
              "      <td>96.0</td>\n",
              "      <td>70.0</td>\n",
              "      <td>0</td>\n",
              "      <td>1</td>\n",
              "      <td>0</td>\n",
              "      <td>0</td>\n",
              "      <td>0</td>\n",
              "      <td>0</td>\n",
              "      <td>166.0</td>\n",
              "    </tr>\n",
              "    <tr>\n",
              "      <th>1625027</th>\n",
              "      <td>2017-01-20 21:00:00</td>\n",
              "      <td>G001</td>\n",
              "      <td>R151</td>\n",
              "      <td>00-00-04</td>\n",
              "      <td>CONEY IS-STILLW</td>\n",
              "      <td>DFNQ</td>\n",
              "      <td>BMT</td>\n",
              "      <td>REGULAR</td>\n",
              "      <td>2994845.0</td>\n",
              "      <td>2139363.0</td>\n",
              "      <td>2017</td>\n",
              "      <td>1</td>\n",
              "      <td>20</td>\n",
              "      <td>4</td>\n",
              "      <td>2017-01-20</td>\n",
              "      <td>21</td>\n",
              "      <td>99.0</td>\n",
              "      <td>60.0</td>\n",
              "      <td>1</td>\n",
              "      <td>0</td>\n",
              "      <td>0</td>\n",
              "      <td>0</td>\n",
              "      <td>0</td>\n",
              "      <td>0</td>\n",
              "      <td>159.0</td>\n",
              "    </tr>\n",
              "    <tr>\n",
              "      <th>1621821</th>\n",
              "      <td>2017-04-29 00:00:00</td>\n",
              "      <td>N070</td>\n",
              "      <td>R012</td>\n",
              "      <td>04-05-01</td>\n",
              "      <td>34 ST-PENN STA</td>\n",
              "      <td>ACE</td>\n",
              "      <td>IND</td>\n",
              "      <td>REGULAR</td>\n",
              "      <td>117440512.0</td>\n",
              "      <td>244.0</td>\n",
              "      <td>2017</td>\n",
              "      <td>4</td>\n",
              "      <td>29</td>\n",
              "      <td>5</td>\n",
              "      <td>2017-04-29</td>\n",
              "      <td>0</td>\n",
              "      <td>0.0</td>\n",
              "      <td>0.0</td>\n",
              "      <td>0</td>\n",
              "      <td>1</td>\n",
              "      <td>0</td>\n",
              "      <td>0</td>\n",
              "      <td>0</td>\n",
              "      <td>0</td>\n",
              "      <td>0.0</td>\n",
              "    </tr>\n",
              "    <tr>\n",
              "      <th>780551</th>\n",
              "      <td>2016-07-06 22:00:00</td>\n",
              "      <td>R203</td>\n",
              "      <td>R043</td>\n",
              "      <td>00-00-00</td>\n",
              "      <td>WALL ST</td>\n",
              "      <td>45</td>\n",
              "      <td>IRT</td>\n",
              "      <td>REGULAR</td>\n",
              "      <td>1802274.0</td>\n",
              "      <td>754880.0</td>\n",
              "      <td>2016</td>\n",
              "      <td>7</td>\n",
              "      <td>6</td>\n",
              "      <td>2</td>\n",
              "      <td>2016-07-06</td>\n",
              "      <td>22</td>\n",
              "      <td>696.0</td>\n",
              "      <td>86.0</td>\n",
              "      <td>0</td>\n",
              "      <td>0</td>\n",
              "      <td>1</td>\n",
              "      <td>0</td>\n",
              "      <td>0</td>\n",
              "      <td>0</td>\n",
              "      <td>782.0</td>\n",
              "    </tr>\n",
              "  </tbody>\n",
              "</table>\n",
              "</div>\n",
              "      <button class=\"colab-df-convert\" onclick=\"convertToInteractive('df-9cabfda5-91ff-481d-99fa-7f07148ca825')\"\n",
              "              title=\"Convert this dataframe to an interactive table.\"\n",
              "              style=\"display:none;\">\n",
              "        \n",
              "  <svg xmlns=\"http://www.w3.org/2000/svg\" height=\"24px\"viewBox=\"0 0 24 24\"\n",
              "       width=\"24px\">\n",
              "    <path d=\"M0 0h24v24H0V0z\" fill=\"none\"/>\n",
              "    <path d=\"M18.56 5.44l.94 2.06.94-2.06 2.06-.94-2.06-.94-.94-2.06-.94 2.06-2.06.94zm-11 1L8.5 8.5l.94-2.06 2.06-.94-2.06-.94L8.5 2.5l-.94 2.06-2.06.94zm10 10l.94 2.06.94-2.06 2.06-.94-2.06-.94-.94-2.06-.94 2.06-2.06.94z\"/><path d=\"M17.41 7.96l-1.37-1.37c-.4-.4-.92-.59-1.43-.59-.52 0-1.04.2-1.43.59L10.3 9.45l-7.72 7.72c-.78.78-.78 2.05 0 2.83L4 21.41c.39.39.9.59 1.41.59.51 0 1.02-.2 1.41-.59l7.78-7.78 2.81-2.81c.8-.78.8-2.07 0-2.86zM5.41 20L4 18.59l7.72-7.72 1.47 1.35L5.41 20z\"/>\n",
              "  </svg>\n",
              "      </button>\n",
              "      \n",
              "  <style>\n",
              "    .colab-df-container {\n",
              "      display:flex;\n",
              "      flex-wrap:wrap;\n",
              "      gap: 12px;\n",
              "    }\n",
              "\n",
              "    .colab-df-convert {\n",
              "      background-color: #E8F0FE;\n",
              "      border: none;\n",
              "      border-radius: 50%;\n",
              "      cursor: pointer;\n",
              "      display: none;\n",
              "      fill: #1967D2;\n",
              "      height: 32px;\n",
              "      padding: 0 0 0 0;\n",
              "      width: 32px;\n",
              "    }\n",
              "\n",
              "    .colab-df-convert:hover {\n",
              "      background-color: #E2EBFA;\n",
              "      box-shadow: 0px 1px 2px rgba(60, 64, 67, 0.3), 0px 1px 3px 1px rgba(60, 64, 67, 0.15);\n",
              "      fill: #174EA6;\n",
              "    }\n",
              "\n",
              "    [theme=dark] .colab-df-convert {\n",
              "      background-color: #3B4455;\n",
              "      fill: #D2E3FC;\n",
              "    }\n",
              "\n",
              "    [theme=dark] .colab-df-convert:hover {\n",
              "      background-color: #434B5C;\n",
              "      box-shadow: 0px 1px 3px 1px rgba(0, 0, 0, 0.15);\n",
              "      filter: drop-shadow(0px 1px 2px rgba(0, 0, 0, 0.3));\n",
              "      fill: #FFFFFF;\n",
              "    }\n",
              "  </style>\n",
              "\n",
              "      <script>\n",
              "        const buttonEl =\n",
              "          document.querySelector('#df-9cabfda5-91ff-481d-99fa-7f07148ca825 button.colab-df-convert');\n",
              "        buttonEl.style.display =\n",
              "          google.colab.kernel.accessAllowed ? 'block' : 'none';\n",
              "\n",
              "        async function convertToInteractive(key) {\n",
              "          const element = document.querySelector('#df-9cabfda5-91ff-481d-99fa-7f07148ca825');\n",
              "          const dataTable =\n",
              "            await google.colab.kernel.invokeFunction('convertToInteractive',\n",
              "                                                     [key], {});\n",
              "          if (!dataTable) return;\n",
              "\n",
              "          const docLinkHtml = 'Like what you see? Visit the ' +\n",
              "            '<a target=\"_blank\" href=https://colab.research.google.com/notebooks/data_table.ipynb>data table notebook</a>'\n",
              "            + ' to learn more about interactive tables.';\n",
              "          element.innerHTML = '';\n",
              "          dataTable['output_type'] = 'display_data';\n",
              "          await google.colab.output.renderOutput(dataTable, element);\n",
              "          const docLink = document.createElement('div');\n",
              "          docLink.innerHTML = docLinkHtml;\n",
              "          element.appendChild(docLink);\n",
              "        }\n",
              "      </script>\n",
              "    </div>\n",
              "  </div>\n",
              "  "
            ],
            "text/plain": [
              "                       time    ca  unit  ... RIT SRT num_passengers\n",
              "778607  2017-05-25 13:00:00  N318  R298  ...   0   0         1283.0\n",
              "1737088 2017-07-16 12:00:00  N605  R024  ...   0   0          166.0\n",
              "1625027 2017-01-20 21:00:00  G001  R151  ...   0   0          159.0\n",
              "1621821 2017-04-29 00:00:00  N070  R012  ...   0   0            0.0\n",
              "780551  2016-07-06 22:00:00  R203  R043  ...   0   0          782.0\n",
              "\n",
              "[5 rows x 25 columns]"
            ]
          },
          "metadata": {},
          "execution_count": 154
        }
      ]
    },
    {
      "cell_type": "markdown",
      "source": [
        "#### 4.2 - Spliting the dataset in train, validation and test sets:"
      ],
      "metadata": {
        "id": "80ctm0ECbRbZ"
      }
    },
    {
      "cell_type": "code",
      "source": [
        "# splitting the dataset to be able to evaluate the performance of the models:\n",
        "\n",
        "# considering only the variables that will be used on the model:\n",
        "# obs: not using 'BMT' to avoid multicolinearity between the divisions (#dummy_variables = #categories - 1):\n",
        "usable_variables = ['month', 'day', 'week_day', 'hour', 'IND', 'IRT', 'PTH', 'RIT', 'SRT']\n",
        "X = df_total[usable_variables]\n",
        "\n",
        "# num_passengers is the target variable (y):\n",
        "y = df_total['num_passengers']\n",
        "\n",
        "# using a function from sklearn to make the split (first only in train and test):\n",
        "X_train, X_test, y_train, y_test = train_test_split(X, y, test_size=0.2, random_state=42)\n",
        "\n",
        "# checking if the shape of each dataset is correct:\n",
        "print(X_train.shape)\n",
        "print(y_train.shape)\n",
        "print(X_test.shape)\n",
        "print(y_test.shape)"
      ],
      "metadata": {
        "colab": {
          "base_uri": "https://localhost:8080/"
        },
        "id": "f34EG7DgP19w",
        "outputId": "72c1a836-9150-4a51-8615-f27438dfe062"
      },
      "execution_count": null,
      "outputs": [
        {
          "output_type": "stream",
          "name": "stdout",
          "text": [
            "(1461219, 9)\n",
            "(1461219,)\n",
            "(365305, 9)\n",
            "(365305,)\n"
          ]
        }
      ]
    },
    {
      "cell_type": "markdown",
      "source": [
        "### 5 - Model selection:"
      ],
      "metadata": {
        "id": "PTpy5YQ1y5XY"
      }
    },
    {
      "cell_type": "markdown",
      "source": [
        "Models that could be evaluated:\n",
        "\n",
        "- Linear Regression (not tried due to lack of time and for this to work, it is necessary to check for a lot of assumptions, make some statistical tests and so on, so I decided to skip the linear regression);\n",
        "- **Decision Tree Regression;**\n",
        "- **Random Forest Regression;**\n",
        "- XGBoosting Regression;\n",
        "- Neural Network.\n",
        "\n",
        "The model with the best performance will be selected for the next step."
      ],
      "metadata": {
        "id": "XsiZiKAUzeO1"
      }
    },
    {
      "cell_type": "markdown",
      "source": [
        "#### 5.1 - Decision Tree Regression:"
      ],
      "metadata": {
        "id": "CWUKuWNo8zFE"
      }
    },
    {
      "cell_type": "code",
      "source": [
        "# Decision Tree Regression:\n",
        "model_tree = DecisionTreeRegressor(random_state=42)\n",
        "\n",
        "# doing a cross validation:\n",
        "cross_val_score(model_tree, X_train, y_train, cv=5, scoring='neg_root_mean_squared_error')"
      ],
      "metadata": {
        "colab": {
          "base_uri": "https://localhost:8080/"
        },
        "id": "jGNWmnzP_fOz",
        "outputId": "921fecdd-d37b-4525-c2c6-d43bd969690f"
      },
      "execution_count": null,
      "outputs": [
        {
          "output_type": "execute_result",
          "data": {
            "text/plain": [
              "array([-321.73894937, -322.4339155 , -319.74728552, -320.93997569,\n",
              "       -322.58612662])"
            ]
          },
          "metadata": {},
          "execution_count": 151
        }
      ]
    },
    {
      "cell_type": "code",
      "source": [
        "# training the model:\n",
        "model_tree.fit(X_train, y_train)"
      ],
      "metadata": {
        "colab": {
          "base_uri": "https://localhost:8080/"
        },
        "id": "jhsOZyxtAo2A",
        "outputId": "35a01768-32cb-49e9-e117-b3699dd9d321"
      },
      "execution_count": null,
      "outputs": [
        {
          "output_type": "execute_result",
          "data": {
            "text/plain": [
              "DecisionTreeRegressor(random_state=42)"
            ]
          },
          "metadata": {},
          "execution_count": 155
        }
      ]
    },
    {
      "cell_type": "code",
      "source": [
        "# checking the importance of each variable:\n",
        "features = X_train.columns\n",
        "importances = model_tree.feature_importances_\n",
        "indices = np.argsort(importances)\n",
        "\n",
        "plt.figure(1)\n",
        "plt.title('Feature Importances');\n",
        "plt.barh(range(len(indices)), importances[indices], color='b', align='center')\n",
        "plt.yticks(range(len(indices)), features[indices])\n",
        "plt.xlabel('Relative Importance');\n",
        "\n",
        "# using the decision tree just to be able to understand the importance of each variable..."
      ],
      "metadata": {
        "colab": {
          "base_uri": "https://localhost:8080/",
          "height": 295
        },
        "id": "Ez86NXHUBJAo",
        "outputId": "bc34d575-84f6-4c3f-d98d-00fdd4677dbc"
      },
      "execution_count": null,
      "outputs": [
        {
          "output_type": "display_data",
          "data": {
            "image/png": "[encoded data removed]",
            "text/plain": [
              "<Figure size 432x288 with 1 Axes>"
            ]
          },
          "metadata": {
            "needs_background": "light"
          }
        }
      ]
    },
    {
      "cell_type": "markdown",
      "source": [
        "#### 5.2 - Random Forest Regression:"
      ],
      "metadata": {
        "id": "g6mpAxTLz7fD"
      }
    },
    {
      "cell_type": "code",
      "source": [
        "# Random Forest Regression:\n",
        "model_forest = RandomForestRegressor(random_state=42)\n",
        "\n",
        "# doing a cross validation:\n",
        "cross_val_score(model_forest, X_train, y_train, cv=3, scoring='neg_root_mean_squared_error')"
      ],
      "metadata": {
        "colab": {
          "base_uri": "https://localhost:8080/"
        },
        "id": "p_Aoaoxj0GeD",
        "outputId": "42a41e84-c61a-46c1-87c8-ef6122068873"
      },
      "execution_count": null,
      "outputs": [
        {
          "output_type": "execute_result",
          "data": {
            "text/plain": [
              "array([-321.23895549, -319.55487509, -321.55911419])"
            ]
          },
          "metadata": {},
          "execution_count": 159
        }
      ]
    },
    {
      "cell_type": "code",
      "source": [
        "# training the model:\n",
        "model_forest.fit(X_train, y_train)"
      ],
      "metadata": {
        "colab": {
          "base_uri": "https://localhost:8080/"
        },
        "id": "meu1qvLi0GbF",
        "outputId": "8bc009f6-9fa6-4143-d1ed-eb7cb6470c6d"
      },
      "execution_count": null,
      "outputs": [
        {
          "output_type": "execute_result",
          "data": {
            "text/plain": [
              "RandomForestRegressor(random_state=42)"
            ]
          },
          "metadata": {},
          "execution_count": 160
        }
      ]
    },
    {
      "cell_type": "markdown",
      "source": [
        "Obs.: Due to lack of time, I will consider the Random Forest the algorithm with the best performance metric (RMSE) on the validation dataset and so I will check it on the test dataset.\n",
        "(With more time, I would try some other regression algorithms and also do a grid search to fine tune the hyperparameters)"
      ],
      "metadata": {
        "id": "c0KCvlhmAtCr"
      }
    },
    {
      "cell_type": "code",
      "source": [
        "# I like to compare the prediction on both train and test datasets:\n",
        "y_train_pred = model_forest.predict(X_train)\n",
        "y_test_pred = model_forest.predict(X_test)"
      ],
      "metadata": {
        "id": "Poj4_3C90GYQ"
      },
      "execution_count": null,
      "outputs": []
    },
    {
      "cell_type": "code",
      "source": [
        "# combining all y values on one dataframe to make the comparison easier:\n",
        "df_train = pd.DataFrame()\n",
        "df_train[usable_variables] = X_train\n",
        "df_train['y_train'] = y_train\n",
        "df_train['y_train_pred'] = y_train_pred\n",
        "\n",
        "\n",
        "df_test = pd.DataFrame()\n",
        "df_test[usable_variables] = X_test\n",
        "df_test['y_test'] = y_test\n",
        "df_test['y_test_pred'] = y_test_pred\n",
        "\n",
        "print(df_train.shape)\n",
        "print(df_test.shape)"
      ],
      "metadata": {
        "colab": {
          "base_uri": "https://localhost:8080/"
        },
        "id": "TCOuStVl16Ae",
        "outputId": "04b2fc28-e3f1-423e-d5a2-3ebf40333cd7"
      },
      "execution_count": null,
      "outputs": [
        {
          "output_type": "stream",
          "name": "stdout",
          "text": [
            "(1461219, 11)\n",
            "(365305, 11)\n"
          ]
        }
      ]
    },
    {
      "cell_type": "code",
      "source": [
        "# calculating the difference between the real and the predicted value and also the percentage difference for each individual row:\n",
        "df_train['diff'] = np.round(np.abs(df_train['y_train'] - df_train['y_train_pred']), 2)\n",
        "df_train['diff_%'] = np.round(np.abs((df_train['y_train'] - df_train['y_train_pred']) / df_train['y_train'] * 100), 2)\n",
        "\n",
        "df_test['diff'] = np.round(np.abs(df_test['y_test'] - df_test['y_test_pred']), 2)\n",
        "df_test['diff_%'] = np.round(np.abs((df_test['y_test'] - df_test['y_test_pred']) / df_test['y_test'] * 100), 2)"
      ],
      "metadata": {
        "id": "Pp7zYAk82nIN"
      },
      "execution_count": null,
      "outputs": []
    },
    {
      "cell_type": "code",
      "source": [
        "# checking the best and worst predictions on the train dataset:\n",
        "df_train.query(\"y_train > 0\").sort_values(by=['diff'], ascending=True)"
      ],
      "metadata": {
        "colab": {
          "base_uri": "https://localhost:8080/",
          "height": 424
        },
        "id": "IkCkamNl2bMN",
        "outputId": "8ab24a67-03bb-4df9-c837-9752a4a094b9"
      },
      "execution_count": null,
      "outputs": [
        {
          "output_type": "execute_result",
          "data": {
            "text/html": [
              "\n",
              "  <div id=\"df-34b41183-6c20-452c-838c-1c1aea80a572\">\n",
              "    <div class=\"colab-df-container\">\n",
              "      <div>\n",
              "<style scoped>\n",
              "    .dataframe tbody tr th:only-of-type {\n",
              "        vertical-align: middle;\n",
              "    }\n",
              "\n",
              "    .dataframe tbody tr th {\n",
              "        vertical-align: top;\n",
              "    }\n",
              "\n",
              "    .dataframe thead th {\n",
              "        text-align: right;\n",
              "    }\n",
              "</style>\n",
              "<table border=\"1\" class=\"dataframe\">\n",
              "  <thead>\n",
              "    <tr style=\"text-align: right;\">\n",
              "      <th></th>\n",
              "      <th>month</th>\n",
              "      <th>day</th>\n",
              "      <th>week_day</th>\n",
              "      <th>hour</th>\n",
              "      <th>IND</th>\n",
              "      <th>IRT</th>\n",
              "      <th>PTH</th>\n",
              "      <th>RIT</th>\n",
              "      <th>SRT</th>\n",
              "      <th>y_train</th>\n",
              "      <th>y_train_pred</th>\n",
              "      <th>diff</th>\n",
              "      <th>diff_%</th>\n",
              "    </tr>\n",
              "  </thead>\n",
              "  <tbody>\n",
              "    <tr>\n",
              "      <th>750814</th>\n",
              "      <td>1</td>\n",
              "      <td>9</td>\n",
              "      <td>0</td>\n",
              "      <td>10</td>\n",
              "      <td>0</td>\n",
              "      <td>0</td>\n",
              "      <td>0</td>\n",
              "      <td>0</td>\n",
              "      <td>1</td>\n",
              "      <td>2.0</td>\n",
              "      <td>2.003333</td>\n",
              "      <td>0.00</td>\n",
              "      <td>0.17</td>\n",
              "    </tr>\n",
              "    <tr>\n",
              "      <th>1387246</th>\n",
              "      <td>10</td>\n",
              "      <td>3</td>\n",
              "      <td>0</td>\n",
              "      <td>5</td>\n",
              "      <td>1</td>\n",
              "      <td>0</td>\n",
              "      <td>0</td>\n",
              "      <td>0</td>\n",
              "      <td>0</td>\n",
              "      <td>69.0</td>\n",
              "      <td>69.003882</td>\n",
              "      <td>0.00</td>\n",
              "      <td>0.01</td>\n",
              "    </tr>\n",
              "    <tr>\n",
              "      <th>749447</th>\n",
              "      <td>6</td>\n",
              "      <td>1</td>\n",
              "      <td>2</td>\n",
              "      <td>10</td>\n",
              "      <td>0</td>\n",
              "      <td>0</td>\n",
              "      <td>0</td>\n",
              "      <td>0</td>\n",
              "      <td>1</td>\n",
              "      <td>1.0</td>\n",
              "      <td>1.002857</td>\n",
              "      <td>0.00</td>\n",
              "      <td>0.29</td>\n",
              "    </tr>\n",
              "    <tr>\n",
              "      <th>37822</th>\n",
              "      <td>6</td>\n",
              "      <td>4</td>\n",
              "      <td>6</td>\n",
              "      <td>12</td>\n",
              "      <td>1</td>\n",
              "      <td>0</td>\n",
              "      <td>0</td>\n",
              "      <td>0</td>\n",
              "      <td>0</td>\n",
              "      <td>57.0</td>\n",
              "      <td>56.999879</td>\n",
              "      <td>0.00</td>\n",
              "      <td>0.00</td>\n",
              "    </tr>\n",
              "    <tr>\n",
              "      <th>357634</th>\n",
              "      <td>5</td>\n",
              "      <td>12</td>\n",
              "      <td>3</td>\n",
              "      <td>10</td>\n",
              "      <td>0</td>\n",
              "      <td>0</td>\n",
              "      <td>0</td>\n",
              "      <td>0</td>\n",
              "      <td>1</td>\n",
              "      <td>1.0</td>\n",
              "      <td>1.003333</td>\n",
              "      <td>0.00</td>\n",
              "      <td>0.33</td>\n",
              "    </tr>\n",
              "    <tr>\n",
              "      <th>...</th>\n",
              "      <td>...</td>\n",
              "      <td>...</td>\n",
              "      <td>...</td>\n",
              "      <td>...</td>\n",
              "      <td>...</td>\n",
              "      <td>...</td>\n",
              "      <td>...</td>\n",
              "      <td>...</td>\n",
              "      <td>...</td>\n",
              "      <td>...</td>\n",
              "      <td>...</td>\n",
              "      <td>...</td>\n",
              "      <td>...</td>\n",
              "    </tr>\n",
              "    <tr>\n",
              "      <th>874854</th>\n",
              "      <td>8</td>\n",
              "      <td>16</td>\n",
              "      <td>1</td>\n",
              "      <td>4</td>\n",
              "      <td>0</td>\n",
              "      <td>0</td>\n",
              "      <td>0</td>\n",
              "      <td>0</td>\n",
              "      <td>0</td>\n",
              "      <td>2568.0</td>\n",
              "      <td>258.011203</td>\n",
              "      <td>2309.99</td>\n",
              "      <td>89.95</td>\n",
              "    </tr>\n",
              "    <tr>\n",
              "      <th>608324</th>\n",
              "      <td>3</td>\n",
              "      <td>12</td>\n",
              "      <td>5</td>\n",
              "      <td>13</td>\n",
              "      <td>0</td>\n",
              "      <td>1</td>\n",
              "      <td>0</td>\n",
              "      <td>0</td>\n",
              "      <td>0</td>\n",
              "      <td>2498.0</td>\n",
              "      <td>142.110604</td>\n",
              "      <td>2355.89</td>\n",
              "      <td>94.31</td>\n",
              "    </tr>\n",
              "    <tr>\n",
              "      <th>1244552</th>\n",
              "      <td>5</td>\n",
              "      <td>4</td>\n",
              "      <td>2</td>\n",
              "      <td>10</td>\n",
              "      <td>1</td>\n",
              "      <td>0</td>\n",
              "      <td>0</td>\n",
              "      <td>0</td>\n",
              "      <td>0</td>\n",
              "      <td>2605.0</td>\n",
              "      <td>218.832114</td>\n",
              "      <td>2386.17</td>\n",
              "      <td>91.60</td>\n",
              "    </tr>\n",
              "    <tr>\n",
              "      <th>509288</th>\n",
              "      <td>12</td>\n",
              "      <td>16</td>\n",
              "      <td>4</td>\n",
              "      <td>9</td>\n",
              "      <td>0</td>\n",
              "      <td>1</td>\n",
              "      <td>0</td>\n",
              "      <td>0</td>\n",
              "      <td>0</td>\n",
              "      <td>2567.0</td>\n",
              "      <td>111.377312</td>\n",
              "      <td>2455.62</td>\n",
              "      <td>95.66</td>\n",
              "    </tr>\n",
              "    <tr>\n",
              "      <th>1803843</th>\n",
              "      <td>10</td>\n",
              "      <td>29</td>\n",
              "      <td>5</td>\n",
              "      <td>8</td>\n",
              "      <td>1</td>\n",
              "      <td>0</td>\n",
              "      <td>0</td>\n",
              "      <td>0</td>\n",
              "      <td>0</td>\n",
              "      <td>2576.0</td>\n",
              "      <td>100.008098</td>\n",
              "      <td>2475.99</td>\n",
              "      <td>96.12</td>\n",
              "    </tr>\n",
              "  </tbody>\n",
              "</table>\n",
              "<p>1291660 rows × 13 columns</p>\n",
              "</div>\n",
              "      <button class=\"colab-df-convert\" onclick=\"convertToInteractive('df-34b41183-6c20-452c-838c-1c1aea80a572')\"\n",
              "              title=\"Convert this dataframe to an interactive table.\"\n",
              "              style=\"display:none;\">\n",
              "        \n",
              "  <svg xmlns=\"http://www.w3.org/2000/svg\" height=\"24px\"viewBox=\"0 0 24 24\"\n",
              "       width=\"24px\">\n",
              "    <path d=\"M0 0h24v24H0V0z\" fill=\"none\"/>\n",
              "    <path d=\"M18.56 5.44l.94 2.06.94-2.06 2.06-.94-2.06-.94-.94-2.06-.94 2.06-2.06.94zm-11 1L8.5 8.5l.94-2.06 2.06-.94-2.06-.94L8.5 2.5l-.94 2.06-2.06.94zm10 10l.94 2.06.94-2.06 2.06-.94-2.06-.94-.94-2.06-.94 2.06-2.06.94z\"/><path d=\"M17.41 7.96l-1.37-1.37c-.4-.4-.92-.59-1.43-.59-.52 0-1.04.2-1.43.59L10.3 9.45l-7.72 7.72c-.78.78-.78 2.05 0 2.83L4 21.41c.39.39.9.59 1.41.59.51 0 1.02-.2 1.41-.59l7.78-7.78 2.81-2.81c.8-.78.8-2.07 0-2.86zM5.41 20L4 18.59l7.72-7.72 1.47 1.35L5.41 20z\"/>\n",
              "  </svg>\n",
              "      </button>\n",
              "      \n",
              "  <style>\n",
              "    .colab-df-container {\n",
              "      display:flex;\n",
              "      flex-wrap:wrap;\n",
              "      gap: 12px;\n",
              "    }\n",
              "\n",
              "    .colab-df-convert {\n",
              "      background-color: #E8F0FE;\n",
              "      border: none;\n",
              "      border-radius: 50%;\n",
              "      cursor: pointer;\n",
              "      display: none;\n",
              "      fill: #1967D2;\n",
              "      height: 32px;\n",
              "      padding: 0 0 0 0;\n",
              "      width: 32px;\n",
              "    }\n",
              "\n",
              "    .colab-df-convert:hover {\n",
              "      background-color: #E2EBFA;\n",
              "      box-shadow: 0px 1px 2px rgba(60, 64, 67, 0.3), 0px 1px 3px 1px rgba(60, 64, 67, 0.15);\n",
              "      fill: #174EA6;\n",
              "    }\n",
              "\n",
              "    [theme=dark] .colab-df-convert {\n",
              "      background-color: #3B4455;\n",
              "      fill: #D2E3FC;\n",
              "    }\n",
              "\n",
              "    [theme=dark] .colab-df-convert:hover {\n",
              "      background-color: #434B5C;\n",
              "      box-shadow: 0px 1px 3px 1px rgba(0, 0, 0, 0.15);\n",
              "      filter: drop-shadow(0px 1px 2px rgba(0, 0, 0, 0.3));\n",
              "      fill: #FFFFFF;\n",
              "    }\n",
              "  </style>\n",
              "\n",
              "      <script>\n",
              "        const buttonEl =\n",
              "          document.querySelector('#df-34b41183-6c20-452c-838c-1c1aea80a572 button.colab-df-convert');\n",
              "        buttonEl.style.display =\n",
              "          google.colab.kernel.accessAllowed ? 'block' : 'none';\n",
              "\n",
              "        async function convertToInteractive(key) {\n",
              "          const element = document.querySelector('#df-34b41183-6c20-452c-838c-1c1aea80a572');\n",
              "          const dataTable =\n",
              "            await google.colab.kernel.invokeFunction('convertToInteractive',\n",
              "                                                     [key], {});\n",
              "          if (!dataTable) return;\n",
              "\n",
              "          const docLinkHtml = 'Like what you see? Visit the ' +\n",
              "            '<a target=\"_blank\" href=https://colab.research.google.com/notebooks/data_table.ipynb>data table notebook</a>'\n",
              "            + ' to learn more about interactive tables.';\n",
              "          element.innerHTML = '';\n",
              "          dataTable['output_type'] = 'display_data';\n",
              "          await google.colab.output.renderOutput(dataTable, element);\n",
              "          const docLink = document.createElement('div');\n",
              "          docLink.innerHTML = docLinkHtml;\n",
              "          element.appendChild(docLink);\n",
              "        }\n",
              "      </script>\n",
              "    </div>\n",
              "  </div>\n",
              "  "
            ],
            "text/plain": [
              "         month  day  week_day  hour  ...  y_train  y_train_pred     diff  diff_%\n",
              "750814       1    9         0    10  ...      2.0      2.003333     0.00    0.17\n",
              "1387246     10    3         0     5  ...     69.0     69.003882     0.00    0.01\n",
              "749447       6    1         2    10  ...      1.0      1.002857     0.00    0.29\n",
              "37822        6    4         6    12  ...     57.0     56.999879     0.00    0.00\n",
              "357634       5   12         3    10  ...      1.0      1.003333     0.00    0.33\n",
              "...        ...  ...       ...   ...  ...      ...           ...      ...     ...\n",
              "874854       8   16         1     4  ...   2568.0    258.011203  2309.99   89.95\n",
              "608324       3   12         5    13  ...   2498.0    142.110604  2355.89   94.31\n",
              "1244552      5    4         2    10  ...   2605.0    218.832114  2386.17   91.60\n",
              "509288      12   16         4     9  ...   2567.0    111.377312  2455.62   95.66\n",
              "1803843     10   29         5     8  ...   2576.0    100.008098  2475.99   96.12\n",
              "\n",
              "[1291660 rows x 13 columns]"
            ]
          },
          "metadata": {},
          "execution_count": 168
        }
      ]
    },
    {
      "cell_type": "code",
      "source": [
        "# checking the best and worst predictions on the test dataset:\n",
        "df_test.query(\"y_test > 0\").sort_values(by=['diff'], ascending=True)"
      ],
      "metadata": {
        "colab": {
          "base_uri": "https://localhost:8080/",
          "height": 424
        },
        "id": "20o6_nh_3ZEa",
        "outputId": "6a610b32-3d46-422c-b897-9bf55839dc17"
      },
      "execution_count": null,
      "outputs": [
        {
          "output_type": "execute_result",
          "data": {
            "text/html": [
              "\n",
              "  <div id=\"df-4330411f-02f0-41e8-8579-0c09f7f87e68\">\n",
              "    <div class=\"colab-df-container\">\n",
              "      <div>\n",
              "<style scoped>\n",
              "    .dataframe tbody tr th:only-of-type {\n",
              "        vertical-align: middle;\n",
              "    }\n",
              "\n",
              "    .dataframe tbody tr th {\n",
              "        vertical-align: top;\n",
              "    }\n",
              "\n",
              "    .dataframe thead th {\n",
              "        text-align: right;\n",
              "    }\n",
              "</style>\n",
              "<table border=\"1\" class=\"dataframe\">\n",
              "  <thead>\n",
              "    <tr style=\"text-align: right;\">\n",
              "      <th></th>\n",
              "      <th>month</th>\n",
              "      <th>day</th>\n",
              "      <th>week_day</th>\n",
              "      <th>hour</th>\n",
              "      <th>IND</th>\n",
              "      <th>IRT</th>\n",
              "      <th>PTH</th>\n",
              "      <th>RIT</th>\n",
              "      <th>SRT</th>\n",
              "      <th>y_test</th>\n",
              "      <th>y_test_pred</th>\n",
              "      <th>diff</th>\n",
              "      <th>diff_%</th>\n",
              "    </tr>\n",
              "  </thead>\n",
              "  <tbody>\n",
              "    <tr>\n",
              "      <th>478651</th>\n",
              "      <td>7</td>\n",
              "      <td>7</td>\n",
              "      <td>3</td>\n",
              "      <td>5</td>\n",
              "      <td>1</td>\n",
              "      <td>0</td>\n",
              "      <td>0</td>\n",
              "      <td>0</td>\n",
              "      <td>0</td>\n",
              "      <td>112.0</td>\n",
              "      <td>111.998205</td>\n",
              "      <td>0.00</td>\n",
              "      <td>0.00</td>\n",
              "    </tr>\n",
              "    <tr>\n",
              "      <th>1519869</th>\n",
              "      <td>4</td>\n",
              "      <td>29</td>\n",
              "      <td>4</td>\n",
              "      <td>9</td>\n",
              "      <td>0</td>\n",
              "      <td>1</td>\n",
              "      <td>0</td>\n",
              "      <td>0</td>\n",
              "      <td>0</td>\n",
              "      <td>32.0</td>\n",
              "      <td>32.000927</td>\n",
              "      <td>0.00</td>\n",
              "      <td>0.00</td>\n",
              "    </tr>\n",
              "    <tr>\n",
              "      <th>1646653</th>\n",
              "      <td>6</td>\n",
              "      <td>27</td>\n",
              "      <td>0</td>\n",
              "      <td>1</td>\n",
              "      <td>0</td>\n",
              "      <td>0</td>\n",
              "      <td>0</td>\n",
              "      <td>0</td>\n",
              "      <td>0</td>\n",
              "      <td>526.0</td>\n",
              "      <td>525.996020</td>\n",
              "      <td>0.00</td>\n",
              "      <td>0.00</td>\n",
              "    </tr>\n",
              "    <tr>\n",
              "      <th>65130</th>\n",
              "      <td>2</td>\n",
              "      <td>10</td>\n",
              "      <td>2</td>\n",
              "      <td>3</td>\n",
              "      <td>0</td>\n",
              "      <td>0</td>\n",
              "      <td>1</td>\n",
              "      <td>0</td>\n",
              "      <td>0</td>\n",
              "      <td>336.0</td>\n",
              "      <td>335.996531</td>\n",
              "      <td>0.00</td>\n",
              "      <td>0.00</td>\n",
              "    </tr>\n",
              "    <tr>\n",
              "      <th>751470</th>\n",
              "      <td>4</td>\n",
              "      <td>28</td>\n",
              "      <td>4</td>\n",
              "      <td>10</td>\n",
              "      <td>0</td>\n",
              "      <td>0</td>\n",
              "      <td>0</td>\n",
              "      <td>0</td>\n",
              "      <td>1</td>\n",
              "      <td>1.0</td>\n",
              "      <td>0.996333</td>\n",
              "      <td>0.00</td>\n",
              "      <td>0.37</td>\n",
              "    </tr>\n",
              "    <tr>\n",
              "      <th>...</th>\n",
              "      <td>...</td>\n",
              "      <td>...</td>\n",
              "      <td>...</td>\n",
              "      <td>...</td>\n",
              "      <td>...</td>\n",
              "      <td>...</td>\n",
              "      <td>...</td>\n",
              "      <td>...</td>\n",
              "      <td>...</td>\n",
              "      <td>...</td>\n",
              "      <td>...</td>\n",
              "      <td>...</td>\n",
              "      <td>...</td>\n",
              "    </tr>\n",
              "    <tr>\n",
              "      <th>1769201</th>\n",
              "      <td>9</td>\n",
              "      <td>8</td>\n",
              "      <td>3</td>\n",
              "      <td>14</td>\n",
              "      <td>1</td>\n",
              "      <td>0</td>\n",
              "      <td>0</td>\n",
              "      <td>0</td>\n",
              "      <td>0</td>\n",
              "      <td>2332.0</td>\n",
              "      <td>90.652452</td>\n",
              "      <td>2241.35</td>\n",
              "      <td>96.11</td>\n",
              "    </tr>\n",
              "    <tr>\n",
              "      <th>569856</th>\n",
              "      <td>10</td>\n",
              "      <td>5</td>\n",
              "      <td>2</td>\n",
              "      <td>1</td>\n",
              "      <td>1</td>\n",
              "      <td>0</td>\n",
              "      <td>0</td>\n",
              "      <td>0</td>\n",
              "      <td>0</td>\n",
              "      <td>2527.0</td>\n",
              "      <td>284.601531</td>\n",
              "      <td>2242.40</td>\n",
              "      <td>88.74</td>\n",
              "    </tr>\n",
              "    <tr>\n",
              "      <th>570852</th>\n",
              "      <td>3</td>\n",
              "      <td>18</td>\n",
              "      <td>5</td>\n",
              "      <td>1</td>\n",
              "      <td>1</td>\n",
              "      <td>0</td>\n",
              "      <td>0</td>\n",
              "      <td>0</td>\n",
              "      <td>0</td>\n",
              "      <td>2600.0</td>\n",
              "      <td>357.120565</td>\n",
              "      <td>2242.88</td>\n",
              "      <td>86.26</td>\n",
              "    </tr>\n",
              "    <tr>\n",
              "      <th>570025</th>\n",
              "      <td>11</td>\n",
              "      <td>2</td>\n",
              "      <td>2</td>\n",
              "      <td>1</td>\n",
              "      <td>1</td>\n",
              "      <td>0</td>\n",
              "      <td>0</td>\n",
              "      <td>0</td>\n",
              "      <td>0</td>\n",
              "      <td>2535.0</td>\n",
              "      <td>291.678499</td>\n",
              "      <td>2243.32</td>\n",
              "      <td>88.49</td>\n",
              "    </tr>\n",
              "    <tr>\n",
              "      <th>1768435</th>\n",
              "      <td>5</td>\n",
              "      <td>5</td>\n",
              "      <td>3</td>\n",
              "      <td>14</td>\n",
              "      <td>1</td>\n",
              "      <td>0</td>\n",
              "      <td>0</td>\n",
              "      <td>0</td>\n",
              "      <td>0</td>\n",
              "      <td>2417.0</td>\n",
              "      <td>90.028130</td>\n",
              "      <td>2326.97</td>\n",
              "      <td>96.28</td>\n",
              "    </tr>\n",
              "  </tbody>\n",
              "</table>\n",
              "<p>322895 rows × 13 columns</p>\n",
              "</div>\n",
              "      <button class=\"colab-df-convert\" onclick=\"convertToInteractive('df-4330411f-02f0-41e8-8579-0c09f7f87e68')\"\n",
              "              title=\"Convert this dataframe to an interactive table.\"\n",
              "              style=\"display:none;\">\n",
              "        \n",
              "  <svg xmlns=\"http://www.w3.org/2000/svg\" height=\"24px\"viewBox=\"0 0 24 24\"\n",
              "       width=\"24px\">\n",
              "    <path d=\"M0 0h24v24H0V0z\" fill=\"none\"/>\n",
              "    <path d=\"M18.56 5.44l.94 2.06.94-2.06 2.06-.94-2.06-.94-.94-2.06-.94 2.06-2.06.94zm-11 1L8.5 8.5l.94-2.06 2.06-.94-2.06-.94L8.5 2.5l-.94 2.06-2.06.94zm10 10l.94 2.06.94-2.06 2.06-.94-2.06-.94-.94-2.06-.94 2.06-2.06.94z\"/><path d=\"M17.41 7.96l-1.37-1.37c-.4-.4-.92-.59-1.43-.59-.52 0-1.04.2-1.43.59L10.3 9.45l-7.72 7.72c-.78.78-.78 2.05 0 2.83L4 21.41c.39.39.9.59 1.41.59.51 0 1.02-.2 1.41-.59l7.78-7.78 2.81-2.81c.8-.78.8-2.07 0-2.86zM5.41 20L4 18.59l7.72-7.72 1.47 1.35L5.41 20z\"/>\n",
              "  </svg>\n",
              "      </button>\n",
              "      \n",
              "  <style>\n",
              "    .colab-df-container {\n",
              "      display:flex;\n",
              "      flex-wrap:wrap;\n",
              "      gap: 12px;\n",
              "    }\n",
              "\n",
              "    .colab-df-convert {\n",
              "      background-color: #E8F0FE;\n",
              "      border: none;\n",
              "      border-radius: 50%;\n",
              "      cursor: pointer;\n",
              "      display: none;\n",
              "      fill: #1967D2;\n",
              "      height: 32px;\n",
              "      padding: 0 0 0 0;\n",
              "      width: 32px;\n",
              "    }\n",
              "\n",
              "    .colab-df-convert:hover {\n",
              "      background-color: #E2EBFA;\n",
              "      box-shadow: 0px 1px 2px rgba(60, 64, 67, 0.3), 0px 1px 3px 1px rgba(60, 64, 67, 0.15);\n",
              "      fill: #174EA6;\n",
              "    }\n",
              "\n",
              "    [theme=dark] .colab-df-convert {\n",
              "      background-color: #3B4455;\n",
              "      fill: #D2E3FC;\n",
              "    }\n",
              "\n",
              "    [theme=dark] .colab-df-convert:hover {\n",
              "      background-color: #434B5C;\n",
              "      box-shadow: 0px 1px 3px 1px rgba(0, 0, 0, 0.15);\n",
              "      filter: drop-shadow(0px 1px 2px rgba(0, 0, 0, 0.3));\n",
              "      fill: #FFFFFF;\n",
              "    }\n",
              "  </style>\n",
              "\n",
              "      <script>\n",
              "        const buttonEl =\n",
              "          document.querySelector('#df-4330411f-02f0-41e8-8579-0c09f7f87e68 button.colab-df-convert');\n",
              "        buttonEl.style.display =\n",
              "          google.colab.kernel.accessAllowed ? 'block' : 'none';\n",
              "\n",
              "        async function convertToInteractive(key) {\n",
              "          const element = document.querySelector('#df-4330411f-02f0-41e8-8579-0c09f7f87e68');\n",
              "          const dataTable =\n",
              "            await google.colab.kernel.invokeFunction('convertToInteractive',\n",
              "                                                     [key], {});\n",
              "          if (!dataTable) return;\n",
              "\n",
              "          const docLinkHtml = 'Like what you see? Visit the ' +\n",
              "            '<a target=\"_blank\" href=https://colab.research.google.com/notebooks/data_table.ipynb>data table notebook</a>'\n",
              "            + ' to learn more about interactive tables.';\n",
              "          element.innerHTML = '';\n",
              "          dataTable['output_type'] = 'display_data';\n",
              "          await google.colab.output.renderOutput(dataTable, element);\n",
              "          const docLink = document.createElement('div');\n",
              "          docLink.innerHTML = docLinkHtml;\n",
              "          element.appendChild(docLink);\n",
              "        }\n",
              "      </script>\n",
              "    </div>\n",
              "  </div>\n",
              "  "
            ],
            "text/plain": [
              "         month  day  week_day  hour  ...  y_test  y_test_pred     diff  diff_%\n",
              "478651       7    7         3     5  ...   112.0   111.998205     0.00    0.00\n",
              "1519869      4   29         4     9  ...    32.0    32.000927     0.00    0.00\n",
              "1646653      6   27         0     1  ...   526.0   525.996020     0.00    0.00\n",
              "65130        2   10         2     3  ...   336.0   335.996531     0.00    0.00\n",
              "751470       4   28         4    10  ...     1.0     0.996333     0.00    0.37\n",
              "...        ...  ...       ...   ...  ...     ...          ...      ...     ...\n",
              "1769201      9    8         3    14  ...  2332.0    90.652452  2241.35   96.11\n",
              "569856      10    5         2     1  ...  2527.0   284.601531  2242.40   88.74\n",
              "570852       3   18         5     1  ...  2600.0   357.120565  2242.88   86.26\n",
              "570025      11    2         2     1  ...  2535.0   291.678499  2243.32   88.49\n",
              "1768435      5    5         3    14  ...  2417.0    90.028130  2326.97   96.28\n",
              "\n",
              "[322895 rows x 13 columns]"
            ]
          },
          "metadata": {},
          "execution_count": 169
        }
      ]
    },
    {
      "cell_type": "code",
      "source": [
        "# checking if the error is uniformly distributed or not:\n",
        "df_train[['diff']].boxplot();"
      ],
      "metadata": {
        "colab": {
          "base_uri": "https://localhost:8080/",
          "height": 265
        },
        "id": "OmEjP1Uf3e0x",
        "outputId": "4deaf8c2-2f7c-4672-b64b-08518cac5eb7"
      },
      "execution_count": null,
      "outputs": [
        {
          "output_type": "display_data",
          "data": {
            "image/png": "[encoded data removed]",
            "text/plain": [
              "<Figure size 432x288 with 1 Axes>"
            ]
          },
          "metadata": {
            "needs_background": "light"
          }
        }
      ]
    },
    {
      "cell_type": "code",
      "source": [
        "# checking if the error is uniformly distributed or not:\n",
        "df_test[['diff']].boxplot();"
      ],
      "metadata": {
        "colab": {
          "base_uri": "https://localhost:8080/",
          "height": 265
        },
        "id": "zVxg8R1A3mng",
        "outputId": "68b77fa9-6868-4506-9106-533ea7681411"
      },
      "execution_count": null,
      "outputs": [
        {
          "output_type": "display_data",
          "data": {
            "image/png": "[encoded data removed]",
            "text/plain": [
              "<Figure size 432x288 with 1 Axes>"
            ]
          },
          "metadata": {
            "needs_background": "light"
          }
        }
      ]
    },
    {
      "cell_type": "code",
      "source": [
        "# Mean error:\n",
        "print('Mean error:')\n",
        "print(df_train['diff'].mean())\n",
        "print(df_test['diff'].mean())\n",
        "\n",
        "print('')\n",
        "# Median error:\n",
        "print('Median error:')\n",
        "print(df_train['diff'].median())\n",
        "print(df_test['diff'].median())"
      ],
      "metadata": {
        "colab": {
          "base_uri": "https://localhost:8080/"
        },
        "id": "z9EajfRUIUC4",
        "outputId": "6b97bf08-e01b-42a1-ee48-c6bc5e84e44c"
      },
      "execution_count": null,
      "outputs": [
        {
          "output_type": "stream",
          "name": "stdout",
          "text": [
            "Mean error:\n",
            "203.08945505774795\n",
            "210.3364261918165\n",
            "\n",
            "Median error:\n",
            "128.98\n",
            "133.78\n"
          ]
        }
      ]
    },
    {
      "cell_type": "markdown",
      "source": [
        "Insights about the model selection:\n",
        "\n",
        "- By looking at the feature importance plot generated using the decision tree, it seems the **hour of the day** is the thing that influences the most the volume of users on some station, which makes sense, because of the different peaks of use on working hours and at night;\n",
        "\n",
        "- The model is terrible for the high values, so it is necessary to return to the EDA step and take a better look on this, before going to the modeling step;\n",
        "\n",
        "- With more time, it is possible to try different algorithms and also run a grid search for each to choose the best combination of hyperparameters."
      ],
      "metadata": {
        "id": "bND7I8pHHVK4"
      }
    },
    {
      "cell_type": "markdown",
      "source": [
        "### 6 - Conclusions:"
      ],
      "metadata": {
        "id": "vSbc9aLb7ngO"
      }
    },
    {
      "cell_type": "markdown",
      "source": [
        "- Using the Random Forest, it was possible to forecast the number of users on a specific hour of the day, for a given month, weekday and which division the station belongs to, with an average error of 200 users;\n",
        "- The model is not good for the extreme high values. This is something that needs further investigation (this outliers are valid values or are something wrong with the data?!?);\n",
        "- Also, to pick the best combination of hyperparameters for each model, it is important to try different combinations and evaluate on a separete validation set, beforing evaluating the final chosen combination on the test set;\n",
        "- I chose to model in a way that the forecasts are on the level of device and per hour. I started analysing the behaviour of the data when grouping things by day and station, but I prefer to not include here, because it would be a whole different analysis and results;\n",
        "- When the model is good enough and are able to forecast by the hour, one practical application could be to plan the number of employees on each sector of the stations and also plan their shifts based on the estimative of users on each hour of the day;\n",
        "- For a model designed to forecast per day and per station, the practical application would be a little different, for example, to plan the maintenance of each station at each day and how many employees to work at each day.\n"
      ],
      "metadata": {
        "id": "rES5iB5871op"
      }
    },
    {
      "cell_type": "markdown",
      "source": [
        "### 7 - Possible improvements and next steps:"
      ],
      "metadata": {
        "id": "dtqfDnzJDkRY"
      }
    },
    {
      "cell_type": "markdown",
      "source": [
        "- With more time, it is possible to use the full dataset, not only the last two years of data, with Big Data environment and tools (Spark for example). Also, to consider all devices, not just 500. To accomplish this, I tried to run this notebook on **Databricks**, but I was not able to make it work so far, so I decided to run the challenge on a smaller dataset;\n",
        "\n",
        "- It is possible to add a lot of new features to train the chosen model, as mentioned before, such as:\n",
        "  1. **station:** maybe create dummy variables to represent each of the **380 stations** or some grouping/classification of the stations to decrease the number of categories needed to become dummy variables;\n",
        "  2. **linename:** separate each train line possible and create dummy variables;\n",
        "  3. **historical variables:** examples: the number of users on the previous period of time, moving average of previous X periods of time, etc. With this, the influence that the past behaviour could possibly have on the current data would be included in the model;\n",
        "\n",
        "- I have tried only 2 types of model (decision tree and random forest) due to the limited time, but the ideal is to continue checking the performance of the other models I listed and some others, before deciding on which model to pick;\n",
        "\n",
        "- A whole other analysis could be done with the data grouped differently, such as per station and per day, so that the forecasting would be for different time windows and serve for different purposes;\n",
        "\n",
        "- It is possible to try some regularization techniques to avoid overfit;\n",
        "\n",
        "- Also, use some libraries that help explain how the model is making the predictions, for the models with low explainability;\n",
        "\n",
        "- Finally, it is possible to save the chosen model on a file, to be used on future cases."
      ],
      "metadata": {
        "id": "az9lXyjkEZV1"
      }
    }
  ]
}